{
  "nbformat": 4,
  "nbformat_minor": 0,
  "metadata": {
    "colab": {
      "provenance": []
    },
    "kernelspec": {
      "name": "python3",
      "display_name": "Python 3"
    },
    "language_info": {
      "name": "python"
    }
  },
  "cells": [
    {
      "cell_type": "markdown",
      "source": [
        "## Парсер сайта по подбору психологов Alter\n",
        "На какие параметры обращаем внимание:\n",
        "\n",
        "* Имя, фамилия\n",
        "* Цена за сессию (руб)\n",
        "*  Город\n",
        "*  Ведет ли онлайн (0,1)\n",
        "*  Подход, в котором работает (может быть несколько)\n",
        "* Специализация (основные запросы, в форме списка)\n",
        "* Опыт работы (в годах)\n",
        "* Возраст\n",
        "* Семейное положение (категориальное)\n",
        "* Пол  (0,1)\n",
        "* Наличие детей\n",
        "* Работает ли с верующими  (0,1)\n",
        "* Является ли фем-френдли  (0,1)\n",
        "* Является ли квир-френдли  (0,1) (обозначено как 💗-френдли)\n",
        "* Работает ли с онко-пациентами (0,1)\n",
        "* Квалифиация: образование (текст)\n",
        "* Наличие видео-приветствия  (0,1)\n",
        "* Наличие аудио-приветствия (0,1)\n",
        "* Раздел \"О себе\" (текст)"
      ],
      "metadata": {
        "id": "WNKEApMc4Yhn"
      }
    },
    {
      "cell_type": "code",
      "execution_count": null,
      "metadata": {
        "id": "0miC9dnP4Vq5"
      },
      "outputs": [],
      "source": [
        "import requests\n",
        "from urllib.request import urlopen\n",
        "from bs4 import BeautifulSoup\n",
        "from tqdm import tqdm"
      ]
    },
    {
      "cell_type": "markdown",
      "source": [
        "# Парсим ссылки на психологов"
      ],
      "metadata": {
        "id": "cA-_u1ZO63QO"
      }
    },
    {
      "cell_type": "code",
      "source": [
        "links = []\n",
        "def parse_page(url):\n",
        "    response = requests.get(url)\n",
        "    soup = BeautifulSoup(response.content, 'html.parser')\n",
        "\n",
        "    cards = soup.find_all('div', class_='psychologist-list__psychologist psychologist-card')  #ищем все кнопочки \"подробнее\"\n",
        "    for card in cards:\n",
        "        link = card.find('a')['href']  # из них забираем ссылочку\n",
        "        full_link = f\"https://alter.ru{link}\"  # кидаем в массив полную ссылку на страницу психолога\n",
        "        links.append(full_link)\n",
        "\n",
        "    return links\n",
        "\n",
        "parse_page('https://alter.ru/psychologists')"
      ],
      "metadata": {
        "id": "V2ilY2ES62jA",
        "colab": {
          "base_uri": "https://localhost:8080/"
        },
        "outputId": "094ba729-e8e0-461e-b18f-99971745121d"
      },
      "execution_count": null,
      "outputs": [
        {
          "output_type": "execute_result",
          "data": {
            "text/plain": [
              "[]"
            ]
          },
          "metadata": {},
          "execution_count": 2
        }
      ]
    },
    {
      "cell_type": "markdown",
      "source": [
        "Выяснилось что страницы появляются динамически и реквест не справился. Плачем, смотрим мем, подключаем селениум\n",
        "\n",
        "<a href=\"https://ibb.co/dwfjphb0\"><img src=\"https://i.ibb.co/W4HGzTDW/IMG-5596.jpg\" alt=\"IMG-5596\" border=\"0\"></a>\n"
      ],
      "metadata": {
        "id": "FHmwmwzEKkn8"
      }
    },
    {
      "cell_type": "code",
      "source": [
        "!pip install selenium\n",
        "!apt-get update  # Обновляем пакеты\n",
        "!apt install -y chromium-chromedriver  # Устанавливаем ChromeDriver"
      ],
      "metadata": {
        "id": "o_TzTiDQKwGV",
        "collapsed": true,
        "outputId": "04a7e89a-87ea-4680-8e1f-1d0cf634eab2",
        "colab": {
          "base_uri": "https://localhost:8080/"
        }
      },
      "execution_count": null,
      "outputs": [
        {
          "output_type": "stream",
          "name": "stdout",
          "text": [
            "Collecting selenium\n",
            "  Downloading selenium-4.29.0-py3-none-any.whl.metadata (7.1 kB)\n",
            "Requirement already satisfied: urllib3<3,>=1.26 in /usr/local/lib/python3.11/dist-packages (from urllib3[socks]<3,>=1.26->selenium) (2.3.0)\n",
            "Collecting trio~=0.17 (from selenium)\n",
            "  Downloading trio-0.29.0-py3-none-any.whl.metadata (8.5 kB)\n",
            "Collecting trio-websocket~=0.9 (from selenium)\n",
            "  Downloading trio_websocket-0.12.2-py3-none-any.whl.metadata (5.1 kB)\n",
            "Requirement already satisfied: certifi>=2021.10.8 in /usr/local/lib/python3.11/dist-packages (from selenium) (2025.1.31)\n",
            "Requirement already satisfied: typing_extensions~=4.9 in /usr/local/lib/python3.11/dist-packages (from selenium) (4.12.2)\n",
            "Requirement already satisfied: websocket-client~=1.8 in /usr/local/lib/python3.11/dist-packages (from selenium) (1.8.0)\n",
            "Requirement already satisfied: attrs>=23.2.0 in /usr/local/lib/python3.11/dist-packages (from trio~=0.17->selenium) (25.1.0)\n",
            "Requirement already satisfied: sortedcontainers in /usr/local/lib/python3.11/dist-packages (from trio~=0.17->selenium) (2.4.0)\n",
            "Requirement already satisfied: idna in /usr/local/lib/python3.11/dist-packages (from trio~=0.17->selenium) (3.10)\n",
            "Collecting outcome (from trio~=0.17->selenium)\n",
            "  Downloading outcome-1.3.0.post0-py2.py3-none-any.whl.metadata (2.6 kB)\n",
            "Requirement already satisfied: sniffio>=1.3.0 in /usr/local/lib/python3.11/dist-packages (from trio~=0.17->selenium) (1.3.1)\n",
            "Collecting wsproto>=0.14 (from trio-websocket~=0.9->selenium)\n",
            "  Downloading wsproto-1.2.0-py3-none-any.whl.metadata (5.6 kB)\n",
            "Requirement already satisfied: pysocks!=1.5.7,<2.0,>=1.5.6 in /usr/local/lib/python3.11/dist-packages (from urllib3[socks]<3,>=1.26->selenium) (1.7.1)\n",
            "Requirement already satisfied: h11<1,>=0.9.0 in /usr/local/lib/python3.11/dist-packages (from wsproto>=0.14->trio-websocket~=0.9->selenium) (0.14.0)\n",
            "Downloading selenium-4.29.0-py3-none-any.whl (9.5 MB)\n",
            "\u001b[2K   \u001b[90m━━━━━━━━━━━━━━━━━━━━━━━━━━━━━━━━━━━━━━━━\u001b[0m \u001b[32m9.5/9.5 MB\u001b[0m \u001b[31m37.3 MB/s\u001b[0m eta \u001b[36m0:00:00\u001b[0m\n",
            "\u001b[?25hDownloading trio-0.29.0-py3-none-any.whl (492 kB)\n",
            "\u001b[2K   \u001b[90m━━━━━━━━━━━━━━━━━━━━━━━━━━━━━━━━━━━━━━━━\u001b[0m \u001b[32m492.9/492.9 kB\u001b[0m \u001b[31m24.9 MB/s\u001b[0m eta \u001b[36m0:00:00\u001b[0m\n",
            "\u001b[?25hDownloading trio_websocket-0.12.2-py3-none-any.whl (21 kB)\n",
            "Downloading outcome-1.3.0.post0-py2.py3-none-any.whl (10 kB)\n",
            "Downloading wsproto-1.2.0-py3-none-any.whl (24 kB)\n",
            "Installing collected packages: wsproto, outcome, trio, trio-websocket, selenium\n",
            "Successfully installed outcome-1.3.0.post0 selenium-4.29.0 trio-0.29.0 trio-websocket-0.12.2 wsproto-1.2.0\n",
            "Get:1 https://cloud.r-project.org/bin/linux/ubuntu jammy-cran40/ InRelease [3,632 B]\n",
            "Get:2 https://developer.download.nvidia.com/compute/cuda/repos/ubuntu2204/x86_64  InRelease [1,581 B]\n",
            "Hit:3 http://archive.ubuntu.com/ubuntu jammy InRelease\n",
            "Get:4 http://archive.ubuntu.com/ubuntu jammy-updates InRelease [128 kB]\n",
            "Get:5 https://r2u.stat.illinois.edu/ubuntu jammy InRelease [6,555 B]\n",
            "Get:6 http://security.ubuntu.com/ubuntu jammy-security InRelease [129 kB]\n",
            "Get:7 https://developer.download.nvidia.com/compute/cuda/repos/ubuntu2204/x86_64  Packages [1,321 kB]\n",
            "Get:8 http://archive.ubuntu.com/ubuntu jammy-backports InRelease [127 kB]\n",
            "Hit:9 https://ppa.launchpadcontent.net/deadsnakes/ppa/ubuntu jammy InRelease\n",
            "Get:10 https://r2u.stat.illinois.edu/ubuntu jammy/main all Packages [8,708 kB]\n",
            "Hit:11 https://ppa.launchpadcontent.net/graphics-drivers/ppa/ubuntu jammy InRelease\n",
            "Get:12 http://archive.ubuntu.com/ubuntu jammy-updates/main amd64 Packages [2,956 kB]\n",
            "Hit:13 https://ppa.launchpadcontent.net/ubuntugis/ppa/ubuntu jammy InRelease\n",
            "Get:14 http://archive.ubuntu.com/ubuntu jammy-updates/universe amd64 Packages [1,533 kB]\n",
            "Get:15 http://archive.ubuntu.com/ubuntu jammy-updates/restricted amd64 Packages [3,830 kB]\n",
            "Get:16 http://security.ubuntu.com/ubuntu jammy-security/restricted amd64 Packages [3,688 kB]\n",
            "Get:17 https://r2u.stat.illinois.edu/ubuntu jammy/main amd64 Packages [2,664 kB]\n",
            "Get:18 http://security.ubuntu.com/ubuntu jammy-security/universe amd64 Packages [1,235 kB]\n",
            "Get:19 http://security.ubuntu.com/ubuntu jammy-security/main amd64 Packages [2,649 kB]\n",
            "Fetched 29.0 MB in 3s (8,749 kB/s)\n",
            "Reading package lists... Done\n",
            "W: Skipping acquire of configured file 'main/source/Sources' as repository 'https://r2u.stat.illinois.edu/ubuntu jammy InRelease' does not seem to provide it (sources.list entry misspelt?)\n",
            "Reading package lists... Done\n",
            "Building dependency tree... Done\n",
            "Reading state information... Done\n",
            "The following additional packages will be installed:\n",
            "  apparmor chromium-browser libfuse3-3 liblzo2-2 snapd squashfs-tools systemd-hwe-hwdb udev\n",
            "Suggested packages:\n",
            "  apparmor-profiles-extra apparmor-utils fuse3 zenity | kdialog\n",
            "The following NEW packages will be installed:\n",
            "  apparmor chromium-browser chromium-chromedriver libfuse3-3 liblzo2-2 snapd squashfs-tools\n",
            "  systemd-hwe-hwdb udev\n",
            "0 upgraded, 9 newly installed, 0 to remove and 32 not upgraded.\n",
            "Need to get 30.1 MB of archives.\n",
            "After this operation, 123 MB of additional disk space will be used.\n",
            "Get:1 http://archive.ubuntu.com/ubuntu jammy-updates/main amd64 apparmor amd64 3.0.4-2ubuntu2.4 [598 kB]\n",
            "Get:2 http://archive.ubuntu.com/ubuntu jammy/main amd64 liblzo2-2 amd64 2.10-2build3 [53.7 kB]\n",
            "Get:3 http://archive.ubuntu.com/ubuntu jammy/main amd64 squashfs-tools amd64 1:4.5-3build1 [159 kB]\n",
            "Get:4 http://archive.ubuntu.com/ubuntu jammy-updates/main amd64 udev amd64 249.11-0ubuntu3.12 [1,557 kB]\n",
            "Get:5 http://archive.ubuntu.com/ubuntu jammy/main amd64 libfuse3-3 amd64 3.10.5-1build1 [81.2 kB]\n",
            "Get:6 http://archive.ubuntu.com/ubuntu jammy-updates/main amd64 snapd amd64 2.66.1+22.04 [27.6 MB]\n",
            "Get:7 http://archive.ubuntu.com/ubuntu jammy-updates/universe amd64 chromium-browser amd64 1:85.0.4183.83-0ubuntu2.22.04.1 [49.2 kB]\n",
            "Get:8 http://archive.ubuntu.com/ubuntu jammy-updates/universe amd64 chromium-chromedriver amd64 1:85.0.4183.83-0ubuntu2.22.04.1 [2,308 B]\n",
            "Get:9 http://archive.ubuntu.com/ubuntu jammy-updates/main amd64 systemd-hwe-hwdb all 249.11.5 [3,228 B]\n",
            "Fetched 30.1 MB in 3s (11.7 MB/s)\n",
            "Preconfiguring packages ...\n",
            "Selecting previously unselected package apparmor.\n",
            "(Reading database ... 124947 files and directories currently installed.)\n",
            "Preparing to unpack .../0-apparmor_3.0.4-2ubuntu2.4_amd64.deb ...\n",
            "Unpacking apparmor (3.0.4-2ubuntu2.4) ...\n",
            "Selecting previously unselected package liblzo2-2:amd64.\n",
            "Preparing to unpack .../1-liblzo2-2_2.10-2build3_amd64.deb ...\n",
            "Unpacking liblzo2-2:amd64 (2.10-2build3) ...\n",
            "Selecting previously unselected package squashfs-tools.\n",
            "Preparing to unpack .../2-squashfs-tools_1%3a4.5-3build1_amd64.deb ...\n",
            "Unpacking squashfs-tools (1:4.5-3build1) ...\n",
            "Selecting previously unselected package udev.\n",
            "Preparing to unpack .../3-udev_249.11-0ubuntu3.12_amd64.deb ...\n",
            "Unpacking udev (249.11-0ubuntu3.12) ...\n",
            "Selecting previously unselected package libfuse3-3:amd64.\n",
            "Preparing to unpack .../4-libfuse3-3_3.10.5-1build1_amd64.deb ...\n",
            "Unpacking libfuse3-3:amd64 (3.10.5-1build1) ...\n",
            "Selecting previously unselected package snapd.\n",
            "Preparing to unpack .../5-snapd_2.66.1+22.04_amd64.deb ...\n",
            "Unpacking snapd (2.66.1+22.04) ...\n",
            "Setting up apparmor (3.0.4-2ubuntu2.4) ...\n",
            "Created symlink /etc/systemd/system/sysinit.target.wants/apparmor.service → /lib/systemd/system/apparmor.service.\n",
            "Setting up liblzo2-2:amd64 (2.10-2build3) ...\n",
            "Setting up squashfs-tools (1:4.5-3build1) ...\n",
            "Setting up udev (249.11-0ubuntu3.12) ...\n",
            "invoke-rc.d: could not determine current runlevel\n",
            "invoke-rc.d: policy-rc.d denied execution of start.\n",
            "Setting up libfuse3-3:amd64 (3.10.5-1build1) ...\n",
            "Setting up snapd (2.66.1+22.04) ...\n",
            "Created symlink /etc/systemd/system/multi-user.target.wants/snapd.apparmor.service → /lib/systemd/system/snapd.apparmor.service.\n",
            "Created symlink /etc/systemd/system/multi-user.target.wants/snapd.autoimport.service → /lib/systemd/system/snapd.autoimport.service.\n",
            "Created symlink /etc/systemd/system/multi-user.target.wants/snapd.core-fixup.service → /lib/systemd/system/snapd.core-fixup.service.\n",
            "Created symlink /etc/systemd/system/multi-user.target.wants/snapd.recovery-chooser-trigger.service → /lib/systemd/system/snapd.recovery-chooser-trigger.service.\n",
            "Created symlink /etc/systemd/system/multi-user.target.wants/snapd.seeded.service → /lib/systemd/system/snapd.seeded.service.\n",
            "Created symlink /etc/systemd/system/cloud-final.service.wants/snapd.seeded.service → /lib/systemd/system/snapd.seeded.service.\n",
            "Unit /lib/systemd/system/snapd.seeded.service is added as a dependency to a non-existent unit cloud-final.service.\n",
            "Created symlink /etc/systemd/system/multi-user.target.wants/snapd.service → /lib/systemd/system/snapd.service.\n",
            "Created symlink /etc/systemd/system/timers.target.wants/snapd.snap-repair.timer → /lib/systemd/system/snapd.snap-repair.timer.\n",
            "Created symlink /etc/systemd/system/sockets.target.wants/snapd.socket → /lib/systemd/system/snapd.socket.\n",
            "Created symlink /etc/systemd/system/final.target.wants/snapd.system-shutdown.service → /lib/systemd/system/snapd.system-shutdown.service.\n",
            "Selecting previously unselected package chromium-browser.\n",
            "(Reading database ... 125384 files and directories currently installed.)\n",
            "Preparing to unpack .../chromium-browser_1%3a85.0.4183.83-0ubuntu2.22.04.1_amd64.deb ...\n",
            "=> Installing the chromium snap\n",
            "==> Checking connectivity with the snap store\n",
            "===> System doesn't have a working snapd, skipping\n",
            "Unpacking chromium-browser (1:85.0.4183.83-0ubuntu2.22.04.1) ...\n",
            "Selecting previously unselected package chromium-chromedriver.\n",
            "Preparing to unpack .../chromium-chromedriver_1%3a85.0.4183.83-0ubuntu2.22.04.1_amd64.deb ...\n",
            "Unpacking chromium-chromedriver (1:85.0.4183.83-0ubuntu2.22.04.1) ...\n",
            "Selecting previously unselected package systemd-hwe-hwdb.\n",
            "Preparing to unpack .../systemd-hwe-hwdb_249.11.5_all.deb ...\n",
            "Unpacking systemd-hwe-hwdb (249.11.5) ...\n",
            "Setting up systemd-hwe-hwdb (249.11.5) ...\n",
            "Setting up chromium-browser (1:85.0.4183.83-0ubuntu2.22.04.1) ...\n",
            "update-alternatives: using /usr/bin/chromium-browser to provide /usr/bin/x-www-browser (x-www-browser) in auto mode\n",
            "update-alternatives: using /usr/bin/chromium-browser to provide /usr/bin/gnome-www-browser (gnome-www-browser) in auto mode\n",
            "Setting up chromium-chromedriver (1:85.0.4183.83-0ubuntu2.22.04.1) ...\n",
            "Processing triggers for udev (249.11-0ubuntu3.12) ...\n",
            "Processing triggers for mailcap (3.70+nmu1ubuntu1) ...\n",
            "Processing triggers for hicolor-icon-theme (0.17-2) ...\n",
            "Processing triggers for libc-bin (2.35-0ubuntu3.8) ...\n",
            "/sbin/ldconfig.real: /usr/local/lib/libtbbmalloc_proxy.so.2 is not a symbolic link\n",
            "\n",
            "/sbin/ldconfig.real: /usr/local/lib/libtbbbind.so.3 is not a symbolic link\n",
            "\n",
            "/sbin/ldconfig.real: /usr/local/lib/libur_adapter_level_zero.so.0 is not a symbolic link\n",
            "\n",
            "/sbin/ldconfig.real: /usr/local/lib/libtbbbind_2_5.so.3 is not a symbolic link\n",
            "\n",
            "/sbin/ldconfig.real: /usr/local/lib/libtbbmalloc.so.2 is not a symbolic link\n",
            "\n",
            "/sbin/ldconfig.real: /usr/local/lib/libur_loader.so.0 is not a symbolic link\n",
            "\n",
            "/sbin/ldconfig.real: /usr/local/lib/libumf.so.0 is not a symbolic link\n",
            "\n",
            "/sbin/ldconfig.real: /usr/local/lib/libtbbbind_2_0.so.3 is not a symbolic link\n",
            "\n",
            "/sbin/ldconfig.real: /usr/local/lib/libhwloc.so.15 is not a symbolic link\n",
            "\n",
            "/sbin/ldconfig.real: /usr/local/lib/libtcm_debug.so.1 is not a symbolic link\n",
            "\n",
            "/sbin/ldconfig.real: /usr/local/lib/libur_adapter_opencl.so.0 is not a symbolic link\n",
            "\n",
            "/sbin/ldconfig.real: /usr/local/lib/libtbb.so.12 is not a symbolic link\n",
            "\n",
            "/sbin/ldconfig.real: /usr/local/lib/libtcm.so.1 is not a symbolic link\n",
            "\n",
            "Processing triggers for man-db (2.10.2-1) ...\n",
            "Processing triggers for dbus (1.12.20-2ubuntu4.1) ...\n"
          ]
        }
      ]
    },
    {
      "cell_type": "code",
      "source": [
        "# импорт всего на свете\n",
        "from selenium import webdriver\n",
        "from selenium.webdriver.chrome.service import Service\n",
        "from selenium.webdriver.chrome.options import Options\n",
        "from selenium.webdriver.common.by import By\n",
        "import time\n",
        "from selenium.webdriver.support.ui import WebDriverWait\n",
        "from selenium.webdriver.support import expected_conditions as EC\n",
        "from selenium.common.exceptions import TimeoutException\n",
        "import pandas as pd\n",
        "from tqdm import tqdm\n",
        "\n",
        "chrome_options = Options()\n",
        "\n",
        "chrome_options.page_load_strategy = 'eager'\n",
        "chrome_options.add_argument('--headless')\n",
        "chrome_options.add_argument(\"--disable-dev-shm-usage\")\n",
        "chrome_options.add_argument(\"--no-sandbox\")\n",
        "chrome_options.add_argument('--disable-gpu')\n",
        "\n",
        "\n",
        "driver = webdriver.Chrome(options=chrome_options)\n"
      ],
      "metadata": {
        "id": "b4Aca_lhKpm6"
      },
      "execution_count": null,
      "outputs": []
    },
    {
      "cell_type": "markdown",
      "source": [
        "После такого количества грустного текста срочно поднимаем настроение картинкой\n",
        "\n",
        "<a href=\"https://ibb.co/zVCwKLKN\"><img src=\"https://i.ibb.co/3mVHt8tk/IMG-5602.jpg\" alt=\"IMG-5602\" border=\"0\"></a>"
      ],
      "metadata": {
        "id": "eJ3OW0dWowDN"
      }
    },
    {
      "cell_type": "code",
      "source": [
        "def parse_page(url, links):\n",
        "    try:\n",
        "        driver.get(url) #заходим на страничку и ждем загрузки или 15 секунд\n",
        "        WebDriverWait(driver, 15).until(\n",
        "            EC.presence_of_element_located((By.CSS_SELECTOR, 'div.psychologist-list__psychologist.psychologist-card'))\n",
        "        )\n",
        "\n",
        "        # ищем все карточки на странице\n",
        "        cards = driver.find_elements(By.CSS_SELECTOR, 'div.psychologist-list__psychologist.psychologist-card')\n",
        "        links = []\n",
        "        for card in cards:\n",
        "            try:\n",
        "                link = card.find_element(By.CSS_SELECTOR, 'a.psychologist').get_attribute('href')\n",
        "                links.append(link)\n",
        "            except Exception as e:\n",
        "                print(f\"Ошибка при поиске ссылки в карточке: {e}\")\n",
        "\n",
        "        return links\n",
        "\n",
        "    except TimeoutException as e: #если не нашли такую страничку то дальше просто идем и регистрируем ошибку\n",
        "        print(f\"Ошибка при парсинге страницы {url}: {e}\")\n",
        "        return None  # возвращаем None, чтобы обозначить ошибку\n",
        "    return links"
      ],
      "metadata": {
        "id": "H4XpjJ7VOkHg"
      },
      "execution_count": null,
      "outputs": []
    },
    {
      "cell_type": "markdown",
      "source": [
        "Парсим линки на всех психологов на платформе"
      ],
      "metadata": {
        "id": "CRkh-iPRU6zb"
      }
    },
    {
      "cell_type": "code",
      "source": [
        "driver = webdriver.Chrome(options=chrome_options)\n",
        "errors = []\n",
        "links = set()\n",
        "while len(links) < 876: # пояснение почему тут нужен while будет ниже в парсинге доп.массивов\n",
        "    driver.get(\"https://alter.ru/psychologists/1\")\n",
        "    for i in tqdm(range(1, 147), desc=\"Парсинг ссылок\", unit=\"страница\"): #количество страниц на сайте тут и далее определяли ручками на момент 28.02.25\n",
        "        # Парсим текущую страницу\n",
        "        new_links = [a.split('?')[0] for a in parse_page(driver.current_url, links)]\n",
        "        links.update(new_links)\n",
        "\n",
        "        # Переход на следующую страницу\n",
        "        try:\n",
        "            next_button = WebDriverWait(driver, 10).until(\n",
        "                EC.element_to_be_clickable((By.CSS_SELECTOR, \"li.page-item a.page-link[href='#next']\"))\n",
        "            )\n",
        "            if \"disabled\" in next_button.get_attribute(\"class\"):\n",
        "                break  # Если кнопка \"Далее\" неактивна, завершаем\n",
        "            next_button.click()\n",
        "        except:\n",
        "            break  # Если кнопка \"Далее\" не найдена, завершаем\n",
        "            errors += driver.current_url\n",
        "    print(f\"Найдено {len(links)} ссылок\")\n"
      ],
      "metadata": {
        "id": "YpOKSCuiLTyX",
        "colab": {
          "base_uri": "https://localhost:8080/"
        },
        "outputId": "01bba4b9-c91a-4e4f-fed8-78fbacec6414"
      },
      "execution_count": null,
      "outputs": [
        {
          "metadata": {
            "tags": null
          },
          "name": "stderr",
          "output_type": "stream",
          "text": [
            "Парсинг ссылок:  99%|█████████▉| 145/146 [12:19<00:05,  5.10s/страница]\n"
          ]
        },
        {
          "metadata": {
            "tags": null
          },
          "name": "stdout",
          "output_type": "stream",
          "text": [
            "Найдено 716 ссылок\n"
          ]
        },
        {
          "output_type": "stream",
          "name": "stderr",
          "text": [
            "Парсинг ссылок:  99%|█████████▉| 145/146 [11:50<00:04,  4.90s/страница]\n"
          ]
        },
        {
          "output_type": "stream",
          "name": "stdout",
          "text": [
            "Найдено 833 ссылок\n"
          ]
        },
        {
          "output_type": "stream",
          "name": "stderr",
          "text": [
            "Парсинг ссылок:  99%|█████████▉| 145/146 [12:05<00:05,  5.00s/страница]\n"
          ]
        },
        {
          "output_type": "stream",
          "name": "stdout",
          "text": [
            "Найдено 866 ссылок\n"
          ]
        },
        {
          "output_type": "stream",
          "name": "stderr",
          "text": [
            "Парсинг ссылок:  99%|█████████▉| 145/146 [12:05<00:05,  5.00s/страница]\n"
          ]
        },
        {
          "output_type": "stream",
          "name": "stdout",
          "text": [
            "Найдено 872 ссылок\n"
          ]
        },
        {
          "output_type": "stream",
          "name": "stderr",
          "text": [
            "Парсинг ссылок: 100%|██████████| 146/146 [11:43<00:00,  4.82s/страница]\n"
          ]
        },
        {
          "output_type": "stream",
          "name": "stdout",
          "text": [
            "Найдено 875 ссылок\n"
          ]
        },
        {
          "output_type": "stream",
          "name": "stderr",
          "text": [
            "Парсинг ссылок: 100%|██████████| 146/146 [12:28<00:00,  5.13s/страница]"
          ]
        },
        {
          "output_type": "stream",
          "name": "stdout",
          "text": [
            "Найдено 877 ссылок\n"
          ]
        },
        {
          "output_type": "stream",
          "name": "stderr",
          "text": [
            "\n"
          ]
        }
      ]
    },
    {
      "cell_type": "markdown",
      "source": [
        "Ну мы че-то спарсили, теперь по каждой ссылочке обработаем психологов"
      ],
      "metadata": {
        "id": "hZzS8BA7udnb"
      }
    },
    {
      "cell_type": "markdown",
      "source": [
        "Экспортнем все ссылки"
      ],
      "metadata": {
        "id": "TEmCinBstNwC"
      }
    },
    {
      "cell_type": "code",
      "source": [
        "links = list(links)\n",
        "with open(\"links.txt\", \"w\", encoding=\"utf-8\") as file:\n",
        "    for link in links:\n",
        "        file.write(f\"{link}\\n\")"
      ],
      "metadata": {
        "id": "Vb2vmoU-sz-N"
      },
      "execution_count": null,
      "outputs": []
    },
    {
      "cell_type": "markdown",
      "source": [
        "# Выделяем штуки из кода страницы"
      ],
      "metadata": {
        "id": "nWpBGRRtFizV"
      }
    },
    {
      "cell_type": "code",
      "source": [
        "driver = webdriver.Chrome(options=chrome_options)\n",
        "\n",
        "url = 'https://alter.ru/psychologists/budva/ekaterina-fimina' #будем тестить все на ней, потому что у одной из нас маму зовут Екатерина Зимина\n",
        "driver.get(url)\n",
        "WebDriverWait(driver, 30).until(\n",
        "    EC.presence_of_element_located((By.CSS_SELECTOR, 'h1.style_title__rerZD')))\n",
        "name = driver.find_element(By.CSS_SELECTOR, 'h1.style_title__rerZD').text\n",
        "name"
      ],
      "metadata": {
        "colab": {
          "base_uri": "https://localhost:8080/",
          "height": 36
        },
        "id": "FIPGVQplBTX8",
        "outputId": "f815618c-577a-4b0f-a164-027e1940f8b7"
      },
      "execution_count": null,
      "outputs": [
        {
          "output_type": "execute_result",
          "data": {
            "text/plain": [
              "'Екатерина Фимина'"
            ],
            "application/vnd.google.colaboratory.intrinsic+json": {
              "type": "string"
            }
          },
          "metadata": {},
          "execution_count": 10
        }
      ]
    },
    {
      "cell_type": "markdown",
      "source": [
        "Стоимость"
      ],
      "metadata": {
        "id": "SZUlAl-gFcyu"
      }
    },
    {
      "cell_type": "code",
      "source": [
        "driver.get(url)\n",
        "WebDriverWait(driver, 30).until(\n",
        "    EC.presence_of_element_located((By.CSS_SELECTOR, 'span.style_price__fTH3C span.is-nowrap')))\n",
        "price = int(driver.find_element(By.CSS_SELECTOR, 'span.style_price__fTH3C span.is-nowrap').text.replace(' ₽', ''))\n",
        "price"
      ],
      "metadata": {
        "colab": {
          "base_uri": "https://localhost:8080/"
        },
        "id": "UWdpXTXpC-N8",
        "outputId": "28cee4d1-23d0-4f1c-ae1e-95d0be3ce39c"
      },
      "execution_count": null,
      "outputs": [
        {
          "output_type": "execute_result",
          "data": {
            "text/plain": [
              "3500"
            ]
          },
          "metadata": {},
          "execution_count": 8
        }
      ]
    },
    {
      "cell_type": "markdown",
      "source": [
        "Возраст и опыт"
      ],
      "metadata": {
        "id": "KVaxauitFttg"
      }
    },
    {
      "cell_type": "code",
      "source": [
        "WebDriverWait(driver, 30).until(\n",
        "    EC.presence_of_element_located((By.CSS_SELECTOR, 'span.style_experience__CluEG')))\n",
        "age = int(driver.find_element(By.CSS_SELECTOR, 'span.style_age__hYhw7').text.split()[0])\n",
        "experience = int(driver.find_element(By.CSS_SELECTOR, 'span.style_experience__CluEG').text.split()[0])\n",
        "age, experience"
      ],
      "metadata": {
        "id": "CwaDK6k0FtQu",
        "colab": {
          "base_uri": "https://localhost:8080/"
        },
        "outputId": "6529b481-d9d7-43fe-c1ee-97cd2f986b0e"
      },
      "execution_count": null,
      "outputs": [
        {
          "output_type": "execute_result",
          "data": {
            "text/plain": [
              "(59, 7)"
            ]
          },
          "metadata": {},
          "execution_count": 27
        }
      ]
    },
    {
      "cell_type": "markdown",
      "source": [
        "Принимает онлайн и лично"
      ],
      "metadata": {
        "id": "pz_3Ow23Ff_r"
      }
    },
    {
      "cell_type": "code",
      "source": [
        "WebDriverWait(driver, 30).until(\n",
        "    EC.presence_of_element_located((By.CSS_SELECTOR, 'span.style_location__DucmB')))\n",
        "online = (1 if 'онлайн' in driver.find_element(By.CSS_SELECTOR, 'span.style_location__DucmB').text else 0)\n",
        "in_person = (1 if 'лично' in driver.find_element(By.CSS_SELECTOR, 'span.style_location__DucmB').text else 0)\n",
        "online, in_person"
      ],
      "metadata": {
        "id": "rl_WkeYpFDlI",
        "colab": {
          "base_uri": "https://localhost:8080/"
        },
        "outputId": "0d894394-19ce-477d-d605-ca524220dd60"
      },
      "execution_count": null,
      "outputs": [
        {
          "output_type": "execute_result",
          "data": {
            "text/plain": [
              "(1, 0)"
            ]
          },
          "metadata": {},
          "execution_count": 28
        }
      ]
    },
    {
      "cell_type": "markdown",
      "source": [
        "Город"
      ],
      "metadata": {
        "id": "7otsps-fGR8n"
      }
    },
    {
      "cell_type": "code",
      "source": [
        "WebDriverWait(driver, 30).until(\n",
        "    EC.presence_of_element_located((By.CSS_SELECTOR, 'div.style_city__ANaA_ span.style_blmText__6echM')))\n",
        "city = driver.find_element(By.CSS_SELECTOR, 'div.style_city__ANaA_ span.style_blmText__6echM').text\n",
        "city"
      ],
      "metadata": {
        "id": "Up7ch1lyGWM0",
        "colab": {
          "base_uri": "https://localhost:8080/",
          "height": 36
        },
        "outputId": "f2b28247-694c-4b40-f718-cb02d52aee6d"
      },
      "execution_count": null,
      "outputs": [
        {
          "output_type": "execute_result",
          "data": {
            "text/plain": [
              "'Будва'"
            ],
            "application/vnd.google.colaboratory.intrinsic+json": {
              "type": "string"
            }
          },
          "metadata": {},
          "execution_count": 19
        }
      ]
    },
    {
      "cell_type": "markdown",
      "source": [
        "Подход"
      ],
      "metadata": {
        "id": "zh3-a3iSJ6kW"
      }
    },
    {
      "cell_type": "code",
      "source": [
        "WebDriverWait(driver, 30).until(\n",
        "    EC.presence_of_element_located((By.CSS_SELECTOR, 'div.style_list__ro209')))\n",
        "approaches = driver.find_elements(By.CSS_SELECTOR, 'span.style_name__9qe2P')\n",
        "approach_list = [approach.text for approach in approaches]"
      ],
      "metadata": {
        "id": "UWsGJrTCJ8xs"
      },
      "execution_count": null,
      "outputs": []
    },
    {
      "cell_type": "markdown",
      "source": [
        "Психолог о себе"
      ],
      "metadata": {
        "id": "XvV36XzLKsJ6"
      }
    },
    {
      "cell_type": "code",
      "source": [
        "url = 'https://alter.ru/psychologists/kostroma/nadezhda-golubeva'\n",
        "driver.get(url)\n",
        "try:\n",
        "    # Ждем загрузки контейнера с абзацами\n",
        "    WebDriverWait(driver, 10).until(\n",
        "        EC.presence_of_element_located((By.CSS_SELECTOR, 'div.style_paragraphs__AXJr2'))\n",
        "    )\n",
        "\n",
        "    # Прокручиваем страницу до кнопки \"Показать больше\"\n",
        "    show_more_button = driver.find_element(By.CSS_SELECTOR, 'span[data-testid=\"psy-profile-about-test-more\"]')\n",
        "    driver.execute_script(\"arguments[0].scrollIntoView(true);\", show_more_button)\n",
        "    time.sleep(1)  # Ждем завершения прокрутки\n",
        "\n",
        "    # Кликаем по кнопке с помощью JavaScript\n",
        "    driver.execute_script(\"arguments[0].click();\", show_more_button)\n",
        "\n",
        "    # Ждем обновления списка\n",
        "    WebDriverWait(driver, 10).until(\n",
        "        EC.presence_of_element_located((By.CSS_SELECTOR, 'div.style_paragraphs__AXJr2 span.style_blmText__6echM'))\n",
        "    )\n",
        "\n",
        "    # Ищем все элементы с текстом\n",
        "    about = driver.find_elements(By.CSS_SELECTOR, 'div.style_paragraphs__AXJr2 span.style_blmText__6echM')\n",
        "    about =' '.join([abouts.text for abouts in about])\n",
        "except Exception as e:\n",
        "    print(f\"Ошибка при парсинге абзацев: {e}\")\n",
        "\n",
        "about"
      ],
      "metadata": {
        "colab": {
          "base_uri": "https://localhost:8080/",
          "height": 109
        },
        "id": "Y3mi5MqYKrzF",
        "outputId": "befb86ea-c0f3-441e-fedc-2d5af5320007"
      },
      "execution_count": null,
      "outputs": [
        {
          "output_type": "execute_result",
          "data": {
            "text/plain": [
              "'Опираясь на свой клиентский опыт и опыт моих клиентов, могу сказать, что психотерапия помогает повысить качество жизни. В чем это проявляется? Вы сможете лучше понимать себя и свои желания и потребности, находить способы и ресурсы достигать цели или удовлетворять эти потребности, или прожить невозможность их достижения/удовлетворения.Конечно, психотерапия не сделает это чудесным образом, клиент сам прилагает к этому усилия. Для меня психотерапия похожа на образ заблудившегося в лесу человека, и моя роль – это не проводник, который знает куда идти и выведет его из леса. Психолог – это скорее спутник/партнер, который будет сопровождать клиента в процессе нахождения своего пути. Я убеждена, что только сам клиент знает, куда ему надо. Моя задача как психолога, помочь найти этот путь, обратить внимание на что-то, что ранее клиент не замечал, остановиться и оглядеться там, где ранее не останавливался. Я предпочитаю выстраивать с клиентом долговременную работу. В процессе такой работы получается повысить устойчивость клиента, стабильность эмоционального состояния, гибкость поведения, адаптивность человека к жизни. В случае краткосрочной работы результатом может быть лучшее осознавание себя и ситуации и принятие (или совершение первых шагов к принятию) решения/выбора. Важной частью сессий является возможность проживать свои чувства, поэтому часто даже единичные занятия приносят эмоциональное облегчение. Гештальт-подход, в котором я работаю, направлен на развитие осознанности, поэтому на сессиях я обращаю внимание на ваши мысли, чувства, ощущения, как в ситуациях, которые вызвали переживания, так и в настоящий момент. Также скорее всего будет затрагиваться тема границ, то есть то, как мы выстраиваем отношения с окружающими людьми и миром. Семейное положение: Не замужем'"
            ],
            "application/vnd.google.colaboratory.intrinsic+json": {
              "type": "string"
            }
          },
          "metadata": {},
          "execution_count": 25
        }
      ]
    },
    {
      "cell_type": "markdown",
      "source": [
        "Фем, квир, онко, верующие (ААААААААААААААААААААА)\n",
        "\n",
        "Тут зафиксированы страдания: если открыть страничку с включенным фильтром то в кэше браузера останется фильтр (френдли, фем-френдли и т.д.), но для драйвера этого кэша нет, и мы час разбирались почему он игнорирует часть кода элемента:\n"
      ],
      "metadata": {
        "id": "kUBdPx6XPCcz"
      }
    },
    {
      "cell_type": "code",
      "source": [
        "driver = webdriver.Chrome(options=chrome_options)\n",
        "url = 'https://alter.ru/psychologists/msk/andrei-reshetarov'\n",
        "driver.get(url)\n",
        "\n",
        "def check_text_in_labels(text):\n",
        "    try:\n",
        "        # Используем XPath для поиска div с классом labels__label, содержащего нужный текст\n",
        "        WebDriverWait(driver, 30).until(\n",
        "        EC.presence_of_element_located((By.CSS_SELECTOR, 'div[data-testid=\"psy-profile-labels\"]')))\n",
        "        element = driver.find_element(By.XPATH, f\"//div[contains(@class, 'labels__label') and contains(text(), '{text}')]\")\n",
        "        return True\n",
        "    except:\n",
        "        return False\n",
        "\n",
        "# Проверяем наличие текста \"Френдли\" и \"Фем-френдли\"\n",
        "result_frendly = check_text_in_labels(\"Френдли\")\n",
        "result_fem_frendly = check_text_in_labels(\"Фем-френдли\")\n",
        "\n",
        "result_frendly, result_fem_frendly\n"
      ],
      "metadata": {
        "colab": {
          "base_uri": "https://localhost:8080/"
        },
        "id": "R1MNTbUzPB7L",
        "outputId": "e1341ade-ef88-4df7-e0d8-32fc8f591e8b"
      },
      "execution_count": null,
      "outputs": [
        {
          "output_type": "execute_result",
          "data": {
            "text/plain": [
              "(False, False)"
            ]
          },
          "metadata": {},
          "execution_count": 8
        }
      ]
    },
    {
      "cell_type": "markdown",
      "source": [
        "Специализация"
      ],
      "metadata": {
        "id": "JiGefTDhTh2W"
      }
    },
    {
      "cell_type": "code",
      "source": [
        "WebDriverWait(driver, 30).until(\n",
        "        EC.presence_of_element_located((By.CSS_SELECTOR, 'div[data-testid=\"psy-profile-competences-help-title\"]')))\n",
        "\n",
        "try:\n",
        "    show_more_button = WebDriverWait(driver, 10).until(\n",
        "            EC.element_to_be_clickable((By.CSS_SELECTOR, 'span[data-testid=\"psy-profile-competences-help-more\"]'))\n",
        "        )\n",
        "\n",
        "        # Прокрутка страницы до кнопки\n",
        "    driver.execute_script(\"arguments[0].scrollIntoView(true);\", show_more_button)\n",
        "    time.sleep(1)  # Ждем завершения прокрутки\n",
        "\n",
        "        # Кликаем по кнопке с помощью JavaScript\n",
        "    driver.execute_script(\"arguments[0].click();\", show_more_button)\n",
        "\n",
        "        # Ждем обновления списка\n",
        "    WebDriverWait(driver, 10).until(\n",
        "            EC.presence_of_all_elements_located((By.CSS_SELECTOR, 'div[data-testid=\"psy-profile-competences-help-title\"] + div.style_container__v04cR span.style_blmText__6echM'))\n",
        "        )\n",
        "except Exception:\n",
        "    b = 0\n",
        "WebDriverWait(driver, 30).until(\n",
        "        EC.presence_of_element_located((By.CSS_SELECTOR, 'div[data-testid=\"psy-profile-competences-help-title\"]'))\n",
        "    )\n",
        "phrases = driver.find_elements(By.CSS_SELECTOR, 'div[data-testid=\"psy-profile-competences-help-title\"] + div.style_container__v04cR span.style_blmText__6echM')\n",
        "\n",
        "    # Извлечение текста фраз\n",
        "phrase_list = [phrase.text for phrase in phrases][:-1]\n",
        "phrase_list"
      ],
      "metadata": {
        "id": "DH6IaOKkLLPA",
        "colab": {
          "base_uri": "https://localhost:8080/"
        },
        "outputId": "6a8bf216-4e07-4424-bc32-75eb82568d9e"
      },
      "execution_count": null,
      "outputs": [
        {
          "output_type": "execute_result",
          "data": {
            "text/plain": [
              "['Самооценка и уверенность в себе',\n",
              " 'Сложные перемены и жизненные ситуации',\n",
              " 'Одиночество и отсутствие отношений',\n",
              " 'Отношения с родителями',\n",
              " 'Расставание',\n",
              " 'Прокрастинация и личная эффективность',\n",
              " 'Трудоголизм и work-life balance',\n",
              " 'Работа с эмоциями',\n",
              " 'Трудный прошлый опыт',\n",
              " 'Отношения с партнером',\n",
              " 'Отношения с друзьями, коллегами и другими людьми',\n",
              " 'Эмоциональное и профессиональное выгорание',\n",
              " 'Смысл жизни, жизненные цели, самоопределение']"
            ]
          },
          "metadata": {},
          "execution_count": 63
        }
      ]
    },
    {
      "cell_type": "markdown",
      "source": [
        "Образование:"
      ],
      "metadata": {
        "id": "xWxPzqVCZefx"
      }
    },
    {
      "cell_type": "code",
      "source": [
        "url = 'https://alter.ru/psychologists/kostroma/nadezhda-golubeva'\n",
        "driver = webdriver.Chrome(options=chrome_options)\n",
        "driver.get(url)\n",
        "WebDriverWait(driver, 30).until(\n",
        "        EC.presence_of_element_located((By.CSS_SELECTOR, 'div.mb-4 span.style_title__F7cV2'))\n",
        "    )\n",
        "\n",
        "    # Попытка найти и нажать кнопку \"Свернуть\" (если она есть)\n",
        "try:\n",
        "    show_more_button = WebDriverWait(driver, 10).until(\n",
        "        EC.element_to_be_clickable((By.CSS_SELECTOR, 'span.style_showMore__uyGKl'))\n",
        "        )\n",
        "    driver.execute_script(\"arguments[0].scrollIntoView(true);\", show_more_button)\n",
        "    time.sleep(1)  # Ждем завершения прокрутки\n",
        "    driver.execute_script(\"arguments[0].click();\", show_more_button)\n",
        "\n",
        "        # Ждем обновления списка\n",
        "    WebDriverWait(driver, 10).until(\n",
        "            EC.presence_of_all_elements_located((By.CSS_SELECTOR, 'div.mb-4 ul.list-disc li span.font-futura-400'))\n",
        "        )\n",
        "except Exception:\n",
        "    education_elements = None\n",
        "\n",
        "    # Поиск всех элементов с текстом об образовании\n",
        "education_elements = driver.find_elements(By.CSS_SELECTOR, 'div.mb-4 ul.list-disc li span.font-futura-400')\n",
        "\n",
        "    # Извлечение текста об образовании\n",
        "education_list = [element.text.strip() for element in education_elements]\n",
        "print(f\"Образование: {education_list}\")"
      ],
      "metadata": {
        "id": "Y_RxRNRDZho-",
        "colab": {
          "base_uri": "https://localhost:8080/"
        },
        "outputId": "24300377-bf8c-4d57-fc20-fdbe065f8525"
      },
      "execution_count": null,
      "outputs": [
        {
          "output_type": "stream",
          "name": "stdout",
          "text": [
            "Образование: ['Костромской государственный университет им. Н.А. Некрасова. «Психолог. преподаватель психологии».', 'Ярославский государственный университет им. П.Г. Демидова. «Психология» — Магистр ( диплом с отличием).']\n"
          ]
        }
      ]
    },
    {
      "cell_type": "markdown",
      "source": [
        "С кем работает:"
      ],
      "metadata": {
        "id": "EXOLtlDgTgx_"
      }
    },
    {
      "cell_type": "code",
      "source": [
        "WebDriverWait(driver, 30).until(\n",
        "        EC.presence_of_element_located((By.CSS_SELECTOR, 'div[data-testid=\"psy-profile-competences-work-title\"]'))\n",
        "    )\n",
        "\n",
        "    # Поиск всех элементов с фразами после \"С кем работает\"\n",
        "work_with_elements = driver.find_elements(By.CSS_SELECTOR, 'div.styles_emoji__kMn91 span.style_blmText__6echM.style_accent__CgD_s')\n",
        "\n",
        "    # Извлечение текста фраз\n",
        "work_with_list = [element.text for element in work_with_elements]\n",
        "print(f\"С кем работает: {work_with_list}\")"
      ],
      "metadata": {
        "colab": {
          "base_uri": "https://localhost:8080/"
        },
        "id": "pjvM3sgPWrp8",
        "outputId": "0705b62a-f61c-43f5-f531-db22d05725c3"
      },
      "execution_count": null,
      "outputs": [
        {
          "output_type": "stream",
          "name": "stdout",
          "text": [
            "С кем работает: ['Взрослые']\n"
          ]
        }
      ]
    },
    {
      "cell_type": "markdown",
      "source": [
        "Парсим всех фем-френдли (мы вернулись к этому и стали мэтчить несколько массивов вместо попыток напрямую вытащить из сайта). Массивы не супер биг дата, так что можем себе позволить.\n",
        "\n",
        "Сразу после этого сто лет пытались сделать так, чтобы сессия не сбрасывалась (не перемешивались психологи после перехода на следующую страницу сайта), но даже куки не помогли и сайт на каждой странице выкидывал 6 рандомных психологов, из-за чего у нас были повторки в массивах(((\n",
        "\n",
        "Поэтому парсим все, пока не найдем уникальное и нужное количество психологов"
      ],
      "metadata": {
        "id": "ORjfWF7IK2lf"
      }
    },
    {
      "cell_type": "code",
      "source": [
        "driver = webdriver.Chrome(options=chrome_options)\n",
        "femme = set()\n",
        "while len(femme) < 62:\n",
        "    driver.get(\"https://alter.ru/psychologists/1?working_with.fem=true\")\n",
        "    for i in tqdm(range(1, 12), desc=\"Парсинг ссылок фем френдли\", unit=\"страница\"):\n",
        "        # Парсим текущую страницу\n",
        "        new_links = [a.split('?')[0] for a in parse_page(driver.current_url, femme)]\n",
        "        femme.update(new_links)\n",
        "\n",
        "        # Переход на следующую страницу\n",
        "        try:\n",
        "            next_button = WebDriverWait(driver, 10).until(\n",
        "                EC.element_to_be_clickable((By.CSS_SELECTOR, \"li.page-item a.page-link[href='#next']\"))\n",
        "            )\n",
        "            if \"disabled\" in next_button.get_attribute(\"class\"):\n",
        "                break  # Если кнопка \"Далее\" неактивна, завершаем\n",
        "            next_button.click()\n",
        "        except:\n",
        "            break  # Если кнопка \"Далее\" не найдена, завершаем\n"
      ],
      "metadata": {
        "colab": {
          "base_uri": "https://localhost:8080/"
        },
        "id": "xlfBxnuOCxq6",
        "outputId": "946585e0-01c8-4e39-e72b-cfc3ef201783"
      },
      "execution_count": null,
      "outputs": [
        {
          "output_type": "stream",
          "name": "stderr",
          "text": [
            "Парсинг ссылок фем френдли:  91%|█████████ | 10/11 [00:56<00:05,  5.69s/страница]\n",
            "Парсинг ссылок фем френдли:  91%|█████████ | 10/11 [01:02<00:06,  6.29s/страница]\n",
            "Парсинг ссылок фем френдли:  91%|█████████ | 10/11 [00:53<00:05,  5.34s/страница]\n"
          ]
        }
      ]
    },
    {
      "cell_type": "markdown",
      "source": [
        "Запишем все это в файлик"
      ],
      "metadata": {
        "id": "yzeBOgxpRsuR"
      }
    },
    {
      "cell_type": "code",
      "source": [
        "femme = list(femme)\n",
        "with open(\"femme.txt\", \"w\", encoding=\"utf-8\") as file:\n",
        "    for index, link in enumerate(femme, start=1):\n",
        "        file.write(f\"{index}. {link}\\n\")"
      ],
      "metadata": {
        "id": "fWNQVaZXLEjW"
      },
      "execution_count": null,
      "outputs": []
    },
    {
      "cell_type": "markdown",
      "source": [
        "Парсим всех квир френдли"
      ],
      "metadata": {
        "id": "bjn9Pq8hO4in"
      }
    },
    {
      "cell_type": "code",
      "source": [
        "driver = webdriver.Chrome(options=chrome_options)\n",
        "friendly = set()\n",
        "while len(friendly) < 207:\n",
        "    driver.get(\"https://alter.ru/psychologists/1?working_with.friendly=true\")\n",
        "    for i in tqdm(range(1, 36), desc=\"Парсинг ссылок квир френдли\", unit=\"страница\"):\n",
        "        # Парсим текущую страницу\n",
        "        new_links = [a.split('?')[0] for a in parse_page(driver.current_url, friendly)]\n",
        "        friendly.update(new_links)\n",
        "\n",
        "        # Переход на следующую страницу\n",
        "        try:\n",
        "            next_button = WebDriverWait(driver, 10).until(\n",
        "                EC.element_to_be_clickable((By.CSS_SELECTOR, \"li.page-item a.page-link[href='#next']\"))\n",
        "            )\n",
        "            if \"disabled\" in next_button.get_attribute(\"class\"):\n",
        "                break  # Если кнопка \"Далее\" неактивна, завершаем\n",
        "            next_button.click()\n",
        "        except:\n",
        "            break  # Если кнопка \"Далее\" не найдена, завершаем\n",
        "\n",
        "print(f\"Найдено {len(friendly)} ссылок\")"
      ],
      "metadata": {
        "colab": {
          "base_uri": "https://localhost:8080/"
        },
        "id": "g0h33ws9NWTm",
        "outputId": "c048d778-81d7-4cbf-ea8f-82482861fa21"
      },
      "execution_count": null,
      "outputs": [
        {
          "output_type": "stream",
          "name": "stderr",
          "text": [
            "Парсинг ссылок квир френдли:  97%|█████████▋| 34/35 [02:51<00:05,  5.05s/страница]\n",
            "Парсинг ссылок квир френдли:  97%|█████████▋| 34/35 [02:47<00:04,  4.92s/страница]\n",
            "Парсинг ссылок квир френдли:  97%|█████████▋| 34/35 [02:45<00:04,  4.88s/страница]\n",
            "Парсинг ссылок квир френдли:  97%|█████████▋| 34/35 [02:49<00:04,  5.00s/страница]"
          ]
        },
        {
          "output_type": "stream",
          "name": "stdout",
          "text": [
            "Найдено 207 ссылок\n"
          ]
        },
        {
          "output_type": "stream",
          "name": "stderr",
          "text": [
            "\n"
          ]
        }
      ]
    },
    {
      "cell_type": "code",
      "source": [
        "friendly = list(friendly)\n",
        "with open(\"friendly.txt\", \"w\", encoding=\"utf-8\") as file:\n",
        "    for index, link in enumerate(friendly, start=1):\n",
        "        file.write(f\"{index}. {link}\\n\")"
      ],
      "metadata": {
        "id": "oXQXKQ-qTq9D"
      },
      "execution_count": null,
      "outputs": []
    },
    {
      "cell_type": "markdown",
      "source": [
        "Парсим всех, кто работает с онкобольными"
      ],
      "metadata": {
        "id": "tWblFXsFO9Ec"
      }
    },
    {
      "cell_type": "code",
      "source": [
        "driver = webdriver.Chrome(options=chrome_options)\n",
        "cancer = set()\n",
        "while len(cancer) < 97:\n",
        "    driver.get(\"https://alter.ru/psychologists/1?working_with.cancer=true\")\n",
        "    for i in tqdm(range(1, 18), desc=\"Парсинг ссылок работающих с онкопациентами\", unit=\"страница\"):\n",
        "        # Парсим текущую страницу\n",
        "        new_links = [a.split('?')[0] for a in parse_page(driver.current_url, cancer)]\n",
        "        cancer.update(new_links)\n",
        "\n",
        "        try:\n",
        "            next_button = WebDriverWait(driver, 10).until(\n",
        "                EC.element_to_be_clickable((By.CSS_SELECTOR, \"li.page-item a.page-link[href='#next']\"))\n",
        "            )\n",
        "            if \"disabled\" in next_button.get_attribute(\"class\"):\n",
        "                break  # Если кнопка \"Далее\" неактивна, завершаем\n",
        "            next_button.click()\n",
        "        except:\n",
        "            break  # Если кнопка \"Далее\" не найдена, завершаем\n",
        "    print(f\"Найдено {len(cancer)} ссылок\")\n"
      ],
      "metadata": {
        "colab": {
          "base_uri": "https://localhost:8080/"
        },
        "id": "Co0w8_11O38C",
        "outputId": "8e7f3c06-177f-4b87-c427-44982cb063a2"
      },
      "execution_count": null,
      "outputs": [
        {
          "output_type": "stream",
          "name": "stderr",
          "text": [
            "Парсинг ссылок работающих с онкопациентами:  94%|█████████▍| 16/17 [01:39<00:06,  6.25s/страница]\n"
          ]
        },
        {
          "output_type": "stream",
          "name": "stdout",
          "text": [
            "Найдено 93 ссылок\n"
          ]
        },
        {
          "output_type": "stream",
          "name": "stderr",
          "text": [
            "Парсинг ссылок работающих с онкопациентами:  94%|█████████▍| 16/17 [01:35<00:05,  6.00s/страница]\n"
          ]
        },
        {
          "output_type": "stream",
          "name": "stdout",
          "text": [
            "Найдено 96 ссылок\n"
          ]
        },
        {
          "output_type": "stream",
          "name": "stderr",
          "text": [
            "Парсинг ссылок работающих с онкопациентами:  94%|█████████▍| 16/17 [01:31<00:05,  5.74s/страница]"
          ]
        },
        {
          "output_type": "stream",
          "name": "stdout",
          "text": [
            "Найдено 97 ссылок\n"
          ]
        },
        {
          "output_type": "stream",
          "name": "stderr",
          "text": [
            "\n"
          ]
        }
      ]
    },
    {
      "cell_type": "code",
      "source": [
        "cancer = list(cancer)\n",
        "with open(\"cancer.txt\", \"w\", encoding=\"utf-8\") as file:\n",
        "    for link in cancer:\n",
        "        file.write(f\"{link}\\n\")"
      ],
      "metadata": {
        "id": "2nvXv4h-Zwn-"
      },
      "execution_count": null,
      "outputs": []
    },
    {
      "cell_type": "markdown",
      "source": [
        "Парсим всех, кто работает с верующими"
      ],
      "metadata": {
        "id": "4A4EHooFO_Rk"
      }
    },
    {
      "cell_type": "code",
      "source": [
        "driver = webdriver.Chrome(options=chrome_options)\n",
        "believer = set()\n",
        "while len(believer) < 18:\n",
        "    driver.get(\"https://alter.ru/psychologists/1?working_with.believer=true\")\n",
        "    for i in tqdm(range(1, 4), desc=\"Парсинг ссылок работающих с верующими\", unit=\"страница\"):\n",
        "        # Парсим текущую страницу\n",
        "        new_links = [a.split('?')[0] for a in parse_page(driver.current_url, believer)]\n",
        "        believer.update(new_links)\n",
        "\n",
        "        try:\n",
        "            next_button = WebDriverWait(driver, 10).until(\n",
        "                EC.element_to_be_clickable((By.CSS_SELECTOR, \"li.page-item a.page-link[href='#next']\"))\n",
        "            )\n",
        "            if \"disabled\" in next_button.get_attribute(\"class\"):\n",
        "                break  # Если кнопка \"Далее\" неактивна, завершаем\n",
        "            next_button.click()\n",
        "        except:\n",
        "            break  # Если кнопка \"Далее\" не найдена, завершаем\n",
        "    print(f\"Найдено {len(believer)} ссылок\")"
      ],
      "metadata": {
        "colab": {
          "base_uri": "https://localhost:8080/"
        },
        "id": "94N6G4R_TMsU",
        "outputId": "44bfa152-8d01-4754-df25-9c97c527ecf2"
      },
      "execution_count": null,
      "outputs": [
        {
          "output_type": "stream",
          "name": "stderr",
          "text": [
            "Парсинг ссылок работающих с верующими:  67%|██████▋   | 2/3 [00:18<00:09,  9.08s/страница]"
          ]
        },
        {
          "output_type": "stream",
          "name": "stdout",
          "text": [
            "Найдено 18 ссылок\n"
          ]
        },
        {
          "output_type": "stream",
          "name": "stderr",
          "text": [
            "\n"
          ]
        }
      ]
    },
    {
      "cell_type": "code",
      "source": [
        "believer = list(believer)\n",
        "with open(\"believer.txt\", \"w\", encoding=\"utf-8\") as file:\n",
        "    for link in believer:\n",
        "        file.write(f\"{link}\\n\")"
      ],
      "metadata": {
        "id": "-ZUF74gVa3lD"
      },
      "execution_count": null,
      "outputs": []
    },
    {
      "cell_type": "markdown",
      "source": [
        "Парсим пол"
      ],
      "metadata": {
        "id": "I2XxLlTHkiZp"
      }
    },
    {
      "cell_type": "code",
      "source": [
        "male = set()\n",
        "while len(male) < 128:\n",
        "    driver.get(\"https://alter.ru/psychologists/1?sex=M\")\n",
        "    for i in tqdm(range(1, 23), desc=\"Парсинг мужчин\", unit=\"страница\"):\n",
        "    # Парсим текущую страницу\n",
        "        new_links = [a.split('?')[0] for a in parse_page(driver.current_url, male)]\n",
        "        male.update(new_links)\n",
        "\n",
        "        try:\n",
        "            next_button = WebDriverWait(driver, 10).until(\n",
        "                EC.element_to_be_clickable((By.CSS_SELECTOR, 'a.page-link[href=\"#next\"]')))\n",
        "            next_button.click()\n",
        "            WebDriverWait(driver, 10).until(EC.staleness_of(next_button))\n",
        "        except Exception as e:\n",
        "            break\n",
        "\n",
        "print(f\"Найдено {len(male)} ссылок\")"
      ],
      "metadata": {
        "colab": {
          "base_uri": "https://localhost:8080/"
        },
        "id": "N21_uhgBjtiH",
        "outputId": "0be7233b-e1bb-4ad4-dfda-036278552f46"
      },
      "execution_count": null,
      "outputs": [
        {
          "output_type": "stream",
          "name": "stderr",
          "text": [
            "Парсинг мужчин:  95%|█████████▌| 21/22 [01:44<00:04,  4.99s/страница]\n",
            "Парсинг мужчин:  95%|█████████▌| 21/22 [01:45<00:05,  5.00s/страница]\n",
            "Парсинг мужчин:  95%|█████████▌| 21/22 [01:40<00:04,  4.81s/страница]"
          ]
        },
        {
          "output_type": "stream",
          "name": "stdout",
          "text": [
            "Найдено 128 ссылок\n"
          ]
        },
        {
          "output_type": "stream",
          "name": "stderr",
          "text": [
            "\n"
          ]
        }
      ]
    },
    {
      "cell_type": "code",
      "source": [
        "male = list(male)\n",
        "with open(\"male.txt\", \"w\", encoding=\"utf-8\") as file:\n",
        "    for link in male:\n",
        "        file.write(f\"{link}\\n\")"
      ],
      "metadata": {
        "id": "nf-rsXd-Jbsi"
      },
      "execution_count": null,
      "outputs": []
    },
    {
      "cell_type": "markdown",
      "source": [
        "Парсим детей\n",
        "\n",
        "<a href=\"https://ibb.co/zHjDzz59\"><img src=\"https://i.ibb.co/qFXVvvnq/IMG-5594.jpg\" alt=\"IMG-5594\" border=\"0\"></a>\n"
      ],
      "metadata": {
        "id": "bjAc8Rz4IsAM"
      }
    },
    {
      "cell_type": "code",
      "source": [
        "kids = []\n",
        "no_kids = []\n",
        "\n",
        "driver.get(\"https://alter.ru/psychologists/1?has_children=no\")\n",
        "for i in tqdm(range(1, 53), desc=\"Парсинг ссылок психологов без детей\", unit=\"страница\"): #страниц c психологами без детей 52\n",
        "    no_kids += parse_page(driver.current_url, no_kids)\n",
        "    driver.get(f\"https://alter.ru/psychologists/{i + 1}?has_children=no\")\n",
        "\n",
        "print(f\"Найдено {len(no_kids)} ссылок\")\n",
        "\n",
        "\n",
        "driver.get(\"https://alter.ru/psychologists/1?has_children=yes\")\n",
        "for i in tqdm(range(1, 74), desc=\"Парсинг ссылок психологов с детьми\", unit=\"страница\"): #страниц с психологами-родителями  73\n",
        "    kids += parse_page(driver.current_url, kids)\n",
        "    driver.get(f\"https://alter.ru/psychologists/{i + 1}?has_children=yes\")\n",
        "\n",
        "print(f\"Найдено {len(kids)} ссылок\")"
      ],
      "metadata": {
        "colab": {
          "base_uri": "https://localhost:8080/"
        },
        "id": "oMOWIyoUIt1r",
        "outputId": "155c2cca-0e47-48ad-e391-7ea3dc9fedf5"
      },
      "execution_count": null,
      "outputs": [
        {
          "output_type": "stream",
          "name": "stderr",
          "text": [
            "Парсинг ссылок психологов без детей: 100%|██████████| 52/52 [07:54<00:00,  9.13s/страница]\n"
          ]
        },
        {
          "output_type": "stream",
          "name": "stdout",
          "text": [
            "Найдено 310 ссылок\n"
          ]
        },
        {
          "output_type": "stream",
          "name": "stderr",
          "text": [
            "Парсинг ссылок психологов с детьми: 100%|██████████| 73/73 [11:03<00:00,  9.09s/страница]"
          ]
        },
        {
          "output_type": "stream",
          "name": "stdout",
          "text": [
            "Найдено 438 ссылок\n"
          ]
        },
        {
          "output_type": "stream",
          "name": "stderr",
          "text": [
            "\n"
          ]
        }
      ]
    },
    {
      "cell_type": "code",
      "source": [
        "no_kids = set()\n",
        "\n",
        "while len(no_kids) < 308:\n",
        "    driver.get(\"https://alter.ru/psychologists/1?has_children=no\")\n",
        "    for i in tqdm(range(1, 53), desc=\"Парсинг ссылок психологов без детей\", unit=\"страница\"):\n",
        "    # Парсим текущую страницу\n",
        "        new_links = [a.split('?')[0] for a in parse_page(driver.current_url, no_kids)]\n",
        "        no_kids.update(new_links)\n",
        "\n",
        "        try:\n",
        "            next_button = WebDriverWait(driver, 10).until(\n",
        "                EC.element_to_be_clickable((By.CSS_SELECTOR, 'a.page-link[href=\"#next\"]')))\n",
        "            next_button.click()\n",
        "            WebDriverWait(driver, 10).until(EC.staleness_of(next_button))\n",
        "        except Exception as e:\n",
        "            break\n",
        "\n",
        "print(f\"Найдено {len(no_kids)} ссылок\")"
      ],
      "metadata": {
        "colab": {
          "base_uri": "https://localhost:8080/"
        },
        "id": "o8SYUaetcB9b",
        "outputId": "c27f6845-2e6f-4271-9d62-9ed514d8c634"
      },
      "execution_count": null,
      "outputs": [
        {
          "output_type": "stream",
          "name": "stderr",
          "text": [
            "Парсинг ссылок психологов без детей:  98%|█████████▊| 51/52 [04:17<00:05,  5.05s/страница]\n",
            "Парсинг ссылок психологов без детей:  98%|█████████▊| 51/52 [04:03<00:04,  4.77s/страница]\n",
            "Парсинг ссылок психологов без детей:  98%|█████████▊| 51/52 [03:58<00:04,  4.68s/страница]\n",
            "Парсинг ссылок психологов без детей:  98%|█████████▊| 51/52 [04:02<00:04,  4.76s/страница]\n",
            "Парсинг ссылок психологов без детей:  98%|█████████▊| 51/52 [03:58<00:04,  4.68s/страница]\n",
            "Парсинг ссылок психологов без детей:  98%|█████████▊| 51/52 [03:54<00:04,  4.60s/страница]"
          ]
        },
        {
          "output_type": "stream",
          "name": "stdout",
          "text": [
            "Найдено 308 ссылок\n"
          ]
        },
        {
          "output_type": "stream",
          "name": "stderr",
          "text": [
            "\n"
          ]
        }
      ]
    },
    {
      "cell_type": "code",
      "source": [
        "no_kids = list(no_kids)\n",
        "with open(\"no_kids.txt\", \"w\", encoding=\"utf-8\") as file:\n",
        "    for link in no_kids:\n",
        "        file.write(f\"{link}\\n\")"
      ],
      "metadata": {
        "id": "xmZnjzcRigf5"
      },
      "execution_count": null,
      "outputs": []
    },
    {
      "cell_type": "code",
      "source": [
        "kids = set()\n",
        "\n",
        "while len(kids) < 437:\n",
        "    driver.get(\"https://alter.ru/psychologists/1?has_children=yes\")\n",
        "    for i in tqdm(range(1, 74), desc=\"Парсинг ссылок психологов c детьми\", unit=\"страница\"):\n",
        "    # Парсим текущую страницу\n",
        "        new_links = [a.split('?')[0] for a in parse_page(driver.current_url, kids)]\n",
        "        kids.update(new_links)\n",
        "\n",
        "        try:\n",
        "            next_button = WebDriverWait(driver, 10).until(\n",
        "                EC.element_to_be_clickable((By.CSS_SELECTOR, 'a.page-link[href=\"#next\"]')))\n",
        "            next_button.click()\n",
        "            WebDriverWait(driver, 10).until(EC.staleness_of(next_button))\n",
        "        except Exception as e:\n",
        "            break\n",
        "\n",
        "print(f\"Найдено {len(kids)} ссылок\")"
      ],
      "metadata": {
        "colab": {
          "base_uri": "https://localhost:8080/"
        },
        "id": "L0i-v4vwc4eP",
        "outputId": "f4c55c9a-0eec-4997-c4c2-9c63a8667cb3"
      },
      "execution_count": null,
      "outputs": [
        {
          "output_type": "stream",
          "name": "stderr",
          "text": [
            "Парсинг ссылок психологов c детьми:  99%|█████████▊| 72/73 [05:49<00:04,  4.85s/страница]\n",
            "Парсинг ссылок психологов c детьми:  99%|█████████▊| 72/73 [05:34<00:04,  4.64s/страница]\n",
            "Парсинг ссылок психологов c детьми:  99%|█████████▊| 72/73 [05:34<00:04,  4.65s/страница]\n",
            "Парсинг ссылок психологов c детьми:  99%|█████████▊| 72/73 [05:44<00:04,  4.79s/страница]"
          ]
        },
        {
          "output_type": "stream",
          "name": "stdout",
          "text": [
            "Найдено 437 ссылок\n"
          ]
        },
        {
          "output_type": "stream",
          "name": "stderr",
          "text": [
            "\n"
          ]
        }
      ]
    },
    {
      "cell_type": "code",
      "source": [
        "kids = list(kids)\n",
        "with open(\"kids.txt\", \"w\", encoding=\"utf-8\") as file:\n",
        "    for link in kids:\n",
        "        file.write(f\"{link}\\n\")"
      ],
      "metadata": {
        "id": "dwnYE1dyjdp7"
      },
      "execution_count": null,
      "outputs": []
    },
    {
      "cell_type": "markdown",
      "source": [
        "Парсим наличие видеопривествия"
      ],
      "metadata": {
        "id": "2MVYSA7ULiJp"
      }
    },
    {
      "cell_type": "code",
      "source": [
        "driver.get(\"https://alter.ru/psychologists/spb/valeriia-soloveva\") #здесь в функцию покидали разных психологов, чтобы убедиться что все работает\n",
        "try:                                                                #и оно реально работает\n",
        "    video_element = WebDriverWait(driver, 1).until(\n",
        "            EC.presence_of_element_located((By.CSS_SELECTOR, \"div.style_video__oSOnM\")))\n",
        "    print(1)\n",
        "except TimeoutException:\n",
        "    print(0)"
      ],
      "metadata": {
        "colab": {
          "base_uri": "https://localhost:8080/"
        },
        "id": "WEm9YiesLmVU",
        "outputId": "de5d8ed3-5e14-441a-8f5f-b95139780155"
      },
      "execution_count": null,
      "outputs": [
        {
          "output_type": "stream",
          "name": "stdout",
          "text": [
            "0\n"
          ]
        }
      ]
    },
    {
      "cell_type": "code",
      "source": [
        "driver.get(\"https://alter.ru/psychologists/spb/valeriia-soloveva\") #аналогично - это тестовая ячейка\n",
        "try:\n",
        "    video_element = WebDriverWait(driver, 1).until(\n",
        "                EC.presence_of_element_located((By.CSS_SELECTOR, \"div.style_audio__8T4C1\")))\n",
        "    print(1)\n",
        "except TimeoutException:\n",
        "    print(0)"
      ],
      "metadata": {
        "colab": {
          "base_uri": "https://localhost:8080/"
        },
        "id": "agAofCQey-cY",
        "outputId": "9a772f05-a6aa-41d6-faa1-48193886e556"
      },
      "execution_count": null,
      "outputs": [
        {
          "output_type": "stream",
          "name": "stdout",
          "text": [
            "0\n"
          ]
        }
      ]
    },
    {
      "cell_type": "markdown",
      "source": [
        "Парсим семейное положение"
      ],
      "metadata": {
        "id": "6iLHke1Pnfig"
      }
    },
    {
      "cell_type": "code",
      "source": [
        "married = set()\n",
        "\n",
        "while len(married) < 516:\n",
        "    driver.get(\"https://alter.ru/psychologists/1?marital_status=married\")\n",
        "    for i in tqdm(range(1, 87), desc=\"Парсинг ссылок психологов со статусом Женат / Замужем\", unit=\"страница\"):\n",
        "    # Парсим текущую страницу\n",
        "        new_links = [a.split('?')[0] for a in parse_page(driver.current_url, married)]\n",
        "        married.update(new_links)\n",
        "\n",
        "        try:\n",
        "            next_button = WebDriverWait(driver, 10).until(\n",
        "                EC.element_to_be_clickable((By.CSS_SELECTOR, 'a.page-link[href=\"#next\"]')))\n",
        "            next_button.click()\n",
        "            WebDriverWait(driver, 10).until(EC.staleness_of(next_button))\n",
        "        except Exception as e:\n",
        "            break\n",
        "\n",
        "print(f\"Найдено {len(married)} ссылок\")"
      ],
      "metadata": {
        "colab": {
          "base_uri": "https://localhost:8080/"
        },
        "id": "eTwWpFs_LZtz",
        "outputId": "fbe3b55d-a2b4-4f21-c0a9-6898a6d5aeeb"
      },
      "execution_count": null,
      "outputs": [
        {
          "output_type": "stream",
          "name": "stderr",
          "text": [
            "Парсинг ссылок психологов со статусом Женат / Замужем:  99%|█████████▉| 85/86 [06:46<00:04,  4.78s/страница]\n",
            "Парсинг ссылок психологов со статусом Женат / Замужем:  99%|█████████▉| 85/86 [06:49<00:04,  4.82s/страница]\n",
            "Парсинг ссылок психологов со статусом Женат / Замужем:  99%|█████████▉| 85/86 [06:44<00:04,  4.76s/страница]\n",
            "Парсинг ссылок психологов со статусом Женат / Замужем:  99%|█████████▉| 85/86 [06:35<00:04,  4.65s/страница]"
          ]
        },
        {
          "output_type": "stream",
          "name": "stdout",
          "text": [
            "Найдено 516 ссылок\n"
          ]
        },
        {
          "output_type": "stream",
          "name": "stderr",
          "text": [
            "\n"
          ]
        }
      ]
    },
    {
      "cell_type": "code",
      "source": [
        "single = set()\n",
        "\n",
        "while len(single) < 224:\n",
        "    driver.get(\"https://alter.ru/psychologists/1?marital_status=single\")\n",
        "    for i in tqdm(range(1, 39), desc=\"Парсинг ссылок психологов со статусом не Женат /не Замужем\", unit=\"страница\"):\n",
        "    # Парсим текущую страницу\n",
        "        new_links = [a.split('?')[0] for a in parse_page(driver.current_url, single)]\n",
        "        single.update(new_links)\n",
        "\n",
        "        try:\n",
        "            next_button = WebDriverWait(driver, 10).until(\n",
        "                EC.element_to_be_clickable((By.CSS_SELECTOR, 'a.page-link[href=\"#next\"]')))\n",
        "            next_button.click()\n",
        "            WebDriverWait(driver, 10).until(EC.staleness_of(next_button))\n",
        "        except Exception as e:\n",
        "            break\n",
        "\n",
        "print(f\"Найдено {len(single)} ссылок\")"
      ],
      "metadata": {
        "colab": {
          "base_uri": "https://localhost:8080/"
        },
        "id": "U_GLDYk3MmKl",
        "outputId": "28302dd7-8eaf-4487-be99-4fcc2a7c8b8b"
      },
      "execution_count": null,
      "outputs": [
        {
          "output_type": "stream",
          "name": "stderr",
          "text": [
            "Парсинг ссылок психологов со статусом не Женат /не Замужем:  97%|█████████▋| 37/38 [02:55<00:04,  4.75s/страница]\n",
            "Парсинг ссылок психологов со статусом не Женат /не Замужем:  97%|█████████▋| 37/38 [02:51<00:04,  4.63s/страница]\n",
            "Парсинг ссылок психологов со статусом не Женат /не Замужем:  97%|█████████▋| 37/38 [02:53<00:04,  4.69s/страница]\n",
            "Парсинг ссылок психологов со статусом не Женат /не Замужем:  97%|█████████▋| 37/38 [02:54<00:04,  4.71s/страница]"
          ]
        },
        {
          "output_type": "stream",
          "name": "stdout",
          "text": [
            "Найдено 224 ссылок\n"
          ]
        },
        {
          "output_type": "stream",
          "name": "stderr",
          "text": [
            "\n"
          ]
        }
      ]
    },
    {
      "cell_type": "code",
      "source": [
        "single = list(single)\n",
        "with open(\"single.txt\", \"w\", encoding=\"utf-8\") as file:\n",
        "    for link in single:\n",
        "        file.write(f\"{link}\\n\")"
      ],
      "metadata": {
        "id": "ogr2tMsdboA7"
      },
      "execution_count": null,
      "outputs": []
    },
    {
      "cell_type": "code",
      "source": [
        "married = list(married)\n",
        "with open(\"married.txt\", \"w\", encoding=\"utf-8\") as file:\n",
        "    for link in married:\n",
        "        file.write(f\"{link}\\n\")"
      ],
      "metadata": {
        "id": "z8hIoT72bt9a"
      },
      "execution_count": null,
      "outputs": []
    },
    {
      "cell_type": "markdown",
      "source": [
        "# Парсим инфу о психологах"
      ],
      "metadata": {
        "id": "rhjkvVAWkA3k"
      }
    },
    {
      "cell_type": "markdown",
      "source": [
        "Наконец-то!!!! Итоговый парсинг"
      ],
      "metadata": {
        "id": "n6YzvqImXA-p"
      }
    },
    {
      "cell_type": "code",
      "source": [
        "def read_links(file_path):\n",
        "    with open(file_path, 'r', encoding='utf-8') as file:\n",
        "        links = [line.strip() for line in file.readlines()]\n",
        "    return links"
      ],
      "metadata": {
        "id": "zAWDHDOJXAm9"
      },
      "execution_count": null,
      "outputs": []
    },
    {
      "cell_type": "code",
      "source": [
        "error = []"
      ],
      "metadata": {
        "id": "U_WUKrZ5feb5"
      },
      "execution_count": null,
      "outputs": []
    },
    {
      "cell_type": "code",
      "source": [
        "def parse_psychologist_page(url):\n",
        "    driver.get(url)\n",
        "    WebDriverWait(driver, 10).until(\n",
        "        lambda d: d.execute_script(\"return document.readyState\") == \"complete\")\n",
        "    # Инициализация данных\n",
        "    data = {\n",
        "        \"Имя фамилия\": \"\",\n",
        "        \"Цена за сессию (руб)\": \"\",\n",
        "        \"Город\": \"\",\n",
        "        \"Онлайн\": 0,\n",
        "        \"Лично\": 0,\n",
        "        \"Подходы\": [],\n",
        "        \"Специализация\": [],\n",
        "        \"С кем работает\": [],\n",
        "        \"Опыт работы (в годах)\": \"\",\n",
        "        \"Возраст (в годах)\": \"\",\n",
        "        \"Семейное положение\": None,\n",
        "        \"Пол\": 0,\n",
        "        \"Наличие детей\": None,\n",
        "        \"Работает ли с верующими\": 0,\n",
        "        \"Фем-френдли\": 0,\n",
        "        \"Квир-френдли\": 0,\n",
        "        \"Работает ли с онко-пациентами\": 0,\n",
        "        \"Образование\": \"\",\n",
        "        \"Наличие видеоприветствия\": 0,\n",
        "        \"Наличие аудиоприветствия\": 0,\n",
        "        \"О себе\":  ''\n",
        "    }\n",
        "    try:\n",
        "        # Имя фамилия (готово и работает)\n",
        "        name = driver.find_element(By.CSS_SELECTOR, 'h1.style_title__rerZD').text\n",
        "        data[\"Имя фамилия\"] = name\n",
        "\n",
        "        # Цена за сессию (готово и работает)\n",
        "        try:\n",
        "            price = int(driver.find_element(By.CSS_SELECTOR, 'span.style_price__fTH3C span.is-nowrap').text.replace(' ₽', '').replace(',','').replace('.',''))\n",
        "            data[\"Цена за сессию (руб)\"] = price\n",
        "        except Exception as e:\n",
        "            data[\"Цена за сессию (руб)\"] = None\n",
        "\n",
        "        # Город (готово)\n",
        "        city = driver.find_element(By.CSS_SELECTOR, 'div.style_city__ANaA_ span.style_blmText__6echM').text\n",
        "        data[\"Город\"] = city.split(',')[0]\n",
        "\n",
        "        # Онлайн (готово)\n",
        "        online =  (1 if 'онлайн' in driver.find_element(By.CSS_SELECTOR, 'span.style_location__DucmB').text else 0)\n",
        "        data[\"Онлайн\"] = online\n",
        "\n",
        "        # Лично (готово)\n",
        "        in_person =  (1 if 'лично' in driver.find_element(By.CSS_SELECTOR, 'span.style_location__DucmB').text else 0)\n",
        "        data[\"Лично\"] = in_person\n",
        "\n",
        "        # Подход, в котором работает\n",
        "        approaches = driver.find_elements(By.CSS_SELECTOR, 'span.style_name__9qe2P')\n",
        "        approach_list = [approach.text for approach in approaches]\n",
        "        data['Подходы'] = approach_list\n",
        "\n",
        "        # Специализация\n",
        "        try:\n",
        "            show_more_button = WebDriverWait(driver, 2).until(\n",
        "                    EC.element_to_be_clickable((By.CSS_SELECTOR, 'span[data-testid=\"psy-profile-competences-help-more\"]')))\n",
        "            driver.execute_script(\"arguments[0].scrollIntoView(true);\", show_more_button)\n",
        "            time.sleep(1)\n",
        "            driver.execute_script(\"arguments[0].click();\", show_more_button)\n",
        "            WebDriverWait(driver, 2).until(\n",
        "                    EC.presence_of_all_elements_located((By.CSS_SELECTOR, 'div[data-testid=\"psy-profile-competences-help-title\"] \\\n",
        "                    + div.style_container__v04cR span.style_blmText__6echM')))\n",
        "        except Exception:\n",
        "            phrases = None\n",
        "\n",
        "        phrases = driver.find_elements(By.CSS_SELECTOR, 'div[data-testid=\"psy-profile-competences-help-title\"] + div.style_container__v04cR span.style_blmText__6echM')\n",
        "        phrase_list = [phrase.text for phrase in phrases][:-1]\n",
        "        data[\"Специализация\"] = phrase_list\n",
        "\n",
        "        # Опыт работы (готово)\n",
        "        try:\n",
        "            experience = int(driver.find_element(By.CSS_SELECTOR, 'span.style_experience__CluEG').text.split()[0])\n",
        "            data[\"Опыт работы (в годах)\"] = experience\n",
        "        except Exception as e:\n",
        "            data[\"Опыт работы (в годах)\"] = 1\n",
        "\n",
        "        # Возраст (готово)\n",
        "        try:\n",
        "            age = int(driver.find_element(By.CSS_SELECTOR, 'span.style_age__hYhw7').text.split()[0])\n",
        "            data[\"Возраст (в годах)\"] = age\n",
        "        except Exception as e:\n",
        "            data['Возраст (в годах)'] = None\n",
        "\n",
        "        #С кем работает (готово)\n",
        "        work_with_elements = driver.find_elements(By.CSS_SELECTOR, 'div.styles_emoji__kMn91 span.style_blmText__6echM.style_accent__CgD_s')\n",
        "        work_with_list = [element.text for element in work_with_elements]\n",
        "        data['С кем работает'] = work_with_list\n",
        "\n",
        "        # Семейное положение (готово)\n",
        "        matches_mar = read_links('married.txt')\n",
        "        matches_sin = read_links('single.txt')\n",
        "        data[\"Семейное положение\"] = 1 if url in matches_mar else 0 if url in matches_sin else None\n",
        "\n",
        "        # Пол (готово)\n",
        "        male = read_links('male.txt')\n",
        "        data[\"Пол\"] = 1 if url in male else 0\n",
        "\n",
        "        # Наличие детей (готово)\n",
        "        matches_k = read_links('kids.txt')\n",
        "        matches_nk = read_links('no_kids.txt')\n",
        "        data[\"Наличие детей\"] = 1 if url in matches_k else 0 if  url in matches_nk else None\n",
        "\n",
        "        # Работает ли с верующими (готово)\n",
        "        believer = read_links('believer.txt')\n",
        "        data[\"Работает ли с верующими\"] = 1 if url in believer else 0\n",
        "\n",
        "        # Фем-френдли (готово)\n",
        "        matches = [a.split('. ')[1] for a in read_links('femme.txt')] #тут чуть-чуть по тупому спарсили ссылки с нумерацией и было лень переделывать((\n",
        "        data[\"Фем-френдли\"] = 1 if url in matches else 0\n",
        "\n",
        "        # Квир-френдли (готово)\n",
        "        matches = [a.split('. ')[1] for a in read_links('friendly.txt')]\n",
        "        data[\"Квир-френдли\"] =  1 if url in matches else 0\n",
        "\n",
        "        # Работает ли с онко-пациентами (готово)\n",
        "        matches = read_links('cancer.txt')\n",
        "        data[\"Работает ли с онко-пациентами\"] = 1 if url in matches else 0\n",
        "\n",
        "        # Образование (готово)\n",
        "        education_elements = []\n",
        "        WebDriverWait(driver, 30).until(\n",
        "                EC.presence_of_element_located((By.CSS_SELECTOR, 'div.mb-4 span.style_title__F7cV2'))\n",
        "            )\n",
        "\n",
        "            # Попытка найти и нажать кнопку \"Свернуть\" (если она есть)\n",
        "        try:\n",
        "            show_more_button = WebDriverWait(driver, 10).until(\n",
        "                EC.element_to_be_clickable((By.CSS_SELECTOR, 'span.style_showMore__uyGKl'))\n",
        "                )\n",
        "            driver.execute_script(\"arguments[0].scrollIntoView(true);\", show_more_button)\n",
        "            time.sleep(1)  # Ждем завершения прокрутки\n",
        "            driver.execute_script(\"arguments[0].click();\", show_more_button)\n",
        "\n",
        "                # Ждем обновления списка\n",
        "            WebDriverWait(driver, 10).until(\n",
        "                    EC.presence_of_all_elements_located((By.CSS_SELECTOR, 'div.mb-4 ul.list-disc li span.font-futura-400'))\n",
        "                )\n",
        "        except Exception:\n",
        "            education_elements = None\n",
        "\n",
        "            # Поиск всех элементов с текстом об образовании\n",
        "        education_elements = driver.find_elements(By.CSS_SELECTOR, 'div.mb-4 ul.list-disc li span.font-futura-400')\n",
        "\n",
        "            # Извлечение текста об образовании\n",
        "        education_list = [element.text.strip() for element in education_elements]\n",
        "        data['Образование'] = education_list\n",
        "\n",
        "        # Раздел \"О себе\"\n",
        "        try:\n",
        "            # есть показать больше?\n",
        "            show_more_button = driver.find_element(By.CSS_SELECTOR, 'span[data-testid=\"psy-profile-about-test-more\"]')\n",
        "            # если да то клик\n",
        "            driver.execute_script(\"arguments[0].scrollIntoView(true);\", show_more_button)\n",
        "            time.sleep(1)\n",
        "            driver.execute_script(\"arguments[0].click();\", show_more_button)  # Клик по кнопке\n",
        "\n",
        "            # обновляем\n",
        "            WebDriverWait(driver, 10).until(\n",
        "                EC.presence_of_element_located((By.CSS_SELECTOR, 'div.style_paragraphs__AXJr2 span.style_blmText__6echM'))\n",
        "            )\n",
        "        except Exception as e:\n",
        "            #если кнопки нет то как бы и окей\n",
        "            about = None\n",
        "        about_elements = driver.find_elements(By.CSS_SELECTOR, 'div.style_paragraphs__AXJr2 span.style_blmText__6echM')\n",
        "        about = ' '.join([element.text for element in about_elements])\n",
        "        data['О себе'] = about\n",
        "\n",
        "        # Наличие видеоприветствия (готово)\n",
        "        try:\n",
        "            video_element = WebDriverWait(driver, 1).until(\n",
        "                EC.presence_of_element_located((By.CSS_SELECTOR, \"div.style_video__oSOnM\")))\n",
        "            data['Наличие видеоприветствия'] = 1\n",
        "        except TimeoutException:\n",
        "            data['Наличие видеоприветствия'] = 0\n",
        "\n",
        "        # Наличие аудиоприветствия (готово)\n",
        "        try:\n",
        "            video_element = WebDriverWait(driver, 1).until(\n",
        "                EC.presence_of_element_located((By.CSS_SELECTOR, \"div.style_audio__8T4C1\")))\n",
        "            data['Наличие аудиоприветствия'] = 1\n",
        "        except TimeoutException:\n",
        "            data['Наличие аудиоприветствия'] = 0\n",
        "    except Exception as e:\n",
        "        print(f\"Ошибка при парсинге страницы {url}:{e}\")\n",
        "    return data"
      ],
      "metadata": {
        "id": "Aqx3_kxmvuuL"
      },
      "execution_count": null,
      "outputs": []
    },
    {
      "cell_type": "code",
      "source": [
        "parse_psychologist_page('https://alter.ru/psychologists/msk/miroslav-iasin') #тестим на одном человечке"
      ],
      "metadata": {
        "colab": {
          "base_uri": "https://localhost:8080/"
        },
        "id": "VSkJbh1xoik_",
        "outputId": "bd34421b-90ce-464f-9ea7-0df3452db12e"
      },
      "execution_count": null,
      "outputs": [
        {
          "output_type": "execute_result",
          "data": {
            "text/plain": [
              "{'Имя фамилия': 'Мирослав Ясин',\n",
              " 'Цена за сессию (руб)': 3900,\n",
              " 'Город': 'Москва',\n",
              " 'Онлайн': 1,\n",
              " 'Лично': 0,\n",
              " 'Подходы': ['КПТ', 'Позитивная', 'КЦП'],\n",
              " 'Специализация': ['Самооценка и уверенность в себе',\n",
              "  'Эмоциональное и профессиональное выгорание',\n",
              "  'Бессонница и нарушения сна',\n",
              "  'Сложные перемены и жизненные ситуации',\n",
              "  'Эмоциональное и физическое насилие',\n",
              "  'Навязчивые мысли и состояния',\n",
              "  'Отношения с партнером',\n",
              "  'Отношения с детьми',\n",
              "  'Расставание',\n",
              "  'Смысл жизни, жизненные цели, самоопределение',\n",
              "  'Трудоголизм и work-life balance',\n",
              "  'Работа с эмоциями',\n",
              "  'Страхи',\n",
              "  'Недовольство своим телом и внешностью',\n",
              "  'Тяжелое физическое заболевание',\n",
              "  'Трудный прошлый опыт',\n",
              "  'Одиночество и отсутствие отношений',\n",
              "  'Отношения с родителями',\n",
              "  'Отношения с друзьями, коллегами и другими людьми',\n",
              "  'Потеря близкого',\n",
              "  'Прокрастинация и личная эффективность',\n",
              "  'Тревога'],\n",
              " 'С кем работает': ['Взрослые'],\n",
              " 'Опыт работы (в годах)': 7,\n",
              " 'Возраст (в годах)': 45,\n",
              " 'Семейное положение': 1,\n",
              " 'Пол': 1,\n",
              " 'Наличие детей': 0,\n",
              " 'Работает ли с верующими': 0,\n",
              " 'Фем-френдли': 0,\n",
              " 'Квир-френдли': 1,\n",
              " 'Работает ли с онко-пациентами': 1,\n",
              " 'Образование': ['Саратовский Государственный Университет. «Психолог. Преподаватель психологии».',\n",
              "  'НИУ «Высшая Школа Экономики». «Психология» — Магистр.',\n",
              "  'Университет Хопкинса. «Первая психологическая помощь».'],\n",
              " 'Наличие видеоприветствия': 1,\n",
              " 'Наличие аудиоприветствия': 0,\n",
              " 'О себе': 'Ценность психологической работы — не только в решении актуального вопроса. Вы приобретете новые навыки и в дальнейшем сможете решать подобные ситуации самостоятельно. В любых ситуациях, где Вы испытываете затруднения, хотите разобраться глубже, нуждаетесь в поддержке или подсказке, когда сложно построить отношения с человеком, сделать выбор, принять решение, в ситуациях поиска себя, неудовлетворенности жизнью, пониженного настроения, острых отрицательных эмоций — я готов оказывать поддержку, направлять и подсказывать. Семейное положение: Женат'}"
            ]
          },
          "metadata": {},
          "execution_count": 9
        }
      ]
    },
    {
      "cell_type": "code",
      "source": [
        "import pandas as pd\n",
        "\n",
        "data_list = []\n",
        "for url in tqdm(read_links('links.txt'), desc=\"Парсинг страниц психологов\", unit=\"страница\"):\n",
        "    try:\n",
        "        data = parse_psychologist_page(url)\n",
        "        data_list.append(data)\n",
        "    except Exception as e:\n",
        "        print(f\"Ошибка при обработке ссылки {url}: {e}\")\n",
        "        error.append(url)\n",
        "df = pd.DataFrame(data_list)\n",
        "\n",
        "df.to_csv('psychologists_data.csv', index=False, encoding='utf-8')\n",
        "\n",
        "df.head(20)"
      ],
      "metadata": {
        "colab": {
          "base_uri": "https://localhost:8080/",
          "height": 1000
        },
        "id": "M6bovC-UgI0g",
        "outputId": "603eb490-0437-4d62-b53d-650c9369f2b4"
      },
      "execution_count": null,
      "outputs": [
        {
          "output_type": "stream",
          "name": "stderr",
          "text": [
            "Парсинг страниц психологов:  27%|██▋       | 236/877 [44:11<1:50:26, 10.34s/страница]"
          ]
        },
        {
          "output_type": "stream",
          "name": "stdout",
          "text": [
            "Ошибка при обработке ссылки https://alter.ru/psychologists/irkutsk/ekaterina-spiridonova: Message: \n",
            "\n"
          ]
        },
        {
          "output_type": "stream",
          "name": "stderr",
          "text": [
            "Парсинг страниц психологов:  35%|███▍      | 303/877 [56:22<1:33:06,  9.73s/страница]"
          ]
        },
        {
          "output_type": "stream",
          "name": "stdout",
          "text": [
            "Ошибка при обработке ссылки https://alter.ru/psychologists/spb/anna-eliseeva: Message: \n",
            "\n"
          ]
        },
        {
          "output_type": "stream",
          "name": "stderr",
          "text": [
            "\rПарсинг страниц психологов:  35%|███▍      | 304/877 [56:33<1:36:54, 10.15s/страница]"
          ]
        },
        {
          "output_type": "stream",
          "name": "stdout",
          "text": [
            "Ошибка при обработке ссылки https://alter.ru/psychologists/msk/daria-ostankova: Message: \n",
            "\n"
          ]
        },
        {
          "output_type": "stream",
          "name": "stderr",
          "text": [
            "\rПарсинг страниц психологов:  35%|███▍      | 305/877 [56:44<1:38:32, 10.34s/страница]"
          ]
        },
        {
          "output_type": "stream",
          "name": "stdout",
          "text": [
            "Ошибка при обработке ссылки https://alter.ru/psychologists/msk/anastasiia-ivanova-1: Message: \n",
            "\n"
          ]
        },
        {
          "output_type": "stream",
          "name": "stderr",
          "text": [
            "Парсинг страниц психологов:  39%|███▉      | 340/877 [1:02:45<1:27:43,  9.80s/страница]"
          ]
        },
        {
          "output_type": "stream",
          "name": "stdout",
          "text": [
            "Ошибка при обработке ссылки https://alter.ru/psychologists/spb/liubov-koltashova: Message: \n",
            "\n"
          ]
        },
        {
          "output_type": "stream",
          "name": "stderr",
          "text": [
            "\rПарсинг страниц психологов:  39%|███▉      | 341/877 [1:02:56<1:30:16, 10.10s/страница]"
          ]
        },
        {
          "output_type": "stream",
          "name": "stdout",
          "text": [
            "Ошибка при обработке ссылки https://alter.ru/psychologists/samara/iuliia-svetlichkina: Message: \n",
            "\n"
          ]
        },
        {
          "output_type": "stream",
          "name": "stderr",
          "text": [
            "Парсинг страниц психологов:  44%|████▍     | 387/877 [1:12:14<1:27:14, 10.68s/страница]"
          ]
        },
        {
          "output_type": "stream",
          "name": "stdout",
          "text": [
            "Ошибка при обработке ссылки https://alter.ru/psychologists/msk/mariia-kaller-salas: Message: \n",
            "\n"
          ]
        },
        {
          "output_type": "stream",
          "name": "stderr",
          "text": [
            "Парсинг страниц психологов:  46%|████▌     | 403/877 [1:14:51<1:17:04,  9.76s/страница]"
          ]
        },
        {
          "output_type": "stream",
          "name": "stdout",
          "text": [
            "Ошибка при обработке ссылки https://alter.ru/psychologists/msk/mariia-minakova: Message: \n",
            "\n"
          ]
        },
        {
          "output_type": "stream",
          "name": "stderr",
          "text": [
            "Парсинг страниц психологов:  52%|█████▏    | 460/877 [1:26:11<1:31:37, 13.18s/страница]"
          ]
        },
        {
          "output_type": "stream",
          "name": "stdout",
          "text": [
            "Ошибка при обработке ссылки https://alter.ru/psychologists/sochi/elvira-moiseeva: Message: \n",
            "\n"
          ]
        },
        {
          "output_type": "stream",
          "name": "stderr",
          "text": [
            "Парсинг страниц психологов:  53%|█████▎    | 462/877 [1:26:47<1:43:47, 15.00s/страница]"
          ]
        },
        {
          "output_type": "stream",
          "name": "stdout",
          "text": [
            "Ошибка при обработке ссылки https://alter.ru/psychologists/msk/elena-kurdiukova: Message: \n",
            "\n"
          ]
        },
        {
          "output_type": "stream",
          "name": "stderr",
          "text": [
            "Парсинг страниц психологов:  53%|█████▎    | 464/877 [1:27:14<1:36:06, 13.96s/страница]"
          ]
        },
        {
          "output_type": "stream",
          "name": "stdout",
          "text": [
            "Ошибка при обработке ссылки https://alter.ru/psychologists/saratov/natalia-kvasova: Message: \n",
            "\n"
          ]
        },
        {
          "output_type": "stream",
          "name": "stderr",
          "text": [
            "\rПарсинг страниц психологов:  53%|█████▎    | 465/877 [1:27:25<1:29:00, 12.96s/страница]"
          ]
        },
        {
          "output_type": "stream",
          "name": "stdout",
          "text": [
            "Ошибка при обработке ссылки https://alter.ru/psychologists/kursk/nadezhda-siniugina: Message: \n",
            "\n"
          ]
        },
        {
          "output_type": "stream",
          "name": "stderr",
          "text": [
            "\rПарсинг страниц психологов:  53%|█████▎    | 466/877 [1:27:36<1:24:44, 12.37s/страница]"
          ]
        },
        {
          "output_type": "stream",
          "name": "stdout",
          "text": [
            "Ошибка при обработке ссылки https://alter.ru/psychologists/msk/marina-semechkova: Message: \n",
            "\n"
          ]
        },
        {
          "output_type": "stream",
          "name": "stderr",
          "text": [
            "\rПарсинг страниц психологов:  53%|█████▎    | 467/877 [1:27:47<1:21:23, 11.91s/страница]"
          ]
        },
        {
          "output_type": "stream",
          "name": "stdout",
          "text": [
            "Ошибка при обработке ссылки https://alter.ru/psychologists/tula/nadezhda-ivanova: Message: \n",
            "\n"
          ]
        },
        {
          "output_type": "stream",
          "name": "stderr",
          "text": [
            "Парсинг страниц психологов:  61%|██████    | 536/877 [1:41:09<1:08:56, 12.13s/страница]"
          ]
        },
        {
          "output_type": "stream",
          "name": "stdout",
          "text": [
            "Ошибка при обработке ссылки https://alter.ru/psychologists/novosibirsk/ekaterina-chuprina: Message: \n",
            "\n"
          ]
        },
        {
          "output_type": "stream",
          "name": "stderr",
          "text": [
            "\rПарсинг страниц психологов:  61%|██████    | 537/877 [1:41:20<1:06:40, 11.76s/страница]"
          ]
        },
        {
          "output_type": "stream",
          "name": "stdout",
          "text": [
            "Ошибка при обработке ссылки https://alter.ru/psychologists/msk/kseniia-dovganina: Message: \n",
            "\n"
          ]
        },
        {
          "output_type": "stream",
          "name": "stderr",
          "text": [
            "Парсинг страниц психологов:  71%|███████▏  | 625/877 [1:57:59<53:40, 12.78s/страница]"
          ]
        },
        {
          "output_type": "stream",
          "name": "stdout",
          "text": [
            "Ошибка при обработке ссылки https://alter.ru/psychologists/msk/anna-cherkesova: Message: \n",
            "\n"
          ]
        },
        {
          "output_type": "stream",
          "name": "stderr",
          "text": [
            "\rПарсинг страниц психологов:  71%|███████▏  | 626/877 [1:58:10<50:58, 12.19s/страница]"
          ]
        },
        {
          "output_type": "stream",
          "name": "stdout",
          "text": [
            "Ошибка при обработке ссылки https://alter.ru/psychologists/voronezh/lila-ponomareva: Message: \n",
            "\n"
          ]
        },
        {
          "output_type": "stream",
          "name": "stderr",
          "text": [
            "\rПарсинг страниц психологов:  71%|███████▏  | 627/877 [1:58:21<49:21, 11.85s/страница]"
          ]
        },
        {
          "output_type": "stream",
          "name": "stdout",
          "text": [
            "Ошибка при обработке ссылки https://alter.ru/psychologists/msk/olga-goriushkina: Message: \n",
            "\n"
          ]
        },
        {
          "output_type": "stream",
          "name": "stderr",
          "text": [
            "Парсинг страниц психологов: 100%|██████████| 877/877 [2:46:06<00:00, 11.36s/страница]\n"
          ]
        },
        {
          "output_type": "execute_result",
          "data": {
            "text/plain": [
              "             Имя фамилия  Цена за сессию (руб)            Город  Онлайн  \\\n",
              "0      Земфира Максимова                  3500      Калининград       1   \n",
              "1          Алина Иванова                  5000           Москва       1   \n",
              "2    Светлана Матякубова                  5000  Санкт-Петербург       1   \n",
              "3     Екатерина Новицкая                  5000           Москва       1   \n",
              "4        Елена Щеблыкина                  4000            Томск       1   \n",
              "5         Виталий Волков                  5000           Москва       1   \n",
              "6          Ольга Дятлова                  9000           Москва       1   \n",
              "7   Кристина Сапожникова                  6000  Санкт-Петербург       1   \n",
              "8        Лилия Сидоренко                  4300        Краснодар       1   \n",
              "9     Маргарита Спасская                  9000        Тель-Авив       1   \n",
              "10          Мария Быкова                  2700  Санкт-Петербург       1   \n",
              "11     Виктория Потапова                  5500           Москва       1   \n",
              "12          Елена Рунова                  4500          Дмитров       1   \n",
              "13             Ирина Пак                  3400  Санкт-Петербург       1   \n",
              "14            Анна Савва                  2200     Екатеринбург       1   \n",
              "15      Наталия Слободян                  5000           Москва       1   \n",
              "16     Юлиана Тихомирова                  3750           Москва       1   \n",
              "17      Светлана Байкова                  4000  Санкт-Петербург       1   \n",
              "18    Гульнара Мангушева                  3200           Москва       1   \n",
              "19        Юлия Дорофеева                  6500           Москва       1   \n",
              "\n",
              "    Лично                                            Подходы  \\\n",
              "0       1                                 [Гештальт-терапия]   \n",
              "1       0                                         [КПТ, ACT]   \n",
              "2       1                                      [Психоанализ]   \n",
              "3       0                                        [КПТ, РЭПТ]   \n",
              "4       0                                              [КПТ]   \n",
              "5       1                   [Транзактный анализ, Понимающая]   \n",
              "6       0                          [КПТ, MBCT, Схематерапия]   \n",
              "7       0                                [КПТ, Схематерапия]   \n",
              "8       0                                              [КПТ]   \n",
              "9       0                                     [Схематерапия]   \n",
              "10      0  [ССТ, Гештальт-терапия, Психоанализ, Арт-терапия]   \n",
              "11      0               [Арт-терапия, КЦП, Игровая, Детская]   \n",
              "12      1                                   [КПТ, ACT, РЭПТ]   \n",
              "13      1                                 [Экзистенциальный]   \n",
              "14      0                                [ACT, Схематерапия]   \n",
              "15      1                                 [Гештальт-терапия]   \n",
              "16      0                                              [КПТ]   \n",
              "17      1                [Психоанализ, Арт-терапия, Детская]   \n",
              "18      1                                 [Гештальт-терапия]   \n",
              "19      0                                 [Экзистенциальный]   \n",
              "\n",
              "                                        Специализация  \\\n",
              "0   [Самооценка и уверенность в себе, Сложные пере...   \n",
              "1   [Самооценка и уверенность в себе, Страхи, Смыс...   \n",
              "2   [Самооценка и уверенность в себе, Трудный прош...   \n",
              "3   [Самооценка и уверенность в себе, Страхи, Отно...   \n",
              "4   [Самооценка и уверенность в себе, Эмоционально...   \n",
              "5   [Самооценка и уверенность в себе, Трудный прош...   \n",
              "6   [Самооценка и уверенность в себе, Эмоционально...   \n",
              "7   [Самооценка и уверенность в себе, Страхи, Псих...   \n",
              "8   [Самооценка и уверенность в себе, Эмоционально...   \n",
              "9   [Самооценка и уверенность в себе, Отношения с ...   \n",
              "10  [Самооценка и уверенность в себе, Эмоционально...   \n",
              "11  [Самооценка и уверенность в себе, Недовольство...   \n",
              "12  [Самооценка и уверенность в себе, Эмоционально...   \n",
              "13  [Трудный прошлый опыт, Отношения с родителями,...   \n",
              "14  [Самооценка и уверенность в себе, Эмоционально...   \n",
              "15  [Самооценка и уверенность в себе, Эмоционально...   \n",
              "16  [Самооценка и уверенность в себе, Эмоционально...   \n",
              "17  [Самооценка и уверенность в себе, Эмоционально...   \n",
              "18  [Самооценка и уверенность в себе, Недовольство...   \n",
              "19  [Самооценка и уверенность в себе, Эмоционально...   \n",
              "\n",
              "                                       С кем работает  Опыт работы (в годах)  \\\n",
              "0                                          [Взрослые]                      4   \n",
              "1                                          [Взрослые]                      7   \n",
              "2                                          [Взрослые]                     17   \n",
              "3                                          [Взрослые]                      5   \n",
              "4                                          [Взрослые]                      5   \n",
              "5                         [Взрослые, Люди в возрасте]                     10   \n",
              "6                                   [Взрослые, Семьи]                      8   \n",
              "7                                          [Взрослые]                      6   \n",
              "8                         [Взрослые, Люди в возрасте]                      3   \n",
              "9                         [Взрослые, Люди в возрасте]                     17   \n",
              "10                                         [Взрослые]                      2   \n",
              "11  [Взрослые, Семьи, Дети от 3 до 10 лет, Подрост...                     16   \n",
              "12                                         [Взрослые]                      2   \n",
              "13                        [Взрослые, Люди в возрасте]                     11   \n",
              "14                                         [Взрослые]                      1   \n",
              "15                                         [Взрослые]                      8   \n",
              "16                                         [Взрослые]                      2   \n",
              "17  [Взрослые, Подростки от 11 до 15 лет, Подростк...                     17   \n",
              "18                                         [Взрослые]                      1   \n",
              "19                                         [Взрослые]                      4   \n",
              "\n",
              "    Возраст (в годах)  ...  Пол  Наличие детей  Работает ли с верующими  \\\n",
              "0                45.0  ...    0            0.0                        0   \n",
              "1                34.0  ...    0            1.0                        0   \n",
              "2                57.0  ...    0            1.0                        0   \n",
              "3                29.0  ...    0            0.0                        0   \n",
              "4                28.0  ...    0            0.0                        0   \n",
              "5                31.0  ...    1            0.0                        0   \n",
              "6                35.0  ...    0            0.0                        0   \n",
              "7                29.0  ...    0            0.0                        0   \n",
              "8                32.0  ...    0            0.0                        0   \n",
              "9                 NaN  ...    0            NaN                        0   \n",
              "10               38.0  ...    0            1.0                        0   \n",
              "11               36.0  ...    0            1.0                        0   \n",
              "12               32.0  ...    0            0.0                        0   \n",
              "13               45.0  ...    0            0.0                        0   \n",
              "14               29.0  ...    0            0.0                        0   \n",
              "15               41.0  ...    0            0.0                        0   \n",
              "16               31.0  ...    0            0.0                        0   \n",
              "17               55.0  ...    0            1.0                        0   \n",
              "18               38.0  ...    0            0.0                        0   \n",
              "19               36.0  ...    0            0.0                        0   \n",
              "\n",
              "    Фем-френдли  Квир-френдли  Работает ли с онко-пациентами  \\\n",
              "0             0             0                              0   \n",
              "1             0             0                              0   \n",
              "2             0             1                              0   \n",
              "3             0             0                              0   \n",
              "4             0             0                              0   \n",
              "5             0             1                              0   \n",
              "6             0             1                              1   \n",
              "7             0             1                              0   \n",
              "8             0             0                              0   \n",
              "9             0             1                              0   \n",
              "10            0             0                              0   \n",
              "11            0             1                              1   \n",
              "12            0             0                              0   \n",
              "13            0             0                              0   \n",
              "14            0             0                              0   \n",
              "15            0             0                              1   \n",
              "16            0             0                              0   \n",
              "17            1             1                              0   \n",
              "18            0             0                              0   \n",
              "19            0             0                              0   \n",
              "\n",
              "                                          Образование  \\\n",
              "0   [АНО «Национальный Открытый Институт г. Санкт-...   \n",
              "1   [Московский институт психоанализа. «Психология...   \n",
              "2   [НОУ «Восточно-Европейский Институт Психоанали...   \n",
              "3   [Московский педагогический государственный уни...   \n",
              "4   [Сибирский государственный медицинский универс...   \n",
              "5   [Московский городской психолого-педагогический...   \n",
              "6   [РНИМУ им. Н.И. Пирогова. «Клинический психоло...   \n",
              "7   [Санкт-Петербургский государственный университ...   \n",
              "8   [Кубанский Государственный Университет. «Психо...   \n",
              "9   [Восточно-Европейский Институт Психоанализа. К...   \n",
              "10  [ГАОУ ВО «Ленинградский государственный универ...   \n",
              "11  [Орловской Государственный Университет. «Психо...   \n",
              "12  [НОЧУ ВО «Московский финансово-промышленный ун...   \n",
              "13  [Казахский государственный университет имени а...   \n",
              "14  [НОЧУ ВО «Московский институт психоанализа». «...   \n",
              "15  [Московский Государственный Университет имени ...   \n",
              "16  [Московский институт психоанализа. «Психология...   \n",
              "17  [Восточно-Европейский Институт Психоанализа. С...   \n",
              "18  [ООО «Поволжский Институт Непрерывного професс...   \n",
              "19  [НИУ ВШЭ. Факультет социальных наук. «Консульт...   \n",
              "\n",
              "   Наличие видеоприветствия  Наличие аудиоприветствия  \\\n",
              "0                         1                         0   \n",
              "1                         0                         1   \n",
              "2                         0                         0   \n",
              "3                         1                         0   \n",
              "4                         0                         0   \n",
              "5                         0                         0   \n",
              "6                         0                         0   \n",
              "7                         0                         0   \n",
              "8                         1                         0   \n",
              "9                         1                         0   \n",
              "10                        1                         0   \n",
              "11                        0                         1   \n",
              "12                        1                         0   \n",
              "13                        1                         0   \n",
              "14                        1                         0   \n",
              "15                        0                         1   \n",
              "16                        1                         0   \n",
              "17                        0                         0   \n",
              "18                        1                         0   \n",
              "19                        1                         0   \n",
              "\n",
              "                                               О себе  \n",
              "0   Здравствуйте меня зовут Земфира, я психолог, г...  \n",
              "1   Верю в силы, возможности и способности человек...  \n",
              "2   Я психолог, психоаналитической ориентации, спе...  \n",
              "3   Здравствуйте! Меня зовут Екатерина, я психолог...  \n",
              "4   В своей практике опираюсь на проверенные метод...  \n",
              "5   Я искренне верю в клиента, вижу и поддерживаю ...  \n",
              "6   Здравствуйте и приятно познакомиться! Большую ...  \n",
              "7   Я часто сталкиваюсь с тем, что люди относятся ...  \n",
              "8   Здравствуйте! Меня зовут — Лилия. Поиск психол...  \n",
              "9   Пауза. То, что часто необходимо нам, чтобы зад...  \n",
              "10  Здравствуйте, меня зовут Быкова Мария, я практ...  \n",
              "11  Я более 10 лет работаю со взрослыми, детьми и ...  \n",
              "12  Здравствуйте! Меня зовут Елена и я когнитивно-...  \n",
              "13  В современном мире много средств самопомощи, я...  \n",
              "14  Здравствуйте! Меня зовут Анна Савва, я психоло...  \n",
              "15  Для меня психология — это очень практичный инс...  \n",
              "16  Привет, я Юлиана. Если вы здесь, то возможно в...  \n",
              "17  Однажды, где-то 15 лет назад, я задумалась — «...  \n",
              "18  Я психолог, который работает с переживаниями. ...  \n",
              "19  Здравствуйте, меня зовут Юлия — я психолог и а...  \n",
              "\n",
              "[20 rows x 21 columns]"
            ],
            "text/html": [
              "\n",
              "  <div id=\"df-9ace4712-c529-4ddd-b358-cbe524738742\" class=\"colab-df-container\">\n",
              "    <div>\n",
              "<style scoped>\n",
              "    .dataframe tbody tr th:only-of-type {\n",
              "        vertical-align: middle;\n",
              "    }\n",
              "\n",
              "    .dataframe tbody tr th {\n",
              "        vertical-align: top;\n",
              "    }\n",
              "\n",
              "    .dataframe thead th {\n",
              "        text-align: right;\n",
              "    }\n",
              "</style>\n",
              "<table border=\"1\" class=\"dataframe\">\n",
              "  <thead>\n",
              "    <tr style=\"text-align: right;\">\n",
              "      <th></th>\n",
              "      <th>Имя фамилия</th>\n",
              "      <th>Цена за сессию (руб)</th>\n",
              "      <th>Город</th>\n",
              "      <th>Онлайн</th>\n",
              "      <th>Лично</th>\n",
              "      <th>Подходы</th>\n",
              "      <th>Специализация</th>\n",
              "      <th>С кем работает</th>\n",
              "      <th>Опыт работы (в годах)</th>\n",
              "      <th>Возраст (в годах)</th>\n",
              "      <th>...</th>\n",
              "      <th>Пол</th>\n",
              "      <th>Наличие детей</th>\n",
              "      <th>Работает ли с верующими</th>\n",
              "      <th>Фем-френдли</th>\n",
              "      <th>Квир-френдли</th>\n",
              "      <th>Работает ли с онко-пациентами</th>\n",
              "      <th>Образование</th>\n",
              "      <th>Наличие видеоприветствия</th>\n",
              "      <th>Наличие аудиоприветствия</th>\n",
              "      <th>О себе</th>\n",
              "    </tr>\n",
              "  </thead>\n",
              "  <tbody>\n",
              "    <tr>\n",
              "      <th>0</th>\n",
              "      <td>Земфира Максимова</td>\n",
              "      <td>3500</td>\n",
              "      <td>Калининград</td>\n",
              "      <td>1</td>\n",
              "      <td>1</td>\n",
              "      <td>[Гештальт-терапия]</td>\n",
              "      <td>[Самооценка и уверенность в себе, Сложные пере...</td>\n",
              "      <td>[Взрослые]</td>\n",
              "      <td>4</td>\n",
              "      <td>45.0</td>\n",
              "      <td>...</td>\n",
              "      <td>0</td>\n",
              "      <td>0.0</td>\n",
              "      <td>0</td>\n",
              "      <td>0</td>\n",
              "      <td>0</td>\n",
              "      <td>0</td>\n",
              "      <td>[АНО «Национальный Открытый Институт г. Санкт-...</td>\n",
              "      <td>1</td>\n",
              "      <td>0</td>\n",
              "      <td>Здравствуйте меня зовут Земфира, я психолог, г...</td>\n",
              "    </tr>\n",
              "    <tr>\n",
              "      <th>1</th>\n",
              "      <td>Алина Иванова</td>\n",
              "      <td>5000</td>\n",
              "      <td>Москва</td>\n",
              "      <td>1</td>\n",
              "      <td>0</td>\n",
              "      <td>[КПТ, ACT]</td>\n",
              "      <td>[Самооценка и уверенность в себе, Страхи, Смыс...</td>\n",
              "      <td>[Взрослые]</td>\n",
              "      <td>7</td>\n",
              "      <td>34.0</td>\n",
              "      <td>...</td>\n",
              "      <td>0</td>\n",
              "      <td>1.0</td>\n",
              "      <td>0</td>\n",
              "      <td>0</td>\n",
              "      <td>0</td>\n",
              "      <td>0</td>\n",
              "      <td>[Московский институт психоанализа. «Психология...</td>\n",
              "      <td>0</td>\n",
              "      <td>1</td>\n",
              "      <td>Верю в силы, возможности и способности человек...</td>\n",
              "    </tr>\n",
              "    <tr>\n",
              "      <th>2</th>\n",
              "      <td>Светлана Матякубова</td>\n",
              "      <td>5000</td>\n",
              "      <td>Санкт-Петербург</td>\n",
              "      <td>1</td>\n",
              "      <td>1</td>\n",
              "      <td>[Психоанализ]</td>\n",
              "      <td>[Самооценка и уверенность в себе, Трудный прош...</td>\n",
              "      <td>[Взрослые]</td>\n",
              "      <td>17</td>\n",
              "      <td>57.0</td>\n",
              "      <td>...</td>\n",
              "      <td>0</td>\n",
              "      <td>1.0</td>\n",
              "      <td>0</td>\n",
              "      <td>0</td>\n",
              "      <td>1</td>\n",
              "      <td>0</td>\n",
              "      <td>[НОУ «Восточно-Европейский Институт Психоанали...</td>\n",
              "      <td>0</td>\n",
              "      <td>0</td>\n",
              "      <td>Я психолог, психоаналитической ориентации, спе...</td>\n",
              "    </tr>\n",
              "    <tr>\n",
              "      <th>3</th>\n",
              "      <td>Екатерина Новицкая</td>\n",
              "      <td>5000</td>\n",
              "      <td>Москва</td>\n",
              "      <td>1</td>\n",
              "      <td>0</td>\n",
              "      <td>[КПТ, РЭПТ]</td>\n",
              "      <td>[Самооценка и уверенность в себе, Страхи, Отно...</td>\n",
              "      <td>[Взрослые]</td>\n",
              "      <td>5</td>\n",
              "      <td>29.0</td>\n",
              "      <td>...</td>\n",
              "      <td>0</td>\n",
              "      <td>0.0</td>\n",
              "      <td>0</td>\n",
              "      <td>0</td>\n",
              "      <td>0</td>\n",
              "      <td>0</td>\n",
              "      <td>[Московский педагогический государственный уни...</td>\n",
              "      <td>1</td>\n",
              "      <td>0</td>\n",
              "      <td>Здравствуйте! Меня зовут Екатерина, я психолог...</td>\n",
              "    </tr>\n",
              "    <tr>\n",
              "      <th>4</th>\n",
              "      <td>Елена Щеблыкина</td>\n",
              "      <td>4000</td>\n",
              "      <td>Томск</td>\n",
              "      <td>1</td>\n",
              "      <td>0</td>\n",
              "      <td>[КПТ]</td>\n",
              "      <td>[Самооценка и уверенность в себе, Эмоционально...</td>\n",
              "      <td>[Взрослые]</td>\n",
              "      <td>5</td>\n",
              "      <td>28.0</td>\n",
              "      <td>...</td>\n",
              "      <td>0</td>\n",
              "      <td>0.0</td>\n",
              "      <td>0</td>\n",
              "      <td>0</td>\n",
              "      <td>0</td>\n",
              "      <td>0</td>\n",
              "      <td>[Сибирский государственный медицинский универс...</td>\n",
              "      <td>0</td>\n",
              "      <td>0</td>\n",
              "      <td>В своей практике опираюсь на проверенные метод...</td>\n",
              "    </tr>\n",
              "    <tr>\n",
              "      <th>5</th>\n",
              "      <td>Виталий Волков</td>\n",
              "      <td>5000</td>\n",
              "      <td>Москва</td>\n",
              "      <td>1</td>\n",
              "      <td>1</td>\n",
              "      <td>[Транзактный анализ, Понимающая]</td>\n",
              "      <td>[Самооценка и уверенность в себе, Трудный прош...</td>\n",
              "      <td>[Взрослые, Люди в возрасте]</td>\n",
              "      <td>10</td>\n",
              "      <td>31.0</td>\n",
              "      <td>...</td>\n",
              "      <td>1</td>\n",
              "      <td>0.0</td>\n",
              "      <td>0</td>\n",
              "      <td>0</td>\n",
              "      <td>1</td>\n",
              "      <td>0</td>\n",
              "      <td>[Московский городской психолого-педагогический...</td>\n",
              "      <td>0</td>\n",
              "      <td>0</td>\n",
              "      <td>Я искренне верю в клиента, вижу и поддерживаю ...</td>\n",
              "    </tr>\n",
              "    <tr>\n",
              "      <th>6</th>\n",
              "      <td>Ольга Дятлова</td>\n",
              "      <td>9000</td>\n",
              "      <td>Москва</td>\n",
              "      <td>1</td>\n",
              "      <td>0</td>\n",
              "      <td>[КПТ, MBCT, Схематерапия]</td>\n",
              "      <td>[Самооценка и уверенность в себе, Эмоционально...</td>\n",
              "      <td>[Взрослые, Семьи]</td>\n",
              "      <td>8</td>\n",
              "      <td>35.0</td>\n",
              "      <td>...</td>\n",
              "      <td>0</td>\n",
              "      <td>0.0</td>\n",
              "      <td>0</td>\n",
              "      <td>0</td>\n",
              "      <td>1</td>\n",
              "      <td>1</td>\n",
              "      <td>[РНИМУ им. Н.И. Пирогова. «Клинический психоло...</td>\n",
              "      <td>0</td>\n",
              "      <td>0</td>\n",
              "      <td>Здравствуйте и приятно познакомиться! Большую ...</td>\n",
              "    </tr>\n",
              "    <tr>\n",
              "      <th>7</th>\n",
              "      <td>Кристина Сапожникова</td>\n",
              "      <td>6000</td>\n",
              "      <td>Санкт-Петербург</td>\n",
              "      <td>1</td>\n",
              "      <td>0</td>\n",
              "      <td>[КПТ, Схематерапия]</td>\n",
              "      <td>[Самооценка и уверенность в себе, Страхи, Псих...</td>\n",
              "      <td>[Взрослые]</td>\n",
              "      <td>6</td>\n",
              "      <td>29.0</td>\n",
              "      <td>...</td>\n",
              "      <td>0</td>\n",
              "      <td>0.0</td>\n",
              "      <td>0</td>\n",
              "      <td>0</td>\n",
              "      <td>1</td>\n",
              "      <td>0</td>\n",
              "      <td>[Санкт-Петербургский государственный университ...</td>\n",
              "      <td>0</td>\n",
              "      <td>0</td>\n",
              "      <td>Я часто сталкиваюсь с тем, что люди относятся ...</td>\n",
              "    </tr>\n",
              "    <tr>\n",
              "      <th>8</th>\n",
              "      <td>Лилия Сидоренко</td>\n",
              "      <td>4300</td>\n",
              "      <td>Краснодар</td>\n",
              "      <td>1</td>\n",
              "      <td>0</td>\n",
              "      <td>[КПТ]</td>\n",
              "      <td>[Самооценка и уверенность в себе, Эмоционально...</td>\n",
              "      <td>[Взрослые, Люди в возрасте]</td>\n",
              "      <td>3</td>\n",
              "      <td>32.0</td>\n",
              "      <td>...</td>\n",
              "      <td>0</td>\n",
              "      <td>0.0</td>\n",
              "      <td>0</td>\n",
              "      <td>0</td>\n",
              "      <td>0</td>\n",
              "      <td>0</td>\n",
              "      <td>[Кубанский Государственный Университет. «Психо...</td>\n",
              "      <td>1</td>\n",
              "      <td>0</td>\n",
              "      <td>Здравствуйте! Меня зовут — Лилия. Поиск психол...</td>\n",
              "    </tr>\n",
              "    <tr>\n",
              "      <th>9</th>\n",
              "      <td>Маргарита Спасская</td>\n",
              "      <td>9000</td>\n",
              "      <td>Тель-Авив</td>\n",
              "      <td>1</td>\n",
              "      <td>0</td>\n",
              "      <td>[Схематерапия]</td>\n",
              "      <td>[Самооценка и уверенность в себе, Отношения с ...</td>\n",
              "      <td>[Взрослые, Люди в возрасте]</td>\n",
              "      <td>17</td>\n",
              "      <td>NaN</td>\n",
              "      <td>...</td>\n",
              "      <td>0</td>\n",
              "      <td>NaN</td>\n",
              "      <td>0</td>\n",
              "      <td>0</td>\n",
              "      <td>1</td>\n",
              "      <td>0</td>\n",
              "      <td>[Восточно-Европейский Институт Психоанализа. К...</td>\n",
              "      <td>1</td>\n",
              "      <td>0</td>\n",
              "      <td>Пауза. То, что часто необходимо нам, чтобы зад...</td>\n",
              "    </tr>\n",
              "    <tr>\n",
              "      <th>10</th>\n",
              "      <td>Мария Быкова</td>\n",
              "      <td>2700</td>\n",
              "      <td>Санкт-Петербург</td>\n",
              "      <td>1</td>\n",
              "      <td>0</td>\n",
              "      <td>[ССТ, Гештальт-терапия, Психоанализ, Арт-терапия]</td>\n",
              "      <td>[Самооценка и уверенность в себе, Эмоционально...</td>\n",
              "      <td>[Взрослые]</td>\n",
              "      <td>2</td>\n",
              "      <td>38.0</td>\n",
              "      <td>...</td>\n",
              "      <td>0</td>\n",
              "      <td>1.0</td>\n",
              "      <td>0</td>\n",
              "      <td>0</td>\n",
              "      <td>0</td>\n",
              "      <td>0</td>\n",
              "      <td>[ГАОУ ВО «Ленинградский государственный универ...</td>\n",
              "      <td>1</td>\n",
              "      <td>0</td>\n",
              "      <td>Здравствуйте, меня зовут Быкова Мария, я практ...</td>\n",
              "    </tr>\n",
              "    <tr>\n",
              "      <th>11</th>\n",
              "      <td>Виктория Потапова</td>\n",
              "      <td>5500</td>\n",
              "      <td>Москва</td>\n",
              "      <td>1</td>\n",
              "      <td>0</td>\n",
              "      <td>[Арт-терапия, КЦП, Игровая, Детская]</td>\n",
              "      <td>[Самооценка и уверенность в себе, Недовольство...</td>\n",
              "      <td>[Взрослые, Семьи, Дети от 3 до 10 лет, Подрост...</td>\n",
              "      <td>16</td>\n",
              "      <td>36.0</td>\n",
              "      <td>...</td>\n",
              "      <td>0</td>\n",
              "      <td>1.0</td>\n",
              "      <td>0</td>\n",
              "      <td>0</td>\n",
              "      <td>1</td>\n",
              "      <td>1</td>\n",
              "      <td>[Орловской Государственный Университет. «Психо...</td>\n",
              "      <td>0</td>\n",
              "      <td>1</td>\n",
              "      <td>Я более 10 лет работаю со взрослыми, детьми и ...</td>\n",
              "    </tr>\n",
              "    <tr>\n",
              "      <th>12</th>\n",
              "      <td>Елена Рунова</td>\n",
              "      <td>4500</td>\n",
              "      <td>Дмитров</td>\n",
              "      <td>1</td>\n",
              "      <td>1</td>\n",
              "      <td>[КПТ, ACT, РЭПТ]</td>\n",
              "      <td>[Самооценка и уверенность в себе, Эмоционально...</td>\n",
              "      <td>[Взрослые]</td>\n",
              "      <td>2</td>\n",
              "      <td>32.0</td>\n",
              "      <td>...</td>\n",
              "      <td>0</td>\n",
              "      <td>0.0</td>\n",
              "      <td>0</td>\n",
              "      <td>0</td>\n",
              "      <td>0</td>\n",
              "      <td>0</td>\n",
              "      <td>[НОЧУ ВО «Московский финансово-промышленный ун...</td>\n",
              "      <td>1</td>\n",
              "      <td>0</td>\n",
              "      <td>Здравствуйте! Меня зовут Елена и я когнитивно-...</td>\n",
              "    </tr>\n",
              "    <tr>\n",
              "      <th>13</th>\n",
              "      <td>Ирина Пак</td>\n",
              "      <td>3400</td>\n",
              "      <td>Санкт-Петербург</td>\n",
              "      <td>1</td>\n",
              "      <td>1</td>\n",
              "      <td>[Экзистенциальный]</td>\n",
              "      <td>[Трудный прошлый опыт, Отношения с родителями,...</td>\n",
              "      <td>[Взрослые, Люди в возрасте]</td>\n",
              "      <td>11</td>\n",
              "      <td>45.0</td>\n",
              "      <td>...</td>\n",
              "      <td>0</td>\n",
              "      <td>0.0</td>\n",
              "      <td>0</td>\n",
              "      <td>0</td>\n",
              "      <td>0</td>\n",
              "      <td>0</td>\n",
              "      <td>[Казахский государственный университет имени а...</td>\n",
              "      <td>1</td>\n",
              "      <td>0</td>\n",
              "      <td>В современном мире много средств самопомощи, я...</td>\n",
              "    </tr>\n",
              "    <tr>\n",
              "      <th>14</th>\n",
              "      <td>Анна Савва</td>\n",
              "      <td>2200</td>\n",
              "      <td>Екатеринбург</td>\n",
              "      <td>1</td>\n",
              "      <td>0</td>\n",
              "      <td>[ACT, Схематерапия]</td>\n",
              "      <td>[Самооценка и уверенность в себе, Эмоционально...</td>\n",
              "      <td>[Взрослые]</td>\n",
              "      <td>1</td>\n",
              "      <td>29.0</td>\n",
              "      <td>...</td>\n",
              "      <td>0</td>\n",
              "      <td>0.0</td>\n",
              "      <td>0</td>\n",
              "      <td>0</td>\n",
              "      <td>0</td>\n",
              "      <td>0</td>\n",
              "      <td>[НОЧУ ВО «Московский институт психоанализа». «...</td>\n",
              "      <td>1</td>\n",
              "      <td>0</td>\n",
              "      <td>Здравствуйте! Меня зовут Анна Савва, я психоло...</td>\n",
              "    </tr>\n",
              "    <tr>\n",
              "      <th>15</th>\n",
              "      <td>Наталия Слободян</td>\n",
              "      <td>5000</td>\n",
              "      <td>Москва</td>\n",
              "      <td>1</td>\n",
              "      <td>1</td>\n",
              "      <td>[Гештальт-терапия]</td>\n",
              "      <td>[Самооценка и уверенность в себе, Эмоционально...</td>\n",
              "      <td>[Взрослые]</td>\n",
              "      <td>8</td>\n",
              "      <td>41.0</td>\n",
              "      <td>...</td>\n",
              "      <td>0</td>\n",
              "      <td>0.0</td>\n",
              "      <td>0</td>\n",
              "      <td>0</td>\n",
              "      <td>0</td>\n",
              "      <td>1</td>\n",
              "      <td>[Московский Государственный Университет имени ...</td>\n",
              "      <td>0</td>\n",
              "      <td>1</td>\n",
              "      <td>Для меня психология — это очень практичный инс...</td>\n",
              "    </tr>\n",
              "    <tr>\n",
              "      <th>16</th>\n",
              "      <td>Юлиана Тихомирова</td>\n",
              "      <td>3750</td>\n",
              "      <td>Москва</td>\n",
              "      <td>1</td>\n",
              "      <td>0</td>\n",
              "      <td>[КПТ]</td>\n",
              "      <td>[Самооценка и уверенность в себе, Эмоционально...</td>\n",
              "      <td>[Взрослые]</td>\n",
              "      <td>2</td>\n",
              "      <td>31.0</td>\n",
              "      <td>...</td>\n",
              "      <td>0</td>\n",
              "      <td>0.0</td>\n",
              "      <td>0</td>\n",
              "      <td>0</td>\n",
              "      <td>0</td>\n",
              "      <td>0</td>\n",
              "      <td>[Московский институт психоанализа. «Психология...</td>\n",
              "      <td>1</td>\n",
              "      <td>0</td>\n",
              "      <td>Привет, я Юлиана. Если вы здесь, то возможно в...</td>\n",
              "    </tr>\n",
              "    <tr>\n",
              "      <th>17</th>\n",
              "      <td>Светлана Байкова</td>\n",
              "      <td>4000</td>\n",
              "      <td>Санкт-Петербург</td>\n",
              "      <td>1</td>\n",
              "      <td>1</td>\n",
              "      <td>[Психоанализ, Арт-терапия, Детская]</td>\n",
              "      <td>[Самооценка и уверенность в себе, Эмоционально...</td>\n",
              "      <td>[Взрослые, Подростки от 11 до 15 лет, Подростк...</td>\n",
              "      <td>17</td>\n",
              "      <td>55.0</td>\n",
              "      <td>...</td>\n",
              "      <td>0</td>\n",
              "      <td>1.0</td>\n",
              "      <td>0</td>\n",
              "      <td>1</td>\n",
              "      <td>1</td>\n",
              "      <td>0</td>\n",
              "      <td>[Восточно-Европейский Институт Психоанализа. С...</td>\n",
              "      <td>0</td>\n",
              "      <td>0</td>\n",
              "      <td>Однажды, где-то 15 лет назад, я задумалась — «...</td>\n",
              "    </tr>\n",
              "    <tr>\n",
              "      <th>18</th>\n",
              "      <td>Гульнара Мангушева</td>\n",
              "      <td>3200</td>\n",
              "      <td>Москва</td>\n",
              "      <td>1</td>\n",
              "      <td>1</td>\n",
              "      <td>[Гештальт-терапия]</td>\n",
              "      <td>[Самооценка и уверенность в себе, Недовольство...</td>\n",
              "      <td>[Взрослые]</td>\n",
              "      <td>1</td>\n",
              "      <td>38.0</td>\n",
              "      <td>...</td>\n",
              "      <td>0</td>\n",
              "      <td>0.0</td>\n",
              "      <td>0</td>\n",
              "      <td>0</td>\n",
              "      <td>0</td>\n",
              "      <td>0</td>\n",
              "      <td>[ООО «Поволжский Институт Непрерывного професс...</td>\n",
              "      <td>1</td>\n",
              "      <td>0</td>\n",
              "      <td>Я психолог, который работает с переживаниями. ...</td>\n",
              "    </tr>\n",
              "    <tr>\n",
              "      <th>19</th>\n",
              "      <td>Юлия Дорофеева</td>\n",
              "      <td>6500</td>\n",
              "      <td>Москва</td>\n",
              "      <td>1</td>\n",
              "      <td>0</td>\n",
              "      <td>[Экзистенциальный]</td>\n",
              "      <td>[Самооценка и уверенность в себе, Эмоционально...</td>\n",
              "      <td>[Взрослые]</td>\n",
              "      <td>4</td>\n",
              "      <td>36.0</td>\n",
              "      <td>...</td>\n",
              "      <td>0</td>\n",
              "      <td>0.0</td>\n",
              "      <td>0</td>\n",
              "      <td>0</td>\n",
              "      <td>0</td>\n",
              "      <td>0</td>\n",
              "      <td>[НИУ ВШЭ. Факультет социальных наук. «Консульт...</td>\n",
              "      <td>1</td>\n",
              "      <td>0</td>\n",
              "      <td>Здравствуйте, меня зовут Юлия — я психолог и а...</td>\n",
              "    </tr>\n",
              "  </tbody>\n",
              "</table>\n",
              "<p>20 rows × 21 columns</p>\n",
              "</div>\n",
              "    <div class=\"colab-df-buttons\">\n",
              "\n",
              "  <div class=\"colab-df-container\">\n",
              "    <button class=\"colab-df-convert\" onclick=\"convertToInteractive('df-9ace4712-c529-4ddd-b358-cbe524738742')\"\n",
              "            title=\"Convert this dataframe to an interactive table.\"\n",
              "            style=\"display:none;\">\n",
              "\n",
              "  <svg xmlns=\"http://www.w3.org/2000/svg\" height=\"24px\" viewBox=\"0 -960 960 960\">\n",
              "    <path d=\"M120-120v-720h720v720H120Zm60-500h600v-160H180v160Zm220 220h160v-160H400v160Zm0 220h160v-160H400v160ZM180-400h160v-160H180v160Zm440 0h160v-160H620v160ZM180-180h160v-160H180v160Zm440 0h160v-160H620v160Z\"/>\n",
              "  </svg>\n",
              "    </button>\n",
              "\n",
              "  <style>\n",
              "    .colab-df-container {\n",
              "      display:flex;\n",
              "      gap: 12px;\n",
              "    }\n",
              "\n",
              "    .colab-df-convert {\n",
              "      background-color: #E8F0FE;\n",
              "      border: none;\n",
              "      border-radius: 50%;\n",
              "      cursor: pointer;\n",
              "      display: none;\n",
              "      fill: #1967D2;\n",
              "      height: 32px;\n",
              "      padding: 0 0 0 0;\n",
              "      width: 32px;\n",
              "    }\n",
              "\n",
              "    .colab-df-convert:hover {\n",
              "      background-color: #E2EBFA;\n",
              "      box-shadow: 0px 1px 2px rgba(60, 64, 67, 0.3), 0px 1px 3px 1px rgba(60, 64, 67, 0.15);\n",
              "      fill: #174EA6;\n",
              "    }\n",
              "\n",
              "    .colab-df-buttons div {\n",
              "      margin-bottom: 4px;\n",
              "    }\n",
              "\n",
              "    [theme=dark] .colab-df-convert {\n",
              "      background-color: #3B4455;\n",
              "      fill: #D2E3FC;\n",
              "    }\n",
              "\n",
              "    [theme=dark] .colab-df-convert:hover {\n",
              "      background-color: #434B5C;\n",
              "      box-shadow: 0px 1px 3px 1px rgba(0, 0, 0, 0.15);\n",
              "      filter: drop-shadow(0px 1px 2px rgba(0, 0, 0, 0.3));\n",
              "      fill: #FFFFFF;\n",
              "    }\n",
              "  </style>\n",
              "\n",
              "    <script>\n",
              "      const buttonEl =\n",
              "        document.querySelector('#df-9ace4712-c529-4ddd-b358-cbe524738742 button.colab-df-convert');\n",
              "      buttonEl.style.display =\n",
              "        google.colab.kernel.accessAllowed ? 'block' : 'none';\n",
              "\n",
              "      async function convertToInteractive(key) {\n",
              "        const element = document.querySelector('#df-9ace4712-c529-4ddd-b358-cbe524738742');\n",
              "        const dataTable =\n",
              "          await google.colab.kernel.invokeFunction('convertToInteractive',\n",
              "                                                    [key], {});\n",
              "        if (!dataTable) return;\n",
              "\n",
              "        const docLinkHtml = 'Like what you see? Visit the ' +\n",
              "          '<a target=\"_blank\" href=https://colab.research.google.com/notebooks/data_table.ipynb>data table notebook</a>'\n",
              "          + ' to learn more about interactive tables.';\n",
              "        element.innerHTML = '';\n",
              "        dataTable['output_type'] = 'display_data';\n",
              "        await google.colab.output.renderOutput(dataTable, element);\n",
              "        const docLink = document.createElement('div');\n",
              "        docLink.innerHTML = docLinkHtml;\n",
              "        element.appendChild(docLink);\n",
              "      }\n",
              "    </script>\n",
              "  </div>\n",
              "\n",
              "\n",
              "<div id=\"df-d124d8c3-eaa8-45cf-866b-eaec115cda01\">\n",
              "  <button class=\"colab-df-quickchart\" onclick=\"quickchart('df-d124d8c3-eaa8-45cf-866b-eaec115cda01')\"\n",
              "            title=\"Suggest charts\"\n",
              "            style=\"display:none;\">\n",
              "\n",
              "<svg xmlns=\"http://www.w3.org/2000/svg\" height=\"24px\"viewBox=\"0 0 24 24\"\n",
              "     width=\"24px\">\n",
              "    <g>\n",
              "        <path d=\"M19 3H5c-1.1 0-2 .9-2 2v14c0 1.1.9 2 2 2h14c1.1 0 2-.9 2-2V5c0-1.1-.9-2-2-2zM9 17H7v-7h2v7zm4 0h-2V7h2v10zm4 0h-2v-4h2v4z\"/>\n",
              "    </g>\n",
              "</svg>\n",
              "  </button>\n",
              "\n",
              "<style>\n",
              "  .colab-df-quickchart {\n",
              "      --bg-color: #E8F0FE;\n",
              "      --fill-color: #1967D2;\n",
              "      --hover-bg-color: #E2EBFA;\n",
              "      --hover-fill-color: #174EA6;\n",
              "      --disabled-fill-color: #AAA;\n",
              "      --disabled-bg-color: #DDD;\n",
              "  }\n",
              "\n",
              "  [theme=dark] .colab-df-quickchart {\n",
              "      --bg-color: #3B4455;\n",
              "      --fill-color: #D2E3FC;\n",
              "      --hover-bg-color: #434B5C;\n",
              "      --hover-fill-color: #FFFFFF;\n",
              "      --disabled-bg-color: #3B4455;\n",
              "      --disabled-fill-color: #666;\n",
              "  }\n",
              "\n",
              "  .colab-df-quickchart {\n",
              "    background-color: var(--bg-color);\n",
              "    border: none;\n",
              "    border-radius: 50%;\n",
              "    cursor: pointer;\n",
              "    display: none;\n",
              "    fill: var(--fill-color);\n",
              "    height: 32px;\n",
              "    padding: 0;\n",
              "    width: 32px;\n",
              "  }\n",
              "\n",
              "  .colab-df-quickchart:hover {\n",
              "    background-color: var(--hover-bg-color);\n",
              "    box-shadow: 0 1px 2px rgba(60, 64, 67, 0.3), 0 1px 3px 1px rgba(60, 64, 67, 0.15);\n",
              "    fill: var(--button-hover-fill-color);\n",
              "  }\n",
              "\n",
              "  .colab-df-quickchart-complete:disabled,\n",
              "  .colab-df-quickchart-complete:disabled:hover {\n",
              "    background-color: var(--disabled-bg-color);\n",
              "    fill: var(--disabled-fill-color);\n",
              "    box-shadow: none;\n",
              "  }\n",
              "\n",
              "  .colab-df-spinner {\n",
              "    border: 2px solid var(--fill-color);\n",
              "    border-color: transparent;\n",
              "    border-bottom-color: var(--fill-color);\n",
              "    animation:\n",
              "      spin 1s steps(1) infinite;\n",
              "  }\n",
              "\n",
              "  @keyframes spin {\n",
              "    0% {\n",
              "      border-color: transparent;\n",
              "      border-bottom-color: var(--fill-color);\n",
              "      border-left-color: var(--fill-color);\n",
              "    }\n",
              "    20% {\n",
              "      border-color: transparent;\n",
              "      border-left-color: var(--fill-color);\n",
              "      border-top-color: var(--fill-color);\n",
              "    }\n",
              "    30% {\n",
              "      border-color: transparent;\n",
              "      border-left-color: var(--fill-color);\n",
              "      border-top-color: var(--fill-color);\n",
              "      border-right-color: var(--fill-color);\n",
              "    }\n",
              "    40% {\n",
              "      border-color: transparent;\n",
              "      border-right-color: var(--fill-color);\n",
              "      border-top-color: var(--fill-color);\n",
              "    }\n",
              "    60% {\n",
              "      border-color: transparent;\n",
              "      border-right-color: var(--fill-color);\n",
              "    }\n",
              "    80% {\n",
              "      border-color: transparent;\n",
              "      border-right-color: var(--fill-color);\n",
              "      border-bottom-color: var(--fill-color);\n",
              "    }\n",
              "    90% {\n",
              "      border-color: transparent;\n",
              "      border-bottom-color: var(--fill-color);\n",
              "    }\n",
              "  }\n",
              "</style>\n",
              "\n",
              "  <script>\n",
              "    async function quickchart(key) {\n",
              "      const quickchartButtonEl =\n",
              "        document.querySelector('#' + key + ' button');\n",
              "      quickchartButtonEl.disabled = true;  // To prevent multiple clicks.\n",
              "      quickchartButtonEl.classList.add('colab-df-spinner');\n",
              "      try {\n",
              "        const charts = await google.colab.kernel.invokeFunction(\n",
              "            'suggestCharts', [key], {});\n",
              "      } catch (error) {\n",
              "        console.error('Error during call to suggestCharts:', error);\n",
              "      }\n",
              "      quickchartButtonEl.classList.remove('colab-df-spinner');\n",
              "      quickchartButtonEl.classList.add('colab-df-quickchart-complete');\n",
              "    }\n",
              "    (() => {\n",
              "      let quickchartButtonEl =\n",
              "        document.querySelector('#df-d124d8c3-eaa8-45cf-866b-eaec115cda01 button');\n",
              "      quickchartButtonEl.style.display =\n",
              "        google.colab.kernel.accessAllowed ? 'block' : 'none';\n",
              "    })();\n",
              "  </script>\n",
              "</div>\n",
              "    </div>\n",
              "  </div>\n"
            ],
            "application/vnd.google.colaboratory.intrinsic+json": {
              "type": "dataframe",
              "variable_name": "df"
            }
          },
          "metadata": {},
          "execution_count": 10
        }
      ]
    },
    {
      "cell_type": "markdown",
      "source": [
        "Допарсим те странички что не загрузились в основном парсинге"
      ],
      "metadata": {
        "id": "Lo9OkeBFzYG5"
      }
    },
    {
      "cell_type": "code",
      "source": [
        "error_repeat = []\n",
        "error_data = []\n",
        "for url in tqdm(error, desc=\"Парсинг страниц психологов\", unit=\"страница\"):\n",
        "    try:\n",
        "        data = parse_psychologist_page(url)\n",
        "        error_data.append(data)\n",
        "    except Exception as e:\n",
        "        print(f\"Ошибка при обработке ссылки {url}: {e}\")\n",
        "        error_repeat.append(url)\n",
        "df_rep = pd.DataFrame(error_data)\n",
        "\n",
        "df_rep"
      ],
      "metadata": {
        "colab": {
          "base_uri": "https://localhost:8080/",
          "height": 1000
        },
        "id": "TLgaAD6cO5RC",
        "outputId": "08175a2a-cb03-46be-cda3-c88d79b867d0"
      },
      "execution_count": null,
      "outputs": [
        {
          "output_type": "stream",
          "name": "stderr",
          "text": [
            "Парсинг страниц психологов:  89%|████████▉ | 17/19 [03:27<00:24, 12.14s/страница]"
          ]
        },
        {
          "output_type": "stream",
          "name": "stdout",
          "text": [
            "Ошибка при обработке ссылки https://alter.ru/psychologists/msk/anna-cherkesova: Message: \n",
            "\n"
          ]
        },
        {
          "output_type": "stream",
          "name": "stderr",
          "text": [
            "\rПарсинг страниц психологов:  95%|█████████▍| 18/19 [03:37<00:11, 11.69s/страница]"
          ]
        },
        {
          "output_type": "stream",
          "name": "stdout",
          "text": [
            "Ошибка при обработке ссылки https://alter.ru/psychologists/voronezh/lila-ponomareva: Message: \n",
            "\n"
          ]
        },
        {
          "output_type": "stream",
          "name": "stderr",
          "text": [
            "Парсинг страниц психологов: 100%|██████████| 19/19 [03:48<00:00, 12.04s/страница]"
          ]
        },
        {
          "output_type": "stream",
          "name": "stdout",
          "text": [
            "Ошибка при обработке ссылки https://alter.ru/psychologists/msk/olga-goriushkina: Message: \n",
            "\n"
          ]
        },
        {
          "output_type": "stream",
          "name": "stderr",
          "text": [
            "\n"
          ]
        },
        {
          "output_type": "execute_result",
          "data": {
            "text/plain": [
              "              Имя фамилия  Цена за сессию (руб)            Город  Онлайн  \\\n",
              "0   Екатерина Спиридонова                  2500          Иркутск       1   \n",
              "1           Анна Елисеева                 10000  Санкт-Петербург       1   \n",
              "2         Дарья Останкова                  3950           Москва       1   \n",
              "3       Анастасия Иванова                  4000           Москва       1   \n",
              "4        Любовь Колташова                  4500  Санкт-Петербург       1   \n",
              "5        Юлия Светличкина                  6500           Самара       1   \n",
              "6      Мария Каллер Салас                  4500           Москва       1   \n",
              "7          Мария Минакова                  4500           Москва       1   \n",
              "8        Эльвира Моисеева                  6000             Сочи       1   \n",
              "9         Елена Курдюкова                  5000           Москва       1   \n",
              "10        Наталья Квасова                  2800          Саратов       1   \n",
              "11       Надежда Синюгина                  6000            Курск       1   \n",
              "12       Марина Семечкова                  2990           Москва       1   \n",
              "13        Надежда Иванова                  3950             Тула       1   \n",
              "14      Екатерина Чуприна                  4000      Новосибирск       1   \n",
              "15       Ксения Довганина                  6000           Москва       1   \n",
              "\n",
              "    Лично                                 Подходы  \\\n",
              "0       0                      [Гештальт-терапия]   \n",
              "1       0                      [Психоанализ, ТФП]   \n",
              "2       0   [Гештальт-терапия, Юнгианский анализ]   \n",
              "3       0                              [ССТ, ЭФТ]   \n",
              "4       1               [Схематерапия, EMDR, КЦП]   \n",
              "5       0                           [Психоанализ]   \n",
              "6       0  [КПТ, Психоанализ, Транзактный анализ]   \n",
              "7       1                [Психодрама, Понимающая]   \n",
              "8       1                              [КПТ, ССТ]   \n",
              "9       1                           [Психоанализ]   \n",
              "10      0                      [КПТ, Арт-терапия]   \n",
              "11      0                      [Гештальт-терапия]   \n",
              "12      1                         [КЦП, Фокусинг]   \n",
              "13      1                     [Юнгианский анализ]   \n",
              "14      1                                   [ССТ]   \n",
              "15      0                                   [ССТ]   \n",
              "\n",
              "                                        Специализация  \\\n",
              "0   [Самооценка и уверенность в себе, Эмоционально...   \n",
              "1   [Самооценка и уверенность в себе, Тяжелое физи...   \n",
              "2   [Зависимости, Отношения с партнером, Отношения...   \n",
              "3   [Самооценка и уверенность в себе, Недовольство...   \n",
              "4   [Самооценка и уверенность в себе, Недовольство...   \n",
              "5   [Самооценка и уверенность в себе, Отношения с ...   \n",
              "6   [Самооценка и уверенность в себе, Эмоционально...   \n",
              "7   [Самооценка и уверенность в себе, Эмоционально...   \n",
              "8   [Самооценка и уверенность в себе, Психические ...   \n",
              "9   [Работа с эмоциями, Отношения с партнером, Отн...   \n",
              "10  [Самооценка и уверенность в себе, Эмоционально...   \n",
              "11  [Самооценка и уверенность в себе, Эмоционально...   \n",
              "12  [Самооценка и уверенность в себе, Сложные пере...   \n",
              "13  [Самооценка и уверенность в себе, Эмоционально...   \n",
              "14  [Одиночество и отсутствие отношений, Отношения...   \n",
              "15  [Самооценка и уверенность в себе, Эмоционально...   \n",
              "\n",
              "                 С кем работает  Опыт работы (в годах)  Возраст (в годах)  \\\n",
              "0                    [Взрослые]                      5                 37   \n",
              "1   [Взрослые, Люди в возрасте]                     19                 46   \n",
              "2                    [Взрослые]                      9                 40   \n",
              "3             [Взрослые, Семьи]                      2                 30   \n",
              "4                    [Взрослые]                      8                 32   \n",
              "5                    [Взрослые]                     14                 39   \n",
              "6                    [Взрослые]                      4                 43   \n",
              "7                    [Взрослые]                     15                 59   \n",
              "8             [Взрослые, Семьи]                     17                 39   \n",
              "9                    [Взрослые]                     20                 40   \n",
              "10  [Взрослые, Люди в возрасте]                      5                 45   \n",
              "11            [Взрослые, Семьи]                     10                 32   \n",
              "12                   [Взрослые]                      8                 51   \n",
              "13                   [Взрослые]                     15                 44   \n",
              "14            [Взрослые, Семьи]                      7                 38   \n",
              "15                   [Взрослые]                      5                 30   \n",
              "\n",
              "    ...  Пол  Наличие детей  Работает ли с верующими  Фем-френдли  \\\n",
              "0   ...    0            1.0                        0            0   \n",
              "1   ...    0            NaN                        0            0   \n",
              "2   ...    0            0.0                        0            0   \n",
              "3   ...    0            1.0                        0            0   \n",
              "4   ...    0            0.0                        0            0   \n",
              "5   ...    0            1.0                        1            0   \n",
              "6   ...    0            1.0                        0            0   \n",
              "7   ...    0            1.0                        1            0   \n",
              "8   ...    0            1.0                        0            0   \n",
              "9   ...    0            1.0                        0            0   \n",
              "10  ...    0            NaN                        0            0   \n",
              "11  ...    0            0.0                        0            0   \n",
              "12  ...    0            1.0                        0            0   \n",
              "13  ...    0            1.0                        0            0   \n",
              "14  ...    0            1.0                        0            0   \n",
              "15  ...    0            NaN                        0            0   \n",
              "\n",
              "    Квир-френдли  Работает ли с онко-пациентами  \\\n",
              "0              0                              0   \n",
              "1              1                              0   \n",
              "2              0                              0   \n",
              "3              0                              0   \n",
              "4              1                              0   \n",
              "5              0                              0   \n",
              "6              0                              0   \n",
              "7              0                              0   \n",
              "8              0                              0   \n",
              "9              0                              0   \n",
              "10             0                              0   \n",
              "11             1                              0   \n",
              "12             0                              0   \n",
              "13             0                              0   \n",
              "14             0                              0   \n",
              "15             0                              0   \n",
              "\n",
              "                                          Образование  \\\n",
              "0   [Иркутский Государственный Университет програм...   \n",
              "1   [США. Смит Колледж Клинической Социальной рабо...   \n",
              "2   [Московский Государственный Университет им. М....   \n",
              "3   [МГУ имени М. В. Ломоносова. «Психология перег...   \n",
              "4   [Уральский федеральный университет им Б.Н. Ель...   \n",
              "5   [Самарский Государственный Университет. Факуль...   \n",
              "6   [МГУ Ломоносова. «Социология» - Социолог, преп...   \n",
              "7   [МГППУ. «Консультативная и клиническая психоло...   \n",
              "8   [Челябинский Государственный Педагогический ун...   \n",
              "9   [Российский государственный медицинский универ...   \n",
              "10  [ФГБОУ «Казанский медицинский университет». «К...   \n",
              "11  [ФГБОУ ВПО «Курский государственный университе...   \n",
              "12  [НОЧУ ВО «Московский институт психоанализа». «...   \n",
              "13  [Тульский государственный педагогический униве...   \n",
              "14  [Новосибирский государственный технический уни...   \n",
              "15  [Институт психологического консультирования «Н...   \n",
              "\n",
              "   Наличие видеоприветствия  Наличие аудиоприветствия  \\\n",
              "0                         1                         0   \n",
              "1                         1                         0   \n",
              "2                         0                         0   \n",
              "3                         0                         1   \n",
              "4                         0                         0   \n",
              "5                         0                         0   \n",
              "6                         0                         0   \n",
              "7                         1                         0   \n",
              "8                         0                         0   \n",
              "9                         0                         0   \n",
              "10                        1                         0   \n",
              "11                        1                         0   \n",
              "12                        1                         0   \n",
              "13                        1                         0   \n",
              "14                        0                         1   \n",
              "15                        1                         0   \n",
              "\n",
              "                                               О себе  \n",
              "0   Меня зовут Спиридонова Екатерина, я психолог, ...  \n",
              "1   Моя профессия с 2007 года – помогать людям пре...  \n",
              "2   Мой основной принцип — «Человеку нужен человек...  \n",
              "3   Помогаю обрести устойчивость в непростых жизне...  \n",
              "4   Психотерапия — это возможность жить ту жизнь, ...  \n",
              "5   Здравствуйте! Я, Юлия, психолог, влюбленный в ...  \n",
              "6   С тех пор, как впервые психотерапия мне помогл...  \n",
              "7   Своей профессиональной миссией вижу помощь чел...  \n",
              "8   Мои клиенты и коллеги характеризуют меня как б...  \n",
              "9   Я клинический психолог, получила образование в...  \n",
              "10  Ко мне на сессии приходят люди, когда понимают...  \n",
              "11  Я адепт здравого смысла. Имею спокойный взросл...  \n",
              "12  Оказывая психотерапевтическую помощь опираюсь ...  \n",
              "13  Здравствуйте. Меня зовут Иванова Надежда, я кл...  \n",
              "14  Приветствую тебя, Человек! Рада, что заглянул ...  \n",
              "15  Здравствуйте! Меня зовут Ксения, и я верю, что...  \n",
              "\n",
              "[16 rows x 21 columns]"
            ],
            "text/html": [
              "\n",
              "  <div id=\"df-15a45d6a-61e9-41d7-aa66-972bf5fc5130\" class=\"colab-df-container\">\n",
              "    <div>\n",
              "<style scoped>\n",
              "    .dataframe tbody tr th:only-of-type {\n",
              "        vertical-align: middle;\n",
              "    }\n",
              "\n",
              "    .dataframe tbody tr th {\n",
              "        vertical-align: top;\n",
              "    }\n",
              "\n",
              "    .dataframe thead th {\n",
              "        text-align: right;\n",
              "    }\n",
              "</style>\n",
              "<table border=\"1\" class=\"dataframe\">\n",
              "  <thead>\n",
              "    <tr style=\"text-align: right;\">\n",
              "      <th></th>\n",
              "      <th>Имя фамилия</th>\n",
              "      <th>Цена за сессию (руб)</th>\n",
              "      <th>Город</th>\n",
              "      <th>Онлайн</th>\n",
              "      <th>Лично</th>\n",
              "      <th>Подходы</th>\n",
              "      <th>Специализация</th>\n",
              "      <th>С кем работает</th>\n",
              "      <th>Опыт работы (в годах)</th>\n",
              "      <th>Возраст (в годах)</th>\n",
              "      <th>...</th>\n",
              "      <th>Пол</th>\n",
              "      <th>Наличие детей</th>\n",
              "      <th>Работает ли с верующими</th>\n",
              "      <th>Фем-френдли</th>\n",
              "      <th>Квир-френдли</th>\n",
              "      <th>Работает ли с онко-пациентами</th>\n",
              "      <th>Образование</th>\n",
              "      <th>Наличие видеоприветствия</th>\n",
              "      <th>Наличие аудиоприветствия</th>\n",
              "      <th>О себе</th>\n",
              "    </tr>\n",
              "  </thead>\n",
              "  <tbody>\n",
              "    <tr>\n",
              "      <th>0</th>\n",
              "      <td>Екатерина Спиридонова</td>\n",
              "      <td>2500</td>\n",
              "      <td>Иркутск</td>\n",
              "      <td>1</td>\n",
              "      <td>0</td>\n",
              "      <td>[Гештальт-терапия]</td>\n",
              "      <td>[Самооценка и уверенность в себе, Эмоционально...</td>\n",
              "      <td>[Взрослые]</td>\n",
              "      <td>5</td>\n",
              "      <td>37</td>\n",
              "      <td>...</td>\n",
              "      <td>0</td>\n",
              "      <td>1.0</td>\n",
              "      <td>0</td>\n",
              "      <td>0</td>\n",
              "      <td>0</td>\n",
              "      <td>0</td>\n",
              "      <td>[Иркутский Государственный Университет програм...</td>\n",
              "      <td>1</td>\n",
              "      <td>0</td>\n",
              "      <td>Меня зовут Спиридонова Екатерина, я психолог, ...</td>\n",
              "    </tr>\n",
              "    <tr>\n",
              "      <th>1</th>\n",
              "      <td>Анна Елисеева</td>\n",
              "      <td>10000</td>\n",
              "      <td>Санкт-Петербург</td>\n",
              "      <td>1</td>\n",
              "      <td>0</td>\n",
              "      <td>[Психоанализ, ТФП]</td>\n",
              "      <td>[Самооценка и уверенность в себе, Тяжелое физи...</td>\n",
              "      <td>[Взрослые, Люди в возрасте]</td>\n",
              "      <td>19</td>\n",
              "      <td>46</td>\n",
              "      <td>...</td>\n",
              "      <td>0</td>\n",
              "      <td>NaN</td>\n",
              "      <td>0</td>\n",
              "      <td>0</td>\n",
              "      <td>1</td>\n",
              "      <td>0</td>\n",
              "      <td>[США. Смит Колледж Клинической Социальной рабо...</td>\n",
              "      <td>1</td>\n",
              "      <td>0</td>\n",
              "      <td>Моя профессия с 2007 года – помогать людям пре...</td>\n",
              "    </tr>\n",
              "    <tr>\n",
              "      <th>2</th>\n",
              "      <td>Дарья Останкова</td>\n",
              "      <td>3950</td>\n",
              "      <td>Москва</td>\n",
              "      <td>1</td>\n",
              "      <td>0</td>\n",
              "      <td>[Гештальт-терапия, Юнгианский анализ]</td>\n",
              "      <td>[Зависимости, Отношения с партнером, Отношения...</td>\n",
              "      <td>[Взрослые]</td>\n",
              "      <td>9</td>\n",
              "      <td>40</td>\n",
              "      <td>...</td>\n",
              "      <td>0</td>\n",
              "      <td>0.0</td>\n",
              "      <td>0</td>\n",
              "      <td>0</td>\n",
              "      <td>0</td>\n",
              "      <td>0</td>\n",
              "      <td>[Московский Государственный Университет им. М....</td>\n",
              "      <td>0</td>\n",
              "      <td>0</td>\n",
              "      <td>Мой основной принцип — «Человеку нужен человек...</td>\n",
              "    </tr>\n",
              "    <tr>\n",
              "      <th>3</th>\n",
              "      <td>Анастасия Иванова</td>\n",
              "      <td>4000</td>\n",
              "      <td>Москва</td>\n",
              "      <td>1</td>\n",
              "      <td>0</td>\n",
              "      <td>[ССТ, ЭФТ]</td>\n",
              "      <td>[Самооценка и уверенность в себе, Недовольство...</td>\n",
              "      <td>[Взрослые, Семьи]</td>\n",
              "      <td>2</td>\n",
              "      <td>30</td>\n",
              "      <td>...</td>\n",
              "      <td>0</td>\n",
              "      <td>1.0</td>\n",
              "      <td>0</td>\n",
              "      <td>0</td>\n",
              "      <td>0</td>\n",
              "      <td>0</td>\n",
              "      <td>[МГУ имени М. В. Ломоносова. «Психология перег...</td>\n",
              "      <td>0</td>\n",
              "      <td>1</td>\n",
              "      <td>Помогаю обрести устойчивость в непростых жизне...</td>\n",
              "    </tr>\n",
              "    <tr>\n",
              "      <th>4</th>\n",
              "      <td>Любовь Колташова</td>\n",
              "      <td>4500</td>\n",
              "      <td>Санкт-Петербург</td>\n",
              "      <td>1</td>\n",
              "      <td>1</td>\n",
              "      <td>[Схематерапия, EMDR, КЦП]</td>\n",
              "      <td>[Самооценка и уверенность в себе, Недовольство...</td>\n",
              "      <td>[Взрослые]</td>\n",
              "      <td>8</td>\n",
              "      <td>32</td>\n",
              "      <td>...</td>\n",
              "      <td>0</td>\n",
              "      <td>0.0</td>\n",
              "      <td>0</td>\n",
              "      <td>0</td>\n",
              "      <td>1</td>\n",
              "      <td>0</td>\n",
              "      <td>[Уральский федеральный университет им Б.Н. Ель...</td>\n",
              "      <td>0</td>\n",
              "      <td>0</td>\n",
              "      <td>Психотерапия — это возможность жить ту жизнь, ...</td>\n",
              "    </tr>\n",
              "    <tr>\n",
              "      <th>5</th>\n",
              "      <td>Юлия Светличкина</td>\n",
              "      <td>6500</td>\n",
              "      <td>Самара</td>\n",
              "      <td>1</td>\n",
              "      <td>0</td>\n",
              "      <td>[Психоанализ]</td>\n",
              "      <td>[Самооценка и уверенность в себе, Отношения с ...</td>\n",
              "      <td>[Взрослые]</td>\n",
              "      <td>14</td>\n",
              "      <td>39</td>\n",
              "      <td>...</td>\n",
              "      <td>0</td>\n",
              "      <td>1.0</td>\n",
              "      <td>1</td>\n",
              "      <td>0</td>\n",
              "      <td>0</td>\n",
              "      <td>0</td>\n",
              "      <td>[Самарский Государственный Университет. Факуль...</td>\n",
              "      <td>0</td>\n",
              "      <td>0</td>\n",
              "      <td>Здравствуйте! Я, Юлия, психолог, влюбленный в ...</td>\n",
              "    </tr>\n",
              "    <tr>\n",
              "      <th>6</th>\n",
              "      <td>Мария Каллер Салас</td>\n",
              "      <td>4500</td>\n",
              "      <td>Москва</td>\n",
              "      <td>1</td>\n",
              "      <td>0</td>\n",
              "      <td>[КПТ, Психоанализ, Транзактный анализ]</td>\n",
              "      <td>[Самооценка и уверенность в себе, Эмоционально...</td>\n",
              "      <td>[Взрослые]</td>\n",
              "      <td>4</td>\n",
              "      <td>43</td>\n",
              "      <td>...</td>\n",
              "      <td>0</td>\n",
              "      <td>1.0</td>\n",
              "      <td>0</td>\n",
              "      <td>0</td>\n",
              "      <td>0</td>\n",
              "      <td>0</td>\n",
              "      <td>[МГУ Ломоносова. «Социология» - Социолог, преп...</td>\n",
              "      <td>0</td>\n",
              "      <td>0</td>\n",
              "      <td>С тех пор, как впервые психотерапия мне помогл...</td>\n",
              "    </tr>\n",
              "    <tr>\n",
              "      <th>7</th>\n",
              "      <td>Мария Минакова</td>\n",
              "      <td>4500</td>\n",
              "      <td>Москва</td>\n",
              "      <td>1</td>\n",
              "      <td>1</td>\n",
              "      <td>[Психодрама, Понимающая]</td>\n",
              "      <td>[Самооценка и уверенность в себе, Эмоционально...</td>\n",
              "      <td>[Взрослые]</td>\n",
              "      <td>15</td>\n",
              "      <td>59</td>\n",
              "      <td>...</td>\n",
              "      <td>0</td>\n",
              "      <td>1.0</td>\n",
              "      <td>1</td>\n",
              "      <td>0</td>\n",
              "      <td>0</td>\n",
              "      <td>0</td>\n",
              "      <td>[МГППУ. «Консультативная и клиническая психоло...</td>\n",
              "      <td>1</td>\n",
              "      <td>0</td>\n",
              "      <td>Своей профессиональной миссией вижу помощь чел...</td>\n",
              "    </tr>\n",
              "    <tr>\n",
              "      <th>8</th>\n",
              "      <td>Эльвира Моисеева</td>\n",
              "      <td>6000</td>\n",
              "      <td>Сочи</td>\n",
              "      <td>1</td>\n",
              "      <td>1</td>\n",
              "      <td>[КПТ, ССТ]</td>\n",
              "      <td>[Самооценка и уверенность в себе, Психические ...</td>\n",
              "      <td>[Взрослые, Семьи]</td>\n",
              "      <td>17</td>\n",
              "      <td>39</td>\n",
              "      <td>...</td>\n",
              "      <td>0</td>\n",
              "      <td>1.0</td>\n",
              "      <td>0</td>\n",
              "      <td>0</td>\n",
              "      <td>0</td>\n",
              "      <td>0</td>\n",
              "      <td>[Челябинский Государственный Педагогический ун...</td>\n",
              "      <td>0</td>\n",
              "      <td>0</td>\n",
              "      <td>Мои клиенты и коллеги характеризуют меня как б...</td>\n",
              "    </tr>\n",
              "    <tr>\n",
              "      <th>9</th>\n",
              "      <td>Елена Курдюкова</td>\n",
              "      <td>5000</td>\n",
              "      <td>Москва</td>\n",
              "      <td>1</td>\n",
              "      <td>1</td>\n",
              "      <td>[Психоанализ]</td>\n",
              "      <td>[Работа с эмоциями, Отношения с партнером, Отн...</td>\n",
              "      <td>[Взрослые]</td>\n",
              "      <td>20</td>\n",
              "      <td>40</td>\n",
              "      <td>...</td>\n",
              "      <td>0</td>\n",
              "      <td>1.0</td>\n",
              "      <td>0</td>\n",
              "      <td>0</td>\n",
              "      <td>0</td>\n",
              "      <td>0</td>\n",
              "      <td>[Российский государственный медицинский универ...</td>\n",
              "      <td>0</td>\n",
              "      <td>0</td>\n",
              "      <td>Я клинический психолог, получила образование в...</td>\n",
              "    </tr>\n",
              "    <tr>\n",
              "      <th>10</th>\n",
              "      <td>Наталья Квасова</td>\n",
              "      <td>2800</td>\n",
              "      <td>Саратов</td>\n",
              "      <td>1</td>\n",
              "      <td>0</td>\n",
              "      <td>[КПТ, Арт-терапия]</td>\n",
              "      <td>[Самооценка и уверенность в себе, Эмоционально...</td>\n",
              "      <td>[Взрослые, Люди в возрасте]</td>\n",
              "      <td>5</td>\n",
              "      <td>45</td>\n",
              "      <td>...</td>\n",
              "      <td>0</td>\n",
              "      <td>NaN</td>\n",
              "      <td>0</td>\n",
              "      <td>0</td>\n",
              "      <td>0</td>\n",
              "      <td>0</td>\n",
              "      <td>[ФГБОУ «Казанский медицинский университет». «К...</td>\n",
              "      <td>1</td>\n",
              "      <td>0</td>\n",
              "      <td>Ко мне на сессии приходят люди, когда понимают...</td>\n",
              "    </tr>\n",
              "    <tr>\n",
              "      <th>11</th>\n",
              "      <td>Надежда Синюгина</td>\n",
              "      <td>6000</td>\n",
              "      <td>Курск</td>\n",
              "      <td>1</td>\n",
              "      <td>0</td>\n",
              "      <td>[Гештальт-терапия]</td>\n",
              "      <td>[Самооценка и уверенность в себе, Эмоционально...</td>\n",
              "      <td>[Взрослые, Семьи]</td>\n",
              "      <td>10</td>\n",
              "      <td>32</td>\n",
              "      <td>...</td>\n",
              "      <td>0</td>\n",
              "      <td>0.0</td>\n",
              "      <td>0</td>\n",
              "      <td>0</td>\n",
              "      <td>1</td>\n",
              "      <td>0</td>\n",
              "      <td>[ФГБОУ ВПО «Курский государственный университе...</td>\n",
              "      <td>1</td>\n",
              "      <td>0</td>\n",
              "      <td>Я адепт здравого смысла. Имею спокойный взросл...</td>\n",
              "    </tr>\n",
              "    <tr>\n",
              "      <th>12</th>\n",
              "      <td>Марина Семечкова</td>\n",
              "      <td>2990</td>\n",
              "      <td>Москва</td>\n",
              "      <td>1</td>\n",
              "      <td>1</td>\n",
              "      <td>[КЦП, Фокусинг]</td>\n",
              "      <td>[Самооценка и уверенность в себе, Сложные пере...</td>\n",
              "      <td>[Взрослые]</td>\n",
              "      <td>8</td>\n",
              "      <td>51</td>\n",
              "      <td>...</td>\n",
              "      <td>0</td>\n",
              "      <td>1.0</td>\n",
              "      <td>0</td>\n",
              "      <td>0</td>\n",
              "      <td>0</td>\n",
              "      <td>0</td>\n",
              "      <td>[НОЧУ ВО «Московский институт психоанализа». «...</td>\n",
              "      <td>1</td>\n",
              "      <td>0</td>\n",
              "      <td>Оказывая психотерапевтическую помощь опираюсь ...</td>\n",
              "    </tr>\n",
              "    <tr>\n",
              "      <th>13</th>\n",
              "      <td>Надежда Иванова</td>\n",
              "      <td>3950</td>\n",
              "      <td>Тула</td>\n",
              "      <td>1</td>\n",
              "      <td>1</td>\n",
              "      <td>[Юнгианский анализ]</td>\n",
              "      <td>[Самооценка и уверенность в себе, Эмоционально...</td>\n",
              "      <td>[Взрослые]</td>\n",
              "      <td>15</td>\n",
              "      <td>44</td>\n",
              "      <td>...</td>\n",
              "      <td>0</td>\n",
              "      <td>1.0</td>\n",
              "      <td>0</td>\n",
              "      <td>0</td>\n",
              "      <td>0</td>\n",
              "      <td>0</td>\n",
              "      <td>[Тульский государственный педагогический униве...</td>\n",
              "      <td>1</td>\n",
              "      <td>0</td>\n",
              "      <td>Здравствуйте. Меня зовут Иванова Надежда, я кл...</td>\n",
              "    </tr>\n",
              "    <tr>\n",
              "      <th>14</th>\n",
              "      <td>Екатерина Чуприна</td>\n",
              "      <td>4000</td>\n",
              "      <td>Новосибирск</td>\n",
              "      <td>1</td>\n",
              "      <td>1</td>\n",
              "      <td>[ССТ]</td>\n",
              "      <td>[Одиночество и отсутствие отношений, Отношения...</td>\n",
              "      <td>[Взрослые, Семьи]</td>\n",
              "      <td>7</td>\n",
              "      <td>38</td>\n",
              "      <td>...</td>\n",
              "      <td>0</td>\n",
              "      <td>1.0</td>\n",
              "      <td>0</td>\n",
              "      <td>0</td>\n",
              "      <td>0</td>\n",
              "      <td>0</td>\n",
              "      <td>[Новосибирский государственный технический уни...</td>\n",
              "      <td>0</td>\n",
              "      <td>1</td>\n",
              "      <td>Приветствую тебя, Человек! Рада, что заглянул ...</td>\n",
              "    </tr>\n",
              "    <tr>\n",
              "      <th>15</th>\n",
              "      <td>Ксения Довганина</td>\n",
              "      <td>6000</td>\n",
              "      <td>Москва</td>\n",
              "      <td>1</td>\n",
              "      <td>0</td>\n",
              "      <td>[ССТ]</td>\n",
              "      <td>[Самооценка и уверенность в себе, Эмоционально...</td>\n",
              "      <td>[Взрослые]</td>\n",
              "      <td>5</td>\n",
              "      <td>30</td>\n",
              "      <td>...</td>\n",
              "      <td>0</td>\n",
              "      <td>NaN</td>\n",
              "      <td>0</td>\n",
              "      <td>0</td>\n",
              "      <td>0</td>\n",
              "      <td>0</td>\n",
              "      <td>[Институт психологического консультирования «Н...</td>\n",
              "      <td>1</td>\n",
              "      <td>0</td>\n",
              "      <td>Здравствуйте! Меня зовут Ксения, и я верю, что...</td>\n",
              "    </tr>\n",
              "  </tbody>\n",
              "</table>\n",
              "<p>16 rows × 21 columns</p>\n",
              "</div>\n",
              "    <div class=\"colab-df-buttons\">\n",
              "\n",
              "  <div class=\"colab-df-container\">\n",
              "    <button class=\"colab-df-convert\" onclick=\"convertToInteractive('df-15a45d6a-61e9-41d7-aa66-972bf5fc5130')\"\n",
              "            title=\"Convert this dataframe to an interactive table.\"\n",
              "            style=\"display:none;\">\n",
              "\n",
              "  <svg xmlns=\"http://www.w3.org/2000/svg\" height=\"24px\" viewBox=\"0 -960 960 960\">\n",
              "    <path d=\"M120-120v-720h720v720H120Zm60-500h600v-160H180v160Zm220 220h160v-160H400v160Zm0 220h160v-160H400v160ZM180-400h160v-160H180v160Zm440 0h160v-160H620v160ZM180-180h160v-160H180v160Zm440 0h160v-160H620v160Z\"/>\n",
              "  </svg>\n",
              "    </button>\n",
              "\n",
              "  <style>\n",
              "    .colab-df-container {\n",
              "      display:flex;\n",
              "      gap: 12px;\n",
              "    }\n",
              "\n",
              "    .colab-df-convert {\n",
              "      background-color: #E8F0FE;\n",
              "      border: none;\n",
              "      border-radius: 50%;\n",
              "      cursor: pointer;\n",
              "      display: none;\n",
              "      fill: #1967D2;\n",
              "      height: 32px;\n",
              "      padding: 0 0 0 0;\n",
              "      width: 32px;\n",
              "    }\n",
              "\n",
              "    .colab-df-convert:hover {\n",
              "      background-color: #E2EBFA;\n",
              "      box-shadow: 0px 1px 2px rgba(60, 64, 67, 0.3), 0px 1px 3px 1px rgba(60, 64, 67, 0.15);\n",
              "      fill: #174EA6;\n",
              "    }\n",
              "\n",
              "    .colab-df-buttons div {\n",
              "      margin-bottom: 4px;\n",
              "    }\n",
              "\n",
              "    [theme=dark] .colab-df-convert {\n",
              "      background-color: #3B4455;\n",
              "      fill: #D2E3FC;\n",
              "    }\n",
              "\n",
              "    [theme=dark] .colab-df-convert:hover {\n",
              "      background-color: #434B5C;\n",
              "      box-shadow: 0px 1px 3px 1px rgba(0, 0, 0, 0.15);\n",
              "      filter: drop-shadow(0px 1px 2px rgba(0, 0, 0, 0.3));\n",
              "      fill: #FFFFFF;\n",
              "    }\n",
              "  </style>\n",
              "\n",
              "    <script>\n",
              "      const buttonEl =\n",
              "        document.querySelector('#df-15a45d6a-61e9-41d7-aa66-972bf5fc5130 button.colab-df-convert');\n",
              "      buttonEl.style.display =\n",
              "        google.colab.kernel.accessAllowed ? 'block' : 'none';\n",
              "\n",
              "      async function convertToInteractive(key) {\n",
              "        const element = document.querySelector('#df-15a45d6a-61e9-41d7-aa66-972bf5fc5130');\n",
              "        const dataTable =\n",
              "          await google.colab.kernel.invokeFunction('convertToInteractive',\n",
              "                                                    [key], {});\n",
              "        if (!dataTable) return;\n",
              "\n",
              "        const docLinkHtml = 'Like what you see? Visit the ' +\n",
              "          '<a target=\"_blank\" href=https://colab.research.google.com/notebooks/data_table.ipynb>data table notebook</a>'\n",
              "          + ' to learn more about interactive tables.';\n",
              "        element.innerHTML = '';\n",
              "        dataTable['output_type'] = 'display_data';\n",
              "        await google.colab.output.renderOutput(dataTable, element);\n",
              "        const docLink = document.createElement('div');\n",
              "        docLink.innerHTML = docLinkHtml;\n",
              "        element.appendChild(docLink);\n",
              "      }\n",
              "    </script>\n",
              "  </div>\n",
              "\n",
              "\n",
              "<div id=\"df-399284d1-9f03-4443-b76b-a1a7c9c46d29\">\n",
              "  <button class=\"colab-df-quickchart\" onclick=\"quickchart('df-399284d1-9f03-4443-b76b-a1a7c9c46d29')\"\n",
              "            title=\"Suggest charts\"\n",
              "            style=\"display:none;\">\n",
              "\n",
              "<svg xmlns=\"http://www.w3.org/2000/svg\" height=\"24px\"viewBox=\"0 0 24 24\"\n",
              "     width=\"24px\">\n",
              "    <g>\n",
              "        <path d=\"M19 3H5c-1.1 0-2 .9-2 2v14c0 1.1.9 2 2 2h14c1.1 0 2-.9 2-2V5c0-1.1-.9-2-2-2zM9 17H7v-7h2v7zm4 0h-2V7h2v10zm4 0h-2v-4h2v4z\"/>\n",
              "    </g>\n",
              "</svg>\n",
              "  </button>\n",
              "\n",
              "<style>\n",
              "  .colab-df-quickchart {\n",
              "      --bg-color: #E8F0FE;\n",
              "      --fill-color: #1967D2;\n",
              "      --hover-bg-color: #E2EBFA;\n",
              "      --hover-fill-color: #174EA6;\n",
              "      --disabled-fill-color: #AAA;\n",
              "      --disabled-bg-color: #DDD;\n",
              "  }\n",
              "\n",
              "  [theme=dark] .colab-df-quickchart {\n",
              "      --bg-color: #3B4455;\n",
              "      --fill-color: #D2E3FC;\n",
              "      --hover-bg-color: #434B5C;\n",
              "      --hover-fill-color: #FFFFFF;\n",
              "      --disabled-bg-color: #3B4455;\n",
              "      --disabled-fill-color: #666;\n",
              "  }\n",
              "\n",
              "  .colab-df-quickchart {\n",
              "    background-color: var(--bg-color);\n",
              "    border: none;\n",
              "    border-radius: 50%;\n",
              "    cursor: pointer;\n",
              "    display: none;\n",
              "    fill: var(--fill-color);\n",
              "    height: 32px;\n",
              "    padding: 0;\n",
              "    width: 32px;\n",
              "  }\n",
              "\n",
              "  .colab-df-quickchart:hover {\n",
              "    background-color: var(--hover-bg-color);\n",
              "    box-shadow: 0 1px 2px rgba(60, 64, 67, 0.3), 0 1px 3px 1px rgba(60, 64, 67, 0.15);\n",
              "    fill: var(--button-hover-fill-color);\n",
              "  }\n",
              "\n",
              "  .colab-df-quickchart-complete:disabled,\n",
              "  .colab-df-quickchart-complete:disabled:hover {\n",
              "    background-color: var(--disabled-bg-color);\n",
              "    fill: var(--disabled-fill-color);\n",
              "    box-shadow: none;\n",
              "  }\n",
              "\n",
              "  .colab-df-spinner {\n",
              "    border: 2px solid var(--fill-color);\n",
              "    border-color: transparent;\n",
              "    border-bottom-color: var(--fill-color);\n",
              "    animation:\n",
              "      spin 1s steps(1) infinite;\n",
              "  }\n",
              "\n",
              "  @keyframes spin {\n",
              "    0% {\n",
              "      border-color: transparent;\n",
              "      border-bottom-color: var(--fill-color);\n",
              "      border-left-color: var(--fill-color);\n",
              "    }\n",
              "    20% {\n",
              "      border-color: transparent;\n",
              "      border-left-color: var(--fill-color);\n",
              "      border-top-color: var(--fill-color);\n",
              "    }\n",
              "    30% {\n",
              "      border-color: transparent;\n",
              "      border-left-color: var(--fill-color);\n",
              "      border-top-color: var(--fill-color);\n",
              "      border-right-color: var(--fill-color);\n",
              "    }\n",
              "    40% {\n",
              "      border-color: transparent;\n",
              "      border-right-color: var(--fill-color);\n",
              "      border-top-color: var(--fill-color);\n",
              "    }\n",
              "    60% {\n",
              "      border-color: transparent;\n",
              "      border-right-color: var(--fill-color);\n",
              "    }\n",
              "    80% {\n",
              "      border-color: transparent;\n",
              "      border-right-color: var(--fill-color);\n",
              "      border-bottom-color: var(--fill-color);\n",
              "    }\n",
              "    90% {\n",
              "      border-color: transparent;\n",
              "      border-bottom-color: var(--fill-color);\n",
              "    }\n",
              "  }\n",
              "</style>\n",
              "\n",
              "  <script>\n",
              "    async function quickchart(key) {\n",
              "      const quickchartButtonEl =\n",
              "        document.querySelector('#' + key + ' button');\n",
              "      quickchartButtonEl.disabled = true;  // To prevent multiple clicks.\n",
              "      quickchartButtonEl.classList.add('colab-df-spinner');\n",
              "      try {\n",
              "        const charts = await google.colab.kernel.invokeFunction(\n",
              "            'suggestCharts', [key], {});\n",
              "      } catch (error) {\n",
              "        console.error('Error during call to suggestCharts:', error);\n",
              "      }\n",
              "      quickchartButtonEl.classList.remove('colab-df-spinner');\n",
              "      quickchartButtonEl.classList.add('colab-df-quickchart-complete');\n",
              "    }\n",
              "    (() => {\n",
              "      let quickchartButtonEl =\n",
              "        document.querySelector('#df-399284d1-9f03-4443-b76b-a1a7c9c46d29 button');\n",
              "      quickchartButtonEl.style.display =\n",
              "        google.colab.kernel.accessAllowed ? 'block' : 'none';\n",
              "    })();\n",
              "  </script>\n",
              "</div>\n",
              "    </div>\n",
              "  </div>\n"
            ],
            "application/vnd.google.colaboratory.intrinsic+json": {
              "type": "dataframe",
              "variable_name": "df_rep"
            }
          },
          "metadata": {},
          "execution_count": 11
        }
      ]
    },
    {
      "cell_type": "code",
      "source": [
        "error_repeat2 = []\n",
        "\n",
        "for url in tqdm(error_repeat, desc=\"Парсинг страниц психологов\", unit=\"страница\"):\n",
        "    try:\n",
        "        data = parse_psychologist_page(url)\n",
        "        error_data.append(data)\n",
        "    except Exception as e:\n",
        "        print(f\"Ошибка при обработке ссылки {url}: {e}\")\n",
        "        error_repeat2.append(url)\n",
        "\n",
        "df_rep = pd.DataFrame(error_data)\n",
        "df_rep"
      ],
      "metadata": {
        "colab": {
          "base_uri": "https://localhost:8080/",
          "height": 1000
        },
        "id": "Hl5YwCVK3_wF",
        "outputId": "e640df76-cf05-4e1d-b1bc-8177b79fa591"
      },
      "execution_count": null,
      "outputs": [
        {
          "output_type": "stream",
          "name": "stderr",
          "text": [
            "Парсинг страниц психологов: 100%|██████████| 3/3 [00:29<00:00,  9.94s/страница]\n"
          ]
        },
        {
          "output_type": "execute_result",
          "data": {
            "text/plain": [
              "              Имя фамилия  Цена за сессию (руб)            Город  Онлайн  \\\n",
              "0   Екатерина Спиридонова                  2500          Иркутск       1   \n",
              "1           Анна Елисеева                 10000  Санкт-Петербург       1   \n",
              "2         Дарья Останкова                  3950           Москва       1   \n",
              "3       Анастасия Иванова                  4000           Москва       1   \n",
              "4        Любовь Колташова                  4500  Санкт-Петербург       1   \n",
              "5        Юлия Светличкина                  6500           Самара       1   \n",
              "6      Мария Каллер Салас                  4500           Москва       1   \n",
              "7          Мария Минакова                  4500           Москва       1   \n",
              "8        Эльвира Моисеева                  6000             Сочи       1   \n",
              "9         Елена Курдюкова                  5000           Москва       1   \n",
              "10        Наталья Квасова                  2800          Саратов       1   \n",
              "11       Надежда Синюгина                  6000            Курск       1   \n",
              "12       Марина Семечкова                  2990           Москва       1   \n",
              "13        Надежда Иванова                  3950             Тула       1   \n",
              "14      Екатерина Чуприна                  4000      Новосибирск       1   \n",
              "15       Ксения Довганина                  6000           Москва       1   \n",
              "16         Анна Черкесова                  4000           Москва       1   \n",
              "17        Лила Пономарева                  2850          Воронеж       1   \n",
              "18        Ольга Горюшкина                  7500           Москва       1   \n",
              "\n",
              "    Лично                                 Подходы  \\\n",
              "0       0                      [Гештальт-терапия]   \n",
              "1       0                      [Психоанализ, ТФП]   \n",
              "2       0   [Гештальт-терапия, Юнгианский анализ]   \n",
              "3       0                              [ССТ, ЭФТ]   \n",
              "4       1               [Схематерапия, EMDR, КЦП]   \n",
              "5       0                           [Психоанализ]   \n",
              "6       0  [КПТ, Психоанализ, Транзактный анализ]   \n",
              "7       1                [Психодрама, Понимающая]   \n",
              "8       1                              [КПТ, ССТ]   \n",
              "9       1                           [Психоанализ]   \n",
              "10      0                      [КПТ, Арт-терапия]   \n",
              "11      0                      [Гештальт-терапия]   \n",
              "12      1                         [КЦП, Фокусинг]   \n",
              "13      1                     [Юнгианский анализ]   \n",
              "14      1                                   [ССТ]   \n",
              "15      0                                   [ССТ]   \n",
              "16      0  [Гештальт-терапия, Транзактный анализ]   \n",
              "17      0                      [Гештальт-терапия]   \n",
              "18      1            [КПТ, Схематерапия, Коучинг]   \n",
              "\n",
              "                                        Специализация  \\\n",
              "0   [Самооценка и уверенность в себе, Эмоционально...   \n",
              "1   [Самооценка и уверенность в себе, Тяжелое физи...   \n",
              "2   [Зависимости, Отношения с партнером, Отношения...   \n",
              "3   [Самооценка и уверенность в себе, Недовольство...   \n",
              "4   [Самооценка и уверенность в себе, Недовольство...   \n",
              "5   [Самооценка и уверенность в себе, Отношения с ...   \n",
              "6   [Самооценка и уверенность в себе, Эмоционально...   \n",
              "7   [Самооценка и уверенность в себе, Эмоционально...   \n",
              "8   [Самооценка и уверенность в себе, Психические ...   \n",
              "9   [Работа с эмоциями, Отношения с партнером, Отн...   \n",
              "10  [Самооценка и уверенность в себе, Эмоционально...   \n",
              "11  [Самооценка и уверенность в себе, Эмоционально...   \n",
              "12  [Самооценка и уверенность в себе, Сложные пере...   \n",
              "13  [Самооценка и уверенность в себе, Эмоционально...   \n",
              "14  [Одиночество и отсутствие отношений, Отношения...   \n",
              "15  [Самооценка и уверенность в себе, Эмоционально...   \n",
              "16  [Работа с эмоциями, Трудный прошлый опыт, Отно...   \n",
              "17  [Самооценка и уверенность в себе, Одиночество ...   \n",
              "18  [Страхи, Отношения с партнером, Смысл жизни, ж...   \n",
              "\n",
              "                           С кем работает  Опыт работы (в годах)  \\\n",
              "0                              [Взрослые]                      5   \n",
              "1             [Взрослые, Люди в возрасте]                     19   \n",
              "2                              [Взрослые]                      9   \n",
              "3                       [Взрослые, Семьи]                      2   \n",
              "4                              [Взрослые]                      8   \n",
              "5                              [Взрослые]                     14   \n",
              "6                              [Взрослые]                      4   \n",
              "7                              [Взрослые]                     15   \n",
              "8                       [Взрослые, Семьи]                     17   \n",
              "9                              [Взрослые]                     20   \n",
              "10            [Взрослые, Люди в возрасте]                      5   \n",
              "11                      [Взрослые, Семьи]                     10   \n",
              "12                             [Взрослые]                      8   \n",
              "13                             [Взрослые]                     15   \n",
              "14                      [Взрослые, Семьи]                      7   \n",
              "15                             [Взрослые]                      5   \n",
              "16            [Взрослые, Люди в возрасте]                      3   \n",
              "17  [Взрослые, Подростки от 16 до 18 лет]                     11   \n",
              "18                             [Взрослые]                     12   \n",
              "\n",
              "    Возраст (в годах)  ...  Пол  Наличие детей  Работает ли с верующими  \\\n",
              "0                  37  ...    0            1.0                        0   \n",
              "1                  46  ...    0            NaN                        0   \n",
              "2                  40  ...    0            0.0                        0   \n",
              "3                  30  ...    0            1.0                        0   \n",
              "4                  32  ...    0            0.0                        0   \n",
              "5                  39  ...    0            1.0                        1   \n",
              "6                  43  ...    0            1.0                        0   \n",
              "7                  59  ...    0            1.0                        1   \n",
              "8                  39  ...    0            1.0                        0   \n",
              "9                  40  ...    0            1.0                        0   \n",
              "10                 45  ...    0            NaN                        0   \n",
              "11                 32  ...    0            0.0                        0   \n",
              "12                 51  ...    0            1.0                        0   \n",
              "13                 44  ...    0            1.0                        0   \n",
              "14                 38  ...    0            1.0                        0   \n",
              "15                 30  ...    0            NaN                        0   \n",
              "16                 41  ...    0            NaN                        0   \n",
              "17                 52  ...    0            1.0                        0   \n",
              "18                 38  ...    0            0.0                        0   \n",
              "\n",
              "    Фем-френдли  Квир-френдли  Работает ли с онко-пациентами  \\\n",
              "0             0             0                              0   \n",
              "1             0             1                              0   \n",
              "2             0             0                              0   \n",
              "3             0             0                              0   \n",
              "4             0             1                              0   \n",
              "5             0             0                              0   \n",
              "6             0             0                              0   \n",
              "7             0             0                              0   \n",
              "8             0             0                              0   \n",
              "9             0             0                              0   \n",
              "10            0             0                              0   \n",
              "11            0             1                              0   \n",
              "12            0             0                              0   \n",
              "13            0             0                              0   \n",
              "14            0             0                              0   \n",
              "15            0             0                              0   \n",
              "16            1             0                              0   \n",
              "17            0             0                              0   \n",
              "18            0             1                              0   \n",
              "\n",
              "                                          Образование  \\\n",
              "0   [Иркутский Государственный Университет програм...   \n",
              "1   [США. Смит Колледж Клинической Социальной рабо...   \n",
              "2   [Московский Государственный Университет им. М....   \n",
              "3   [МГУ имени М. В. Ломоносова. «Психология перег...   \n",
              "4   [Уральский федеральный университет им Б.Н. Ель...   \n",
              "5   [Самарский Государственный Университет. Факуль...   \n",
              "6   [МГУ Ломоносова. «Социология» - Социолог, преп...   \n",
              "7   [МГППУ. «Консультативная и клиническая психоло...   \n",
              "8   [Челябинский Государственный Педагогический ун...   \n",
              "9   [Российский государственный медицинский универ...   \n",
              "10  [ФГБОУ «Казанский медицинский университет». «К...   \n",
              "11  [ФГБОУ ВПО «Курский государственный университе...   \n",
              "12  [НОЧУ ВО «Московский институт психоанализа». «...   \n",
              "13  [Тульский государственный педагогический униве...   \n",
              "14  [Новосибирский государственный технический уни...   \n",
              "15  [Институт психологического консультирования «Н...   \n",
              "16  [Московский университет имени С. Ю. Витте. «Пс...   \n",
              "17  [Воронежский институт экономики и социального ...   \n",
              "18  [Московская высшая школа социальных и экономич...   \n",
              "\n",
              "   Наличие видеоприветствия  Наличие аудиоприветствия  \\\n",
              "0                         1                         0   \n",
              "1                         1                         0   \n",
              "2                         0                         0   \n",
              "3                         0                         1   \n",
              "4                         0                         0   \n",
              "5                         0                         0   \n",
              "6                         0                         0   \n",
              "7                         1                         0   \n",
              "8                         0                         0   \n",
              "9                         0                         0   \n",
              "10                        1                         0   \n",
              "11                        1                         0   \n",
              "12                        1                         0   \n",
              "13                        1                         0   \n",
              "14                        0                         1   \n",
              "15                        1                         0   \n",
              "16                        0                         0   \n",
              "17                        0                         0   \n",
              "18                        1                         0   \n",
              "\n",
              "                                               О себе  \n",
              "0   Меня зовут Спиридонова Екатерина, я психолог, ...  \n",
              "1   Моя профессия с 2007 года – помогать людям пре...  \n",
              "2   Мой основной принцип — «Человеку нужен человек...  \n",
              "3   Помогаю обрести устойчивость в непростых жизне...  \n",
              "4   Психотерапия — это возможность жить ту жизнь, ...  \n",
              "5   Здравствуйте! Я, Юлия, психолог, влюбленный в ...  \n",
              "6   С тех пор, как впервые психотерапия мне помогл...  \n",
              "7   Своей профессиональной миссией вижу помощь чел...  \n",
              "8   Мои клиенты и коллеги характеризуют меня как б...  \n",
              "9   Я клинический психолог, получила образование в...  \n",
              "10  Ко мне на сессии приходят люди, когда понимают...  \n",
              "11  Я адепт здравого смысла. Имею спокойный взросл...  \n",
              "12  Оказывая психотерапевтическую помощь опираюсь ...  \n",
              "13  Здравствуйте. Меня зовут Иванова Надежда, я кл...  \n",
              "14  Приветствую тебя, Человек! Рада, что заглянул ...  \n",
              "15  Здравствуйте! Меня зовут Ксения, и я верю, что...  \n",
              "16  Меня зовут Анна, и я посвятила свою жизнь изуч...  \n",
              "17  Приветствую! Я — психолог, гештальт-терапевт. ...  \n",
              "18  Я помогаю клиентам избавиться от страхов, трев...  \n",
              "\n",
              "[19 rows x 21 columns]"
            ],
            "text/html": [
              "\n",
              "  <div id=\"df-e0208359-64bc-4937-b0c6-962161ed6481\" class=\"colab-df-container\">\n",
              "    <div>\n",
              "<style scoped>\n",
              "    .dataframe tbody tr th:only-of-type {\n",
              "        vertical-align: middle;\n",
              "    }\n",
              "\n",
              "    .dataframe tbody tr th {\n",
              "        vertical-align: top;\n",
              "    }\n",
              "\n",
              "    .dataframe thead th {\n",
              "        text-align: right;\n",
              "    }\n",
              "</style>\n",
              "<table border=\"1\" class=\"dataframe\">\n",
              "  <thead>\n",
              "    <tr style=\"text-align: right;\">\n",
              "      <th></th>\n",
              "      <th>Имя фамилия</th>\n",
              "      <th>Цена за сессию (руб)</th>\n",
              "      <th>Город</th>\n",
              "      <th>Онлайн</th>\n",
              "      <th>Лично</th>\n",
              "      <th>Подходы</th>\n",
              "      <th>Специализация</th>\n",
              "      <th>С кем работает</th>\n",
              "      <th>Опыт работы (в годах)</th>\n",
              "      <th>Возраст (в годах)</th>\n",
              "      <th>...</th>\n",
              "      <th>Пол</th>\n",
              "      <th>Наличие детей</th>\n",
              "      <th>Работает ли с верующими</th>\n",
              "      <th>Фем-френдли</th>\n",
              "      <th>Квир-френдли</th>\n",
              "      <th>Работает ли с онко-пациентами</th>\n",
              "      <th>Образование</th>\n",
              "      <th>Наличие видеоприветствия</th>\n",
              "      <th>Наличие аудиоприветствия</th>\n",
              "      <th>О себе</th>\n",
              "    </tr>\n",
              "  </thead>\n",
              "  <tbody>\n",
              "    <tr>\n",
              "      <th>0</th>\n",
              "      <td>Екатерина Спиридонова</td>\n",
              "      <td>2500</td>\n",
              "      <td>Иркутск</td>\n",
              "      <td>1</td>\n",
              "      <td>0</td>\n",
              "      <td>[Гештальт-терапия]</td>\n",
              "      <td>[Самооценка и уверенность в себе, Эмоционально...</td>\n",
              "      <td>[Взрослые]</td>\n",
              "      <td>5</td>\n",
              "      <td>37</td>\n",
              "      <td>...</td>\n",
              "      <td>0</td>\n",
              "      <td>1.0</td>\n",
              "      <td>0</td>\n",
              "      <td>0</td>\n",
              "      <td>0</td>\n",
              "      <td>0</td>\n",
              "      <td>[Иркутский Государственный Университет програм...</td>\n",
              "      <td>1</td>\n",
              "      <td>0</td>\n",
              "      <td>Меня зовут Спиридонова Екатерина, я психолог, ...</td>\n",
              "    </tr>\n",
              "    <tr>\n",
              "      <th>1</th>\n",
              "      <td>Анна Елисеева</td>\n",
              "      <td>10000</td>\n",
              "      <td>Санкт-Петербург</td>\n",
              "      <td>1</td>\n",
              "      <td>0</td>\n",
              "      <td>[Психоанализ, ТФП]</td>\n",
              "      <td>[Самооценка и уверенность в себе, Тяжелое физи...</td>\n",
              "      <td>[Взрослые, Люди в возрасте]</td>\n",
              "      <td>19</td>\n",
              "      <td>46</td>\n",
              "      <td>...</td>\n",
              "      <td>0</td>\n",
              "      <td>NaN</td>\n",
              "      <td>0</td>\n",
              "      <td>0</td>\n",
              "      <td>1</td>\n",
              "      <td>0</td>\n",
              "      <td>[США. Смит Колледж Клинической Социальной рабо...</td>\n",
              "      <td>1</td>\n",
              "      <td>0</td>\n",
              "      <td>Моя профессия с 2007 года – помогать людям пре...</td>\n",
              "    </tr>\n",
              "    <tr>\n",
              "      <th>2</th>\n",
              "      <td>Дарья Останкова</td>\n",
              "      <td>3950</td>\n",
              "      <td>Москва</td>\n",
              "      <td>1</td>\n",
              "      <td>0</td>\n",
              "      <td>[Гештальт-терапия, Юнгианский анализ]</td>\n",
              "      <td>[Зависимости, Отношения с партнером, Отношения...</td>\n",
              "      <td>[Взрослые]</td>\n",
              "      <td>9</td>\n",
              "      <td>40</td>\n",
              "      <td>...</td>\n",
              "      <td>0</td>\n",
              "      <td>0.0</td>\n",
              "      <td>0</td>\n",
              "      <td>0</td>\n",
              "      <td>0</td>\n",
              "      <td>0</td>\n",
              "      <td>[Московский Государственный Университет им. М....</td>\n",
              "      <td>0</td>\n",
              "      <td>0</td>\n",
              "      <td>Мой основной принцип — «Человеку нужен человек...</td>\n",
              "    </tr>\n",
              "    <tr>\n",
              "      <th>3</th>\n",
              "      <td>Анастасия Иванова</td>\n",
              "      <td>4000</td>\n",
              "      <td>Москва</td>\n",
              "      <td>1</td>\n",
              "      <td>0</td>\n",
              "      <td>[ССТ, ЭФТ]</td>\n",
              "      <td>[Самооценка и уверенность в себе, Недовольство...</td>\n",
              "      <td>[Взрослые, Семьи]</td>\n",
              "      <td>2</td>\n",
              "      <td>30</td>\n",
              "      <td>...</td>\n",
              "      <td>0</td>\n",
              "      <td>1.0</td>\n",
              "      <td>0</td>\n",
              "      <td>0</td>\n",
              "      <td>0</td>\n",
              "      <td>0</td>\n",
              "      <td>[МГУ имени М. В. Ломоносова. «Психология перег...</td>\n",
              "      <td>0</td>\n",
              "      <td>1</td>\n",
              "      <td>Помогаю обрести устойчивость в непростых жизне...</td>\n",
              "    </tr>\n",
              "    <tr>\n",
              "      <th>4</th>\n",
              "      <td>Любовь Колташова</td>\n",
              "      <td>4500</td>\n",
              "      <td>Санкт-Петербург</td>\n",
              "      <td>1</td>\n",
              "      <td>1</td>\n",
              "      <td>[Схематерапия, EMDR, КЦП]</td>\n",
              "      <td>[Самооценка и уверенность в себе, Недовольство...</td>\n",
              "      <td>[Взрослые]</td>\n",
              "      <td>8</td>\n",
              "      <td>32</td>\n",
              "      <td>...</td>\n",
              "      <td>0</td>\n",
              "      <td>0.0</td>\n",
              "      <td>0</td>\n",
              "      <td>0</td>\n",
              "      <td>1</td>\n",
              "      <td>0</td>\n",
              "      <td>[Уральский федеральный университет им Б.Н. Ель...</td>\n",
              "      <td>0</td>\n",
              "      <td>0</td>\n",
              "      <td>Психотерапия — это возможность жить ту жизнь, ...</td>\n",
              "    </tr>\n",
              "    <tr>\n",
              "      <th>5</th>\n",
              "      <td>Юлия Светличкина</td>\n",
              "      <td>6500</td>\n",
              "      <td>Самара</td>\n",
              "      <td>1</td>\n",
              "      <td>0</td>\n",
              "      <td>[Психоанализ]</td>\n",
              "      <td>[Самооценка и уверенность в себе, Отношения с ...</td>\n",
              "      <td>[Взрослые]</td>\n",
              "      <td>14</td>\n",
              "      <td>39</td>\n",
              "      <td>...</td>\n",
              "      <td>0</td>\n",
              "      <td>1.0</td>\n",
              "      <td>1</td>\n",
              "      <td>0</td>\n",
              "      <td>0</td>\n",
              "      <td>0</td>\n",
              "      <td>[Самарский Государственный Университет. Факуль...</td>\n",
              "      <td>0</td>\n",
              "      <td>0</td>\n",
              "      <td>Здравствуйте! Я, Юлия, психолог, влюбленный в ...</td>\n",
              "    </tr>\n",
              "    <tr>\n",
              "      <th>6</th>\n",
              "      <td>Мария Каллер Салас</td>\n",
              "      <td>4500</td>\n",
              "      <td>Москва</td>\n",
              "      <td>1</td>\n",
              "      <td>0</td>\n",
              "      <td>[КПТ, Психоанализ, Транзактный анализ]</td>\n",
              "      <td>[Самооценка и уверенность в себе, Эмоционально...</td>\n",
              "      <td>[Взрослые]</td>\n",
              "      <td>4</td>\n",
              "      <td>43</td>\n",
              "      <td>...</td>\n",
              "      <td>0</td>\n",
              "      <td>1.0</td>\n",
              "      <td>0</td>\n",
              "      <td>0</td>\n",
              "      <td>0</td>\n",
              "      <td>0</td>\n",
              "      <td>[МГУ Ломоносова. «Социология» - Социолог, преп...</td>\n",
              "      <td>0</td>\n",
              "      <td>0</td>\n",
              "      <td>С тех пор, как впервые психотерапия мне помогл...</td>\n",
              "    </tr>\n",
              "    <tr>\n",
              "      <th>7</th>\n",
              "      <td>Мария Минакова</td>\n",
              "      <td>4500</td>\n",
              "      <td>Москва</td>\n",
              "      <td>1</td>\n",
              "      <td>1</td>\n",
              "      <td>[Психодрама, Понимающая]</td>\n",
              "      <td>[Самооценка и уверенность в себе, Эмоционально...</td>\n",
              "      <td>[Взрослые]</td>\n",
              "      <td>15</td>\n",
              "      <td>59</td>\n",
              "      <td>...</td>\n",
              "      <td>0</td>\n",
              "      <td>1.0</td>\n",
              "      <td>1</td>\n",
              "      <td>0</td>\n",
              "      <td>0</td>\n",
              "      <td>0</td>\n",
              "      <td>[МГППУ. «Консультативная и клиническая психоло...</td>\n",
              "      <td>1</td>\n",
              "      <td>0</td>\n",
              "      <td>Своей профессиональной миссией вижу помощь чел...</td>\n",
              "    </tr>\n",
              "    <tr>\n",
              "      <th>8</th>\n",
              "      <td>Эльвира Моисеева</td>\n",
              "      <td>6000</td>\n",
              "      <td>Сочи</td>\n",
              "      <td>1</td>\n",
              "      <td>1</td>\n",
              "      <td>[КПТ, ССТ]</td>\n",
              "      <td>[Самооценка и уверенность в себе, Психические ...</td>\n",
              "      <td>[Взрослые, Семьи]</td>\n",
              "      <td>17</td>\n",
              "      <td>39</td>\n",
              "      <td>...</td>\n",
              "      <td>0</td>\n",
              "      <td>1.0</td>\n",
              "      <td>0</td>\n",
              "      <td>0</td>\n",
              "      <td>0</td>\n",
              "      <td>0</td>\n",
              "      <td>[Челябинский Государственный Педагогический ун...</td>\n",
              "      <td>0</td>\n",
              "      <td>0</td>\n",
              "      <td>Мои клиенты и коллеги характеризуют меня как б...</td>\n",
              "    </tr>\n",
              "    <tr>\n",
              "      <th>9</th>\n",
              "      <td>Елена Курдюкова</td>\n",
              "      <td>5000</td>\n",
              "      <td>Москва</td>\n",
              "      <td>1</td>\n",
              "      <td>1</td>\n",
              "      <td>[Психоанализ]</td>\n",
              "      <td>[Работа с эмоциями, Отношения с партнером, Отн...</td>\n",
              "      <td>[Взрослые]</td>\n",
              "      <td>20</td>\n",
              "      <td>40</td>\n",
              "      <td>...</td>\n",
              "      <td>0</td>\n",
              "      <td>1.0</td>\n",
              "      <td>0</td>\n",
              "      <td>0</td>\n",
              "      <td>0</td>\n",
              "      <td>0</td>\n",
              "      <td>[Российский государственный медицинский универ...</td>\n",
              "      <td>0</td>\n",
              "      <td>0</td>\n",
              "      <td>Я клинический психолог, получила образование в...</td>\n",
              "    </tr>\n",
              "    <tr>\n",
              "      <th>10</th>\n",
              "      <td>Наталья Квасова</td>\n",
              "      <td>2800</td>\n",
              "      <td>Саратов</td>\n",
              "      <td>1</td>\n",
              "      <td>0</td>\n",
              "      <td>[КПТ, Арт-терапия]</td>\n",
              "      <td>[Самооценка и уверенность в себе, Эмоционально...</td>\n",
              "      <td>[Взрослые, Люди в возрасте]</td>\n",
              "      <td>5</td>\n",
              "      <td>45</td>\n",
              "      <td>...</td>\n",
              "      <td>0</td>\n",
              "      <td>NaN</td>\n",
              "      <td>0</td>\n",
              "      <td>0</td>\n",
              "      <td>0</td>\n",
              "      <td>0</td>\n",
              "      <td>[ФГБОУ «Казанский медицинский университет». «К...</td>\n",
              "      <td>1</td>\n",
              "      <td>0</td>\n",
              "      <td>Ко мне на сессии приходят люди, когда понимают...</td>\n",
              "    </tr>\n",
              "    <tr>\n",
              "      <th>11</th>\n",
              "      <td>Надежда Синюгина</td>\n",
              "      <td>6000</td>\n",
              "      <td>Курск</td>\n",
              "      <td>1</td>\n",
              "      <td>0</td>\n",
              "      <td>[Гештальт-терапия]</td>\n",
              "      <td>[Самооценка и уверенность в себе, Эмоционально...</td>\n",
              "      <td>[Взрослые, Семьи]</td>\n",
              "      <td>10</td>\n",
              "      <td>32</td>\n",
              "      <td>...</td>\n",
              "      <td>0</td>\n",
              "      <td>0.0</td>\n",
              "      <td>0</td>\n",
              "      <td>0</td>\n",
              "      <td>1</td>\n",
              "      <td>0</td>\n",
              "      <td>[ФГБОУ ВПО «Курский государственный университе...</td>\n",
              "      <td>1</td>\n",
              "      <td>0</td>\n",
              "      <td>Я адепт здравого смысла. Имею спокойный взросл...</td>\n",
              "    </tr>\n",
              "    <tr>\n",
              "      <th>12</th>\n",
              "      <td>Марина Семечкова</td>\n",
              "      <td>2990</td>\n",
              "      <td>Москва</td>\n",
              "      <td>1</td>\n",
              "      <td>1</td>\n",
              "      <td>[КЦП, Фокусинг]</td>\n",
              "      <td>[Самооценка и уверенность в себе, Сложные пере...</td>\n",
              "      <td>[Взрослые]</td>\n",
              "      <td>8</td>\n",
              "      <td>51</td>\n",
              "      <td>...</td>\n",
              "      <td>0</td>\n",
              "      <td>1.0</td>\n",
              "      <td>0</td>\n",
              "      <td>0</td>\n",
              "      <td>0</td>\n",
              "      <td>0</td>\n",
              "      <td>[НОЧУ ВО «Московский институт психоанализа». «...</td>\n",
              "      <td>1</td>\n",
              "      <td>0</td>\n",
              "      <td>Оказывая психотерапевтическую помощь опираюсь ...</td>\n",
              "    </tr>\n",
              "    <tr>\n",
              "      <th>13</th>\n",
              "      <td>Надежда Иванова</td>\n",
              "      <td>3950</td>\n",
              "      <td>Тула</td>\n",
              "      <td>1</td>\n",
              "      <td>1</td>\n",
              "      <td>[Юнгианский анализ]</td>\n",
              "      <td>[Самооценка и уверенность в себе, Эмоционально...</td>\n",
              "      <td>[Взрослые]</td>\n",
              "      <td>15</td>\n",
              "      <td>44</td>\n",
              "      <td>...</td>\n",
              "      <td>0</td>\n",
              "      <td>1.0</td>\n",
              "      <td>0</td>\n",
              "      <td>0</td>\n",
              "      <td>0</td>\n",
              "      <td>0</td>\n",
              "      <td>[Тульский государственный педагогический униве...</td>\n",
              "      <td>1</td>\n",
              "      <td>0</td>\n",
              "      <td>Здравствуйте. Меня зовут Иванова Надежда, я кл...</td>\n",
              "    </tr>\n",
              "    <tr>\n",
              "      <th>14</th>\n",
              "      <td>Екатерина Чуприна</td>\n",
              "      <td>4000</td>\n",
              "      <td>Новосибирск</td>\n",
              "      <td>1</td>\n",
              "      <td>1</td>\n",
              "      <td>[ССТ]</td>\n",
              "      <td>[Одиночество и отсутствие отношений, Отношения...</td>\n",
              "      <td>[Взрослые, Семьи]</td>\n",
              "      <td>7</td>\n",
              "      <td>38</td>\n",
              "      <td>...</td>\n",
              "      <td>0</td>\n",
              "      <td>1.0</td>\n",
              "      <td>0</td>\n",
              "      <td>0</td>\n",
              "      <td>0</td>\n",
              "      <td>0</td>\n",
              "      <td>[Новосибирский государственный технический уни...</td>\n",
              "      <td>0</td>\n",
              "      <td>1</td>\n",
              "      <td>Приветствую тебя, Человек! Рада, что заглянул ...</td>\n",
              "    </tr>\n",
              "    <tr>\n",
              "      <th>15</th>\n",
              "      <td>Ксения Довганина</td>\n",
              "      <td>6000</td>\n",
              "      <td>Москва</td>\n",
              "      <td>1</td>\n",
              "      <td>0</td>\n",
              "      <td>[ССТ]</td>\n",
              "      <td>[Самооценка и уверенность в себе, Эмоционально...</td>\n",
              "      <td>[Взрослые]</td>\n",
              "      <td>5</td>\n",
              "      <td>30</td>\n",
              "      <td>...</td>\n",
              "      <td>0</td>\n",
              "      <td>NaN</td>\n",
              "      <td>0</td>\n",
              "      <td>0</td>\n",
              "      <td>0</td>\n",
              "      <td>0</td>\n",
              "      <td>[Институт психологического консультирования «Н...</td>\n",
              "      <td>1</td>\n",
              "      <td>0</td>\n",
              "      <td>Здравствуйте! Меня зовут Ксения, и я верю, что...</td>\n",
              "    </tr>\n",
              "    <tr>\n",
              "      <th>16</th>\n",
              "      <td>Анна Черкесова</td>\n",
              "      <td>4000</td>\n",
              "      <td>Москва</td>\n",
              "      <td>1</td>\n",
              "      <td>0</td>\n",
              "      <td>[Гештальт-терапия, Транзактный анализ]</td>\n",
              "      <td>[Работа с эмоциями, Трудный прошлый опыт, Отно...</td>\n",
              "      <td>[Взрослые, Люди в возрасте]</td>\n",
              "      <td>3</td>\n",
              "      <td>41</td>\n",
              "      <td>...</td>\n",
              "      <td>0</td>\n",
              "      <td>NaN</td>\n",
              "      <td>0</td>\n",
              "      <td>1</td>\n",
              "      <td>0</td>\n",
              "      <td>0</td>\n",
              "      <td>[Московский университет имени С. Ю. Витте. «Пс...</td>\n",
              "      <td>0</td>\n",
              "      <td>0</td>\n",
              "      <td>Меня зовут Анна, и я посвятила свою жизнь изуч...</td>\n",
              "    </tr>\n",
              "    <tr>\n",
              "      <th>17</th>\n",
              "      <td>Лила Пономарева</td>\n",
              "      <td>2850</td>\n",
              "      <td>Воронеж</td>\n",
              "      <td>1</td>\n",
              "      <td>0</td>\n",
              "      <td>[Гештальт-терапия]</td>\n",
              "      <td>[Самооценка и уверенность в себе, Одиночество ...</td>\n",
              "      <td>[Взрослые, Подростки от 16 до 18 лет]</td>\n",
              "      <td>11</td>\n",
              "      <td>52</td>\n",
              "      <td>...</td>\n",
              "      <td>0</td>\n",
              "      <td>1.0</td>\n",
              "      <td>0</td>\n",
              "      <td>0</td>\n",
              "      <td>0</td>\n",
              "      <td>0</td>\n",
              "      <td>[Воронежский институт экономики и социального ...</td>\n",
              "      <td>0</td>\n",
              "      <td>0</td>\n",
              "      <td>Приветствую! Я — психолог, гештальт-терапевт. ...</td>\n",
              "    </tr>\n",
              "    <tr>\n",
              "      <th>18</th>\n",
              "      <td>Ольга Горюшкина</td>\n",
              "      <td>7500</td>\n",
              "      <td>Москва</td>\n",
              "      <td>1</td>\n",
              "      <td>1</td>\n",
              "      <td>[КПТ, Схематерапия, Коучинг]</td>\n",
              "      <td>[Страхи, Отношения с партнером, Смысл жизни, ж...</td>\n",
              "      <td>[Взрослые]</td>\n",
              "      <td>12</td>\n",
              "      <td>38</td>\n",
              "      <td>...</td>\n",
              "      <td>0</td>\n",
              "      <td>0.0</td>\n",
              "      <td>0</td>\n",
              "      <td>0</td>\n",
              "      <td>1</td>\n",
              "      <td>0</td>\n",
              "      <td>[Московская высшая школа социальных и экономич...</td>\n",
              "      <td>1</td>\n",
              "      <td>0</td>\n",
              "      <td>Я помогаю клиентам избавиться от страхов, трев...</td>\n",
              "    </tr>\n",
              "  </tbody>\n",
              "</table>\n",
              "<p>19 rows × 21 columns</p>\n",
              "</div>\n",
              "    <div class=\"colab-df-buttons\">\n",
              "\n",
              "  <div class=\"colab-df-container\">\n",
              "    <button class=\"colab-df-convert\" onclick=\"convertToInteractive('df-e0208359-64bc-4937-b0c6-962161ed6481')\"\n",
              "            title=\"Convert this dataframe to an interactive table.\"\n",
              "            style=\"display:none;\">\n",
              "\n",
              "  <svg xmlns=\"http://www.w3.org/2000/svg\" height=\"24px\" viewBox=\"0 -960 960 960\">\n",
              "    <path d=\"M120-120v-720h720v720H120Zm60-500h600v-160H180v160Zm220 220h160v-160H400v160Zm0 220h160v-160H400v160ZM180-400h160v-160H180v160Zm440 0h160v-160H620v160ZM180-180h160v-160H180v160Zm440 0h160v-160H620v160Z\"/>\n",
              "  </svg>\n",
              "    </button>\n",
              "\n",
              "  <style>\n",
              "    .colab-df-container {\n",
              "      display:flex;\n",
              "      gap: 12px;\n",
              "    }\n",
              "\n",
              "    .colab-df-convert {\n",
              "      background-color: #E8F0FE;\n",
              "      border: none;\n",
              "      border-radius: 50%;\n",
              "      cursor: pointer;\n",
              "      display: none;\n",
              "      fill: #1967D2;\n",
              "      height: 32px;\n",
              "      padding: 0 0 0 0;\n",
              "      width: 32px;\n",
              "    }\n",
              "\n",
              "    .colab-df-convert:hover {\n",
              "      background-color: #E2EBFA;\n",
              "      box-shadow: 0px 1px 2px rgba(60, 64, 67, 0.3), 0px 1px 3px 1px rgba(60, 64, 67, 0.15);\n",
              "      fill: #174EA6;\n",
              "    }\n",
              "\n",
              "    .colab-df-buttons div {\n",
              "      margin-bottom: 4px;\n",
              "    }\n",
              "\n",
              "    [theme=dark] .colab-df-convert {\n",
              "      background-color: #3B4455;\n",
              "      fill: #D2E3FC;\n",
              "    }\n",
              "\n",
              "    [theme=dark] .colab-df-convert:hover {\n",
              "      background-color: #434B5C;\n",
              "      box-shadow: 0px 1px 3px 1px rgba(0, 0, 0, 0.15);\n",
              "      filter: drop-shadow(0px 1px 2px rgba(0, 0, 0, 0.3));\n",
              "      fill: #FFFFFF;\n",
              "    }\n",
              "  </style>\n",
              "\n",
              "    <script>\n",
              "      const buttonEl =\n",
              "        document.querySelector('#df-e0208359-64bc-4937-b0c6-962161ed6481 button.colab-df-convert');\n",
              "      buttonEl.style.display =\n",
              "        google.colab.kernel.accessAllowed ? 'block' : 'none';\n",
              "\n",
              "      async function convertToInteractive(key) {\n",
              "        const element = document.querySelector('#df-e0208359-64bc-4937-b0c6-962161ed6481');\n",
              "        const dataTable =\n",
              "          await google.colab.kernel.invokeFunction('convertToInteractive',\n",
              "                                                    [key], {});\n",
              "        if (!dataTable) return;\n",
              "\n",
              "        const docLinkHtml = 'Like what you see? Visit the ' +\n",
              "          '<a target=\"_blank\" href=https://colab.research.google.com/notebooks/data_table.ipynb>data table notebook</a>'\n",
              "          + ' to learn more about interactive tables.';\n",
              "        element.innerHTML = '';\n",
              "        dataTable['output_type'] = 'display_data';\n",
              "        await google.colab.output.renderOutput(dataTable, element);\n",
              "        const docLink = document.createElement('div');\n",
              "        docLink.innerHTML = docLinkHtml;\n",
              "        element.appendChild(docLink);\n",
              "      }\n",
              "    </script>\n",
              "  </div>\n",
              "\n",
              "\n",
              "<div id=\"df-cba148cf-6046-41e6-b3c2-acb7865b90a6\">\n",
              "  <button class=\"colab-df-quickchart\" onclick=\"quickchart('df-cba148cf-6046-41e6-b3c2-acb7865b90a6')\"\n",
              "            title=\"Suggest charts\"\n",
              "            style=\"display:none;\">\n",
              "\n",
              "<svg xmlns=\"http://www.w3.org/2000/svg\" height=\"24px\"viewBox=\"0 0 24 24\"\n",
              "     width=\"24px\">\n",
              "    <g>\n",
              "        <path d=\"M19 3H5c-1.1 0-2 .9-2 2v14c0 1.1.9 2 2 2h14c1.1 0 2-.9 2-2V5c0-1.1-.9-2-2-2zM9 17H7v-7h2v7zm4 0h-2V7h2v10zm4 0h-2v-4h2v4z\"/>\n",
              "    </g>\n",
              "</svg>\n",
              "  </button>\n",
              "\n",
              "<style>\n",
              "  .colab-df-quickchart {\n",
              "      --bg-color: #E8F0FE;\n",
              "      --fill-color: #1967D2;\n",
              "      --hover-bg-color: #E2EBFA;\n",
              "      --hover-fill-color: #174EA6;\n",
              "      --disabled-fill-color: #AAA;\n",
              "      --disabled-bg-color: #DDD;\n",
              "  }\n",
              "\n",
              "  [theme=dark] .colab-df-quickchart {\n",
              "      --bg-color: #3B4455;\n",
              "      --fill-color: #D2E3FC;\n",
              "      --hover-bg-color: #434B5C;\n",
              "      --hover-fill-color: #FFFFFF;\n",
              "      --disabled-bg-color: #3B4455;\n",
              "      --disabled-fill-color: #666;\n",
              "  }\n",
              "\n",
              "  .colab-df-quickchart {\n",
              "    background-color: var(--bg-color);\n",
              "    border: none;\n",
              "    border-radius: 50%;\n",
              "    cursor: pointer;\n",
              "    display: none;\n",
              "    fill: var(--fill-color);\n",
              "    height: 32px;\n",
              "    padding: 0;\n",
              "    width: 32px;\n",
              "  }\n",
              "\n",
              "  .colab-df-quickchart:hover {\n",
              "    background-color: var(--hover-bg-color);\n",
              "    box-shadow: 0 1px 2px rgba(60, 64, 67, 0.3), 0 1px 3px 1px rgba(60, 64, 67, 0.15);\n",
              "    fill: var(--button-hover-fill-color);\n",
              "  }\n",
              "\n",
              "  .colab-df-quickchart-complete:disabled,\n",
              "  .colab-df-quickchart-complete:disabled:hover {\n",
              "    background-color: var(--disabled-bg-color);\n",
              "    fill: var(--disabled-fill-color);\n",
              "    box-shadow: none;\n",
              "  }\n",
              "\n",
              "  .colab-df-spinner {\n",
              "    border: 2px solid var(--fill-color);\n",
              "    border-color: transparent;\n",
              "    border-bottom-color: var(--fill-color);\n",
              "    animation:\n",
              "      spin 1s steps(1) infinite;\n",
              "  }\n",
              "\n",
              "  @keyframes spin {\n",
              "    0% {\n",
              "      border-color: transparent;\n",
              "      border-bottom-color: var(--fill-color);\n",
              "      border-left-color: var(--fill-color);\n",
              "    }\n",
              "    20% {\n",
              "      border-color: transparent;\n",
              "      border-left-color: var(--fill-color);\n",
              "      border-top-color: var(--fill-color);\n",
              "    }\n",
              "    30% {\n",
              "      border-color: transparent;\n",
              "      border-left-color: var(--fill-color);\n",
              "      border-top-color: var(--fill-color);\n",
              "      border-right-color: var(--fill-color);\n",
              "    }\n",
              "    40% {\n",
              "      border-color: transparent;\n",
              "      border-right-color: var(--fill-color);\n",
              "      border-top-color: var(--fill-color);\n",
              "    }\n",
              "    60% {\n",
              "      border-color: transparent;\n",
              "      border-right-color: var(--fill-color);\n",
              "    }\n",
              "    80% {\n",
              "      border-color: transparent;\n",
              "      border-right-color: var(--fill-color);\n",
              "      border-bottom-color: var(--fill-color);\n",
              "    }\n",
              "    90% {\n",
              "      border-color: transparent;\n",
              "      border-bottom-color: var(--fill-color);\n",
              "    }\n",
              "  }\n",
              "</style>\n",
              "\n",
              "  <script>\n",
              "    async function quickchart(key) {\n",
              "      const quickchartButtonEl =\n",
              "        document.querySelector('#' + key + ' button');\n",
              "      quickchartButtonEl.disabled = true;  // To prevent multiple clicks.\n",
              "      quickchartButtonEl.classList.add('colab-df-spinner');\n",
              "      try {\n",
              "        const charts = await google.colab.kernel.invokeFunction(\n",
              "            'suggestCharts', [key], {});\n",
              "      } catch (error) {\n",
              "        console.error('Error during call to suggestCharts:', error);\n",
              "      }\n",
              "      quickchartButtonEl.classList.remove('colab-df-spinner');\n",
              "      quickchartButtonEl.classList.add('colab-df-quickchart-complete');\n",
              "    }\n",
              "    (() => {\n",
              "      let quickchartButtonEl =\n",
              "        document.querySelector('#df-cba148cf-6046-41e6-b3c2-acb7865b90a6 button');\n",
              "      quickchartButtonEl.style.display =\n",
              "        google.colab.kernel.accessAllowed ? 'block' : 'none';\n",
              "    })();\n",
              "  </script>\n",
              "</div>\n",
              "    </div>\n",
              "  </div>\n"
            ],
            "application/vnd.google.colaboratory.intrinsic+json": {
              "type": "dataframe",
              "variable_name": "df_rep"
            }
          },
          "metadata": {},
          "execution_count": 12
        }
      ]
    },
    {
      "cell_type": "markdown",
      "source": [
        "Ура!! Мы наокнец-то справились со **всеми** ссылками\n",
        "\n",
        "Записываем в итоговый файл все вместе"
      ],
      "metadata": {
        "id": "Bk-VgGoR4ql9"
      }
    },
    {
      "cell_type": "code",
      "source": [
        "df_final = pd.DataFrame(data_list + error_data)\n",
        "\n",
        "df_final.to_csv('psychologists_data.csv', index=False, encoding='utf-8')"
      ],
      "metadata": {
        "id": "lGb5QVbB4zKS"
      },
      "execution_count": null,
      "outputs": []
    },
    {
      "cell_type": "code",
      "source": [
        "df_final.shape"
      ],
      "metadata": {
        "colab": {
          "base_uri": "https://localhost:8080/"
        },
        "id": "xDh8-v8x6L8S",
        "outputId": "fa7464bf-04d3-48e8-bbbf-b4cd4d4aee2c"
      },
      "execution_count": null,
      "outputs": [
        {
          "output_type": "execute_result",
          "data": {
            "text/plain": [
              "(877, 21)"
            ]
          },
          "metadata": {},
          "execution_count": 21
        }
      ]
    },
    {
      "cell_type": "code",
      "source": [
        "df_final.to_excel('psychologists.xlsx', index=False) #просто чтобы легче было за данными подсматривать"
      ],
      "metadata": {
        "id": "TX6ORwKk6Po5"
      },
      "execution_count": null,
      "outputs": []
    },
    {
      "cell_type": "markdown",
      "source": [
        "# Проверили, что все данные на месте - слава богу!!\n",
        "\n",
        "Парсер готов, радуемся, гордимся!!😋😋😋\n",
        "\n",
        "<a href=\"https://ibb.co/WpvHwg5M\"><img src=\"https://i.ibb.co/tPpHt8Kv/IMG-5593.jpg\" alt=\"IMG-5593\" border=\"0\"></a>"
      ],
      "metadata": {
        "id": "rc8PO7gr8gNK"
      }
    }
  ]
}